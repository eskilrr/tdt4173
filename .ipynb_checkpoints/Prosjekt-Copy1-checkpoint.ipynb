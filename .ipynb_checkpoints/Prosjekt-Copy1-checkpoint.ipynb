{
 "cells": [
  {
   "cell_type": "code",
   "execution_count": 1,
   "metadata": {},
   "outputs": [],
   "source": [
    "import numpy as np \n",
    "import pandas as pd \n",
    "import seaborn as sns \n",
    "import matplotlib.pyplot as plt"
   ]
  },
  {
   "cell_type": "code",
   "execution_count": 2,
   "metadata": {
    "scrolled": true
   },
   "outputs": [
    {
     "data": {
      "text/plain": [
       "Index(['track', 'artist', 'uri', 'danceability', 'energy', 'key', 'loudness',\n",
       "       'mode', 'speechiness', 'acousticness', 'instrumentalness', 'liveness',\n",
       "       'valence', 'tempo', 'duration_ms', 'time_signature', 'chorus_hit',\n",
       "       'sections', 'target'],\n",
       "      dtype='object')"
      ]
     },
     "execution_count": 2,
     "metadata": {},
     "output_type": "execute_result"
    }
   ],
   "source": [
    "training90s = pd.read_csv('dataset-of-90s.csv')\n",
    "testing00s = pd.read_csv('dataset-of-00s.csv')\n",
    "\n",
    "%matplotlib inline\n",
    "training90s.columns"
   ]
  },
  {
   "cell_type": "code",
   "execution_count": 3,
   "metadata": {},
   "outputs": [
    {
     "data": {
      "text/plain": [
       "0                                          Misty Roses\n",
       "1                                           Never Ever\n",
       "2                                          Soul Sermon\n",
       "3                            Clarinet Marmalade - Live\n",
       "4       До смерті і довше - Drum & Base and Rock Remix\n",
       "                             ...                      \n",
       "5515                             (You're A) Go Nowhere\n",
       "5516                                La Fiebre de Norma\n",
       "5517                                        Good Times\n",
       "5518                                             Inane\n",
       "5519                You Can Make History (Young Again)\n",
       "Name: track, Length: 5520, dtype: object"
      ]
     },
     "execution_count": 3,
     "metadata": {},
     "output_type": "execute_result"
    }
   ],
   "source": [
    "#Hente ut verdier fra en kolonnoe\n",
    "training90s['track']"
   ]
  },
  {
   "cell_type": "code",
   "execution_count": 4,
   "metadata": {},
   "outputs": [
    {
     "data": {
      "text/html": [
       "<div>\n",
       "<style scoped>\n",
       "    .dataframe tbody tr th:only-of-type {\n",
       "        vertical-align: middle;\n",
       "    }\n",
       "\n",
       "    .dataframe tbody tr th {\n",
       "        vertical-align: top;\n",
       "    }\n",
       "\n",
       "    .dataframe thead th {\n",
       "        text-align: right;\n",
       "    }\n",
       "</style>\n",
       "<table border=\"1\" class=\"dataframe\">\n",
       "  <thead>\n",
       "    <tr style=\"text-align: right;\">\n",
       "      <th></th>\n",
       "      <th>track</th>\n",
       "      <th>artist</th>\n",
       "    </tr>\n",
       "  </thead>\n",
       "  <tbody>\n",
       "    <tr>\n",
       "      <th>0</th>\n",
       "      <td>Misty Roses</td>\n",
       "      <td>Astrud Gilberto</td>\n",
       "    </tr>\n",
       "    <tr>\n",
       "      <th>1</th>\n",
       "      <td>Never Ever</td>\n",
       "      <td>All Saints</td>\n",
       "    </tr>\n",
       "    <tr>\n",
       "      <th>2</th>\n",
       "      <td>Soul Sermon</td>\n",
       "      <td>Gregg Karukas</td>\n",
       "    </tr>\n",
       "    <tr>\n",
       "      <th>3</th>\n",
       "      <td>Clarinet Marmalade - Live</td>\n",
       "      <td>Alton Purnell</td>\n",
       "    </tr>\n",
       "    <tr>\n",
       "      <th>4</th>\n",
       "      <td>До смерті і довше - Drum &amp; Base and Rock Remix</td>\n",
       "      <td>Skryabin</td>\n",
       "    </tr>\n",
       "    <tr>\n",
       "      <th>...</th>\n",
       "      <td>...</td>\n",
       "      <td>...</td>\n",
       "    </tr>\n",
       "    <tr>\n",
       "      <th>5515</th>\n",
       "      <td>(You're A) Go Nowhere</td>\n",
       "      <td>Reagan Youth</td>\n",
       "    </tr>\n",
       "    <tr>\n",
       "      <th>5516</th>\n",
       "      <td>La Fiebre de Norma</td>\n",
       "      <td>La Castañeda</td>\n",
       "    </tr>\n",
       "    <tr>\n",
       "      <th>5517</th>\n",
       "      <td>Good Times</td>\n",
       "      <td>Edie Brickell</td>\n",
       "    </tr>\n",
       "    <tr>\n",
       "      <th>5518</th>\n",
       "      <td>Inane</td>\n",
       "      <td>KMFDM</td>\n",
       "    </tr>\n",
       "    <tr>\n",
       "      <th>5519</th>\n",
       "      <td>You Can Make History (Young Again)</td>\n",
       "      <td>Elton John</td>\n",
       "    </tr>\n",
       "  </tbody>\n",
       "</table>\n",
       "<p>5520 rows × 2 columns</p>\n",
       "</div>"
      ],
      "text/plain": [
       "                                               track           artist\n",
       "0                                        Misty Roses  Astrud Gilberto\n",
       "1                                         Never Ever       All Saints\n",
       "2                                        Soul Sermon    Gregg Karukas\n",
       "3                          Clarinet Marmalade - Live    Alton Purnell\n",
       "4     До смерті і довше - Drum & Base and Rock Remix         Skryabin\n",
       "...                                              ...              ...\n",
       "5515                           (You're A) Go Nowhere     Reagan Youth\n",
       "5516                              La Fiebre de Norma     La Castañeda\n",
       "5517                                      Good Times    Edie Brickell\n",
       "5518                                           Inane            KMFDM\n",
       "5519              You Can Make History (Young Again)       Elton John\n",
       "\n",
       "[5520 rows x 2 columns]"
      ]
     },
     "execution_count": 4,
     "metadata": {},
     "output_type": "execute_result"
    }
   ],
   "source": [
    "#Hent ut en dataframe med to kolonner:\n",
    "type(training90s[['track','artist']])\n",
    "training90s[['track','artist']]"
   ]
  },
  {
   "cell_type": "code",
   "execution_count": 5,
   "metadata": {},
   "outputs": [
    {
     "data": {
      "text/plain": [
       "track                                        Misty Roses\n",
       "artist                                   Astrud Gilberto\n",
       "uri                 spotify:track:50RBM1j1Dw7WYmsGsWg9Tm\n",
       "danceability                                       0.527\n",
       "energy                                             0.316\n",
       "key                                                    1\n",
       "loudness                                         -15.769\n",
       "mode                                                   1\n",
       "speechiness                                        0.031\n",
       "acousticness                                       0.693\n",
       "instrumentalness                                 0.00699\n",
       "liveness                                           0.168\n",
       "valence                                            0.543\n",
       "tempo                                            116.211\n",
       "duration_ms                                       158840\n",
       "time_signature                                         4\n",
       "chorus_hit                                       53.8952\n",
       "sections                                               6\n",
       "target                                                 0\n",
       "Name: 0, dtype: object"
      ]
     },
     "execution_count": 5,
     "metadata": {},
     "output_type": "execute_result"
    }
   ],
   "source": [
    "#Hent første raden i en dataframe:\n",
    "training90s.loc[0]"
   ]
  },
  {
   "cell_type": "code",
   "execution_count": 6,
   "metadata": {},
   "outputs": [
    {
     "data": {
      "text/html": [
       "<div>\n",
       "<style scoped>\n",
       "    .dataframe tbody tr th:only-of-type {\n",
       "        vertical-align: middle;\n",
       "    }\n",
       "\n",
       "    .dataframe tbody tr th {\n",
       "        vertical-align: top;\n",
       "    }\n",
       "\n",
       "    .dataframe thead th {\n",
       "        text-align: right;\n",
       "    }\n",
       "</style>\n",
       "<table border=\"1\" class=\"dataframe\">\n",
       "  <thead>\n",
       "    <tr style=\"text-align: right;\">\n",
       "      <th></th>\n",
       "      <th>track</th>\n",
       "      <th>artist</th>\n",
       "      <th>uri</th>\n",
       "      <th>danceability</th>\n",
       "      <th>energy</th>\n",
       "      <th>key</th>\n",
       "      <th>loudness</th>\n",
       "      <th>mode</th>\n",
       "      <th>speechiness</th>\n",
       "      <th>acousticness</th>\n",
       "      <th>instrumentalness</th>\n",
       "      <th>liveness</th>\n",
       "      <th>valence</th>\n",
       "      <th>tempo</th>\n",
       "      <th>duration_ms</th>\n",
       "      <th>time_signature</th>\n",
       "      <th>chorus_hit</th>\n",
       "      <th>sections</th>\n",
       "      <th>target</th>\n",
       "    </tr>\n",
       "  </thead>\n",
       "  <tbody>\n",
       "    <tr>\n",
       "      <th>1</th>\n",
       "      <td>Never Ever</td>\n",
       "      <td>All Saints</td>\n",
       "      <td>spotify:track:5FTz9qQ94PyUHETyAyfYZN</td>\n",
       "      <td>0.738</td>\n",
       "      <td>0.541</td>\n",
       "      <td>1</td>\n",
       "      <td>-5.485</td>\n",
       "      <td>1</td>\n",
       "      <td>0.0311</td>\n",
       "      <td>0.55900</td>\n",
       "      <td>0.000000</td>\n",
       "      <td>0.0492</td>\n",
       "      <td>0.309</td>\n",
       "      <td>134.187</td>\n",
       "      <td>387573</td>\n",
       "      <td>4</td>\n",
       "      <td>32.16853</td>\n",
       "      <td>16</td>\n",
       "      <td>1</td>\n",
       "    </tr>\n",
       "    <tr>\n",
       "      <th>6</th>\n",
       "      <td>Baby-Baby-Baby</td>\n",
       "      <td>TLC</td>\n",
       "      <td>spotify:track:1zTuB57LYZa7xu7KUH8kF0</td>\n",
       "      <td>0.679</td>\n",
       "      <td>0.597</td>\n",
       "      <td>11</td>\n",
       "      <td>-8.601</td>\n",
       "      <td>0</td>\n",
       "      <td>0.0439</td>\n",
       "      <td>0.09130</td>\n",
       "      <td>0.000673</td>\n",
       "      <td>0.0487</td>\n",
       "      <td>0.900</td>\n",
       "      <td>184.174</td>\n",
       "      <td>315040</td>\n",
       "      <td>4</td>\n",
       "      <td>20.93007</td>\n",
       "      <td>15</td>\n",
       "      <td>1</td>\n",
       "    </tr>\n",
       "    <tr>\n",
       "      <th>7</th>\n",
       "      <td>I Missed The Bus</td>\n",
       "      <td>Kris Kross</td>\n",
       "      <td>spotify:track:793gh4IXh7mQsMBhvcJRlt</td>\n",
       "      <td>0.811</td>\n",
       "      <td>0.634</td>\n",
       "      <td>4</td>\n",
       "      <td>-10.408</td>\n",
       "      <td>0</td>\n",
       "      <td>0.0714</td>\n",
       "      <td>0.00469</td>\n",
       "      <td>0.009430</td>\n",
       "      <td>0.2240</td>\n",
       "      <td>0.273</td>\n",
       "      <td>107.915</td>\n",
       "      <td>179160</td>\n",
       "      <td>4</td>\n",
       "      <td>54.78730</td>\n",
       "      <td>9</td>\n",
       "      <td>1</td>\n",
       "    </tr>\n",
       "    <tr>\n",
       "      <th>8</th>\n",
       "      <td>The Comfort Zone</td>\n",
       "      <td>Vanessa Williams</td>\n",
       "      <td>spotify:track:7okbmgA8lRBGl5limZ7LFM</td>\n",
       "      <td>0.528</td>\n",
       "      <td>0.234</td>\n",
       "      <td>3</td>\n",
       "      <td>-15.784</td>\n",
       "      <td>1</td>\n",
       "      <td>0.0283</td>\n",
       "      <td>0.64100</td>\n",
       "      <td>0.000000</td>\n",
       "      <td>0.1830</td>\n",
       "      <td>0.191</td>\n",
       "      <td>95.911</td>\n",
       "      <td>218733</td>\n",
       "      <td>4</td>\n",
       "      <td>46.33298</td>\n",
       "      <td>10</td>\n",
       "      <td>1</td>\n",
       "    </tr>\n",
       "    <tr>\n",
       "      <th>10</th>\n",
       "      <td>Black Cat</td>\n",
       "      <td>Janet Jackson</td>\n",
       "      <td>spotify:track:4tYpYYoOI7WDxbCnPninwE</td>\n",
       "      <td>0.705</td>\n",
       "      <td>0.913</td>\n",
       "      <td>4</td>\n",
       "      <td>-7.253</td>\n",
       "      <td>0</td>\n",
       "      <td>0.0484</td>\n",
       "      <td>0.10300</td>\n",
       "      <td>0.001110</td>\n",
       "      <td>0.2160</td>\n",
       "      <td>0.665</td>\n",
       "      <td>114.959</td>\n",
       "      <td>290573</td>\n",
       "      <td>4</td>\n",
       "      <td>44.28293</td>\n",
       "      <td>12</td>\n",
       "      <td>1</td>\n",
       "    </tr>\n",
       "    <tr>\n",
       "      <th>...</th>\n",
       "      <td>...</td>\n",
       "      <td>...</td>\n",
       "      <td>...</td>\n",
       "      <td>...</td>\n",
       "      <td>...</td>\n",
       "      <td>...</td>\n",
       "      <td>...</td>\n",
       "      <td>...</td>\n",
       "      <td>...</td>\n",
       "      <td>...</td>\n",
       "      <td>...</td>\n",
       "      <td>...</td>\n",
       "      <td>...</td>\n",
       "      <td>...</td>\n",
       "      <td>...</td>\n",
       "      <td>...</td>\n",
       "      <td>...</td>\n",
       "      <td>...</td>\n",
       "      <td>...</td>\n",
       "    </tr>\n",
       "    <tr>\n",
       "      <th>5512</th>\n",
       "      <td>Love Like This</td>\n",
       "      <td>Faith Evans</td>\n",
       "      <td>spotify:track:7MQywXGHEev7JmwwIzMcao</td>\n",
       "      <td>0.767</td>\n",
       "      <td>0.551</td>\n",
       "      <td>0</td>\n",
       "      <td>-7.328</td>\n",
       "      <td>1</td>\n",
       "      <td>0.0616</td>\n",
       "      <td>0.00364</td>\n",
       "      <td>0.000000</td>\n",
       "      <td>0.0451</td>\n",
       "      <td>0.796</td>\n",
       "      <td>100.904</td>\n",
       "      <td>275707</td>\n",
       "      <td>4</td>\n",
       "      <td>32.35991</td>\n",
       "      <td>11</td>\n",
       "      <td>1</td>\n",
       "    </tr>\n",
       "    <tr>\n",
       "      <th>5513</th>\n",
       "      <td>No Guns, No Murder</td>\n",
       "      <td>Rayvon</td>\n",
       "      <td>spotify:track:54zbUGqw8JRk020wLRWlHl</td>\n",
       "      <td>0.797</td>\n",
       "      <td>0.683</td>\n",
       "      <td>10</td>\n",
       "      <td>-14.299</td>\n",
       "      <td>0</td>\n",
       "      <td>0.2190</td>\n",
       "      <td>0.08160</td>\n",
       "      <td>0.000000</td>\n",
       "      <td>0.2960</td>\n",
       "      <td>0.885</td>\n",
       "      <td>97.984</td>\n",
       "      <td>277027</td>\n",
       "      <td>4</td>\n",
       "      <td>28.96569</td>\n",
       "      <td>15</td>\n",
       "      <td>1</td>\n",
       "    </tr>\n",
       "    <tr>\n",
       "      <th>5514</th>\n",
       "      <td>Deeper</td>\n",
       "      <td>Boss</td>\n",
       "      <td>spotify:track:6PZ4laM20qkvIrgji3NLsK</td>\n",
       "      <td>0.631</td>\n",
       "      <td>0.848</td>\n",
       "      <td>6</td>\n",
       "      <td>-6.435</td>\n",
       "      <td>0</td>\n",
       "      <td>0.3380</td>\n",
       "      <td>0.05500</td>\n",
       "      <td>0.000000</td>\n",
       "      <td>0.3850</td>\n",
       "      <td>0.679</td>\n",
       "      <td>83.155</td>\n",
       "      <td>241560</td>\n",
       "      <td>4</td>\n",
       "      <td>22.23523</td>\n",
       "      <td>13</td>\n",
       "      <td>1</td>\n",
       "    </tr>\n",
       "    <tr>\n",
       "      <th>5517</th>\n",
       "      <td>Good Times</td>\n",
       "      <td>Edie Brickell</td>\n",
       "      <td>spotify:track:6UPfnVoOq3y3BvapBIKs8J</td>\n",
       "      <td>0.562</td>\n",
       "      <td>0.314</td>\n",
       "      <td>10</td>\n",
       "      <td>-15.213</td>\n",
       "      <td>0</td>\n",
       "      <td>0.0298</td>\n",
       "      <td>0.44000</td>\n",
       "      <td>0.000011</td>\n",
       "      <td>0.1060</td>\n",
       "      <td>0.571</td>\n",
       "      <td>166.847</td>\n",
       "      <td>189827</td>\n",
       "      <td>4</td>\n",
       "      <td>21.11763</td>\n",
       "      <td>10</td>\n",
       "      <td>1</td>\n",
       "    </tr>\n",
       "    <tr>\n",
       "      <th>5519</th>\n",
       "      <td>You Can Make History (Young Again)</td>\n",
       "      <td>Elton John</td>\n",
       "      <td>spotify:track:3ca91BX2k7GSzEUsx1mPgI</td>\n",
       "      <td>0.664</td>\n",
       "      <td>0.739</td>\n",
       "      <td>2</td>\n",
       "      <td>-9.005</td>\n",
       "      <td>1</td>\n",
       "      <td>0.0262</td>\n",
       "      <td>0.10600</td>\n",
       "      <td>0.054200</td>\n",
       "      <td>0.3330</td>\n",
       "      <td>0.458</td>\n",
       "      <td>92.257</td>\n",
       "      <td>293973</td>\n",
       "      <td>4</td>\n",
       "      <td>42.50341</td>\n",
       "      <td>14</td>\n",
       "      <td>1</td>\n",
       "    </tr>\n",
       "  </tbody>\n",
       "</table>\n",
       "<p>2760 rows × 19 columns</p>\n",
       "</div>"
      ],
      "text/plain": [
       "                                   track            artist  \\\n",
       "1                             Never Ever        All Saints   \n",
       "6                         Baby-Baby-Baby               TLC   \n",
       "7                       I Missed The Bus        Kris Kross   \n",
       "8                       The Comfort Zone  Vanessa Williams   \n",
       "10                             Black Cat     Janet Jackson   \n",
       "...                                  ...               ...   \n",
       "5512                      Love Like This       Faith Evans   \n",
       "5513                  No Guns, No Murder            Rayvon   \n",
       "5514                              Deeper              Boss   \n",
       "5517                          Good Times     Edie Brickell   \n",
       "5519  You Can Make History (Young Again)        Elton John   \n",
       "\n",
       "                                       uri  danceability  energy  key  \\\n",
       "1     spotify:track:5FTz9qQ94PyUHETyAyfYZN         0.738   0.541    1   \n",
       "6     spotify:track:1zTuB57LYZa7xu7KUH8kF0         0.679   0.597   11   \n",
       "7     spotify:track:793gh4IXh7mQsMBhvcJRlt         0.811   0.634    4   \n",
       "8     spotify:track:7okbmgA8lRBGl5limZ7LFM         0.528   0.234    3   \n",
       "10    spotify:track:4tYpYYoOI7WDxbCnPninwE         0.705   0.913    4   \n",
       "...                                    ...           ...     ...  ...   \n",
       "5512  spotify:track:7MQywXGHEev7JmwwIzMcao         0.767   0.551    0   \n",
       "5513  spotify:track:54zbUGqw8JRk020wLRWlHl         0.797   0.683   10   \n",
       "5514  spotify:track:6PZ4laM20qkvIrgji3NLsK         0.631   0.848    6   \n",
       "5517  spotify:track:6UPfnVoOq3y3BvapBIKs8J         0.562   0.314   10   \n",
       "5519  spotify:track:3ca91BX2k7GSzEUsx1mPgI         0.664   0.739    2   \n",
       "\n",
       "      loudness  mode  speechiness  acousticness  instrumentalness  liveness  \\\n",
       "1       -5.485     1       0.0311       0.55900          0.000000    0.0492   \n",
       "6       -8.601     0       0.0439       0.09130          0.000673    0.0487   \n",
       "7      -10.408     0       0.0714       0.00469          0.009430    0.2240   \n",
       "8      -15.784     1       0.0283       0.64100          0.000000    0.1830   \n",
       "10      -7.253     0       0.0484       0.10300          0.001110    0.2160   \n",
       "...        ...   ...          ...           ...               ...       ...   \n",
       "5512    -7.328     1       0.0616       0.00364          0.000000    0.0451   \n",
       "5513   -14.299     0       0.2190       0.08160          0.000000    0.2960   \n",
       "5514    -6.435     0       0.3380       0.05500          0.000000    0.3850   \n",
       "5517   -15.213     0       0.0298       0.44000          0.000011    0.1060   \n",
       "5519    -9.005     1       0.0262       0.10600          0.054200    0.3330   \n",
       "\n",
       "      valence    tempo  duration_ms  time_signature  chorus_hit  sections  \\\n",
       "1       0.309  134.187       387573               4    32.16853        16   \n",
       "6       0.900  184.174       315040               4    20.93007        15   \n",
       "7       0.273  107.915       179160               4    54.78730         9   \n",
       "8       0.191   95.911       218733               4    46.33298        10   \n",
       "10      0.665  114.959       290573               4    44.28293        12   \n",
       "...       ...      ...          ...             ...         ...       ...   \n",
       "5512    0.796  100.904       275707               4    32.35991        11   \n",
       "5513    0.885   97.984       277027               4    28.96569        15   \n",
       "5514    0.679   83.155       241560               4    22.23523        13   \n",
       "5517    0.571  166.847       189827               4    21.11763        10   \n",
       "5519    0.458   92.257       293973               4    42.50341        14   \n",
       "\n",
       "      target  \n",
       "1          1  \n",
       "6          1  \n",
       "7          1  \n",
       "8          1  \n",
       "10         1  \n",
       "...      ...  \n",
       "5512       1  \n",
       "5513       1  \n",
       "5514       1  \n",
       "5517       1  \n",
       "5519       1  \n",
       "\n",
       "[2760 rows x 19 columns]"
      ]
     },
     "execution_count": 6,
     "metadata": {},
     "output_type": "execute_result"
    }
   ],
   "source": [
    "#Hent ut alle sanger som ble en hit, og lag en dataframe\n",
    "training90s[training90s['target'] == 1]"
   ]
  },
  {
   "cell_type": "code",
   "execution_count": 7,
   "metadata": {},
   "outputs": [
    {
     "data": {
      "text/plain": [
       "Text(0, 0.5, 'Prosent')"
      ]
     },
     "execution_count": 7,
     "metadata": {},
     "output_type": "execute_result"
    },
    {
     "data": {
      "image/png": "[encoded data removed]",
      "text/plain": [
       "<Figure size 432x288 with 1 Axes>"
      ]
     },
     "metadata": {
      "needs_background": "light"
     },
     "output_type": "display_data"
    }
   ],
   "source": [
    "#Plot fordeling av hit/ikke-hit\n",
    "hit_perc = training90s['target'].value_counts()/len(training90s)\n",
    "\n",
    "\n",
    "sns.barplot(x=hit_perc.index, y=hit_perc.values)\n",
    "plt.ylabel(\"Prosent\")"
   ]
  },
  {
   "cell_type": "code",
   "execution_count": 8,
   "metadata": {},
   "outputs": [
    {
     "data": {
      "text/plain": [
       "<AxesSubplot:xlabel='key'>"
      ]
     },
     "execution_count": 8,
     "metadata": {},
     "output_type": "execute_result"
    },
    {
     "data": {
      "image/png": "[encoded data removed]",
      "text/plain": [
       "<Figure size 432x288 with 1 Axes>"
      ]
     },
     "metadata": {
      "needs_background": "light"
     },
     "output_type": "display_data"
    }
   ],
   "source": [
    "#Hvor stor andel av de ulike \"keys\" blir en hit?\n",
    "key_hits = training90s[['key','target']].groupby('key').mean()\n",
    "\n",
    "sns.barplot(x=key_hits.index , y=key_hits.values[:,0])"
   ]
  },
  {
   "cell_type": "code",
   "execution_count": 9,
   "metadata": {},
   "outputs": [
    {
     "data": {
      "image/png": "[encoded data removed]",
      "text/plain": [
       "<Figure size 432x288 with 1 Axes>"
      ]
     },
     "metadata": {
      "needs_background": "light"
     },
     "output_type": "display_data"
    },
    {
     "data": {
      "image/png": "[encoded data removed]",
      "text/plain": [
       "<Figure size 432x288 with 1 Axes>"
      ]
     },
     "metadata": {
      "needs_background": "light"
     },
     "output_type": "display_data"
    },
    {
     "data": {
      "image/png": "[encoded data removed]",
      "text/plain": [
       "<Figure size 432x288 with 1 Axes>"
      ]
     },
     "metadata": {
      "needs_background": "light"
     },
     "output_type": "display_data"
    },
    {
     "data": {
      "image/png": "[encoded data removed]",
      "text/plain": [
       "<Figure size 432x288 with 1 Axes>"
      ]
     },
     "metadata": {
      "needs_background": "light"
     },
     "output_type": "display_data"
    },
    {
     "data": {
      "image/png": "[encoded data removed]",
      "text/plain": [
       "<Figure size 432x288 with 1 Axes>"
      ]
     },
     "metadata": {
      "needs_background": "light"
     },
     "output_type": "display_data"
    },
    {
     "data": {
      "image/png": "[encoded data removed]",
      "text/plain": [
       "<Figure size 432x288 with 1 Axes>"
      ]
     },
     "metadata": {
      "needs_background": "light"
     },
     "output_type": "display_data"
    },
    {
     "data": {
      "image/png": "[encoded data removed]",
      "text/plain": [
       "<Figure size 432x288 with 1 Axes>"
      ]
     },
     "metadata": {
      "needs_background": "light"
     },
     "output_type": "display_data"
    },
    {
     "data": {
      "image/png": "[encoded data removed]",
      "text/plain": [
       "<Figure size 432x288 with 1 Axes>"
      ]
     },
     "metadata": {
      "needs_background": "light"
     },
     "output_type": "display_data"
    },
    {
     "data": {
      "image/png": "[encoded data removed]",
      "text/plain": [
       "<Figure size 432x288 with 1 Axes>"
      ]
     },
     "metadata": {
      "needs_background": "light"
     },
     "output_type": "display_data"
    },
    {
     "data": {
      "image/png": "[encoded data removed]",
      "text/plain": [
       "<Figure size 432x288 with 1 Axes>"
      ]
     },
     "metadata": {
      "needs_background": "light"
     },
     "output_type": "display_data"
    },
    {
     "data": {
      "image/png": "[encoded data removed]",
      "text/plain": [
       "<Figure size 432x288 with 1 Axes>"
      ]
     },
     "metadata": {
      "needs_background": "light"
     },
     "output_type": "display_data"
    },
    {
     "data": {
      "image/png": "[encoded data removed]",
      "text/plain": [
       "<Figure size 432x288 with 1 Axes>"
      ]
     },
     "metadata": {
      "needs_background": "light"
     },
     "output_type": "display_data"
    },
    {
     "data": {
      "image/png": "[encoded data removed]",
      "text/plain": [
       "<Figure size 432x288 with 1 Axes>"
      ]
     },
     "metadata": {
      "needs_background": "light"
     },
     "output_type": "display_data"
    }
   ],
   "source": [
    "df_num = training90s[['target','duration_ms','chorus_hit','tempo','danceability',\n",
    "                      'energy','key','mode', 'speechiness', 'acousticness', 'instrumentalness',\n",
    "                     'liveness','valence']]\n",
    "\n",
    "for i in df_num.columns:\n",
    "    plt.hist(df_num[i])\n",
    "    plt.title(i)\n",
    "    plt.show()"
   ]
  },
  {
   "cell_type": "code",
   "execution_count": 10,
   "metadata": {},
   "outputs": [
    {
     "name": "stdout",
     "output_type": "stream",
     "text": [
      "                  danceability    energy       key  loudness      mode  \\\n",
      "danceability          1.000000  0.131832  0.022007  0.254667 -0.087036   \n",
      "energy                0.131832  1.000000  0.014851  0.759737 -0.024272   \n",
      "key                   0.022007  0.014851  1.000000  0.001529 -0.168842   \n",
      "loudness              0.254667  0.759737  0.001529  1.000000  0.007851   \n",
      "mode                 -0.087036 -0.024272 -0.168842  0.007851  1.000000   \n",
      "speechiness           0.206994  0.106341  0.032672  0.051483 -0.070268   \n",
      "acousticness         -0.218565 -0.717006 -0.026502 -0.585624  0.041464   \n",
      "instrumentalness     -0.337346 -0.221905 -0.041967 -0.397282 -0.043362   \n",
      "liveness             -0.097924  0.173991 -0.018231  0.080700  0.004788   \n",
      "valence               0.548994  0.382065  0.012472  0.315454 -0.025817   \n",
      "tempo                -0.164141  0.168759 -0.031968  0.119479  0.020958   \n",
      "duration_ms          -0.065589 -0.097639  0.002333 -0.127918 -0.084847   \n",
      "time_signature        0.178748  0.196475 -0.000061  0.173517 -0.016843   \n",
      "chorus_hit           -0.035723 -0.003553  0.020073 -0.008320 -0.010660   \n",
      "sections             -0.077472 -0.157240 -0.003949 -0.175665 -0.075494   \n",
      "target                0.453966  0.219283  0.053454  0.334691 -0.018487   \n",
      "\n",
      "                  speechiness  acousticness  instrumentalness  liveness  \\\n",
      "danceability         0.206994     -0.218565         -0.337346 -0.097924   \n",
      "energy               0.106341     -0.717006         -0.221905  0.173991   \n",
      "key                  0.032672     -0.026502         -0.041967 -0.018231   \n",
      "loudness             0.051483     -0.585624         -0.397282  0.080700   \n",
      "mode                -0.070268      0.041464         -0.043362  0.004788   \n",
      "speechiness          1.000000     -0.094074         -0.098705  0.164986   \n",
      "acousticness        -0.094074      1.000000          0.267370 -0.046882   \n",
      "instrumentalness    -0.098705      0.267370          1.000000 -0.022999   \n",
      "liveness             0.164986     -0.046882         -0.022999  1.000000   \n",
      "valence              0.075358     -0.243543         -0.226985  0.012929   \n",
      "tempo               -0.017372     -0.124337          0.002866  0.022444   \n",
      "duration_ms         -0.041354      0.018445          0.079972 -0.013903   \n",
      "time_signature       0.013750     -0.177007         -0.098224  0.008246   \n",
      "chorus_hit           0.002761      0.012448          0.064807  0.073042   \n",
      "sections            -0.055689      0.082056          0.067846 -0.048914   \n",
      "target               0.050704     -0.374949         -0.427337 -0.102237   \n",
      "\n",
      "                   valence     tempo  duration_ms  time_signature  chorus_hit  \\\n",
      "danceability      0.548994 -0.164141    -0.065589        0.178748   -0.035723   \n",
      "energy            0.382065  0.168759    -0.097639        0.196475   -0.003553   \n",
      "key               0.012472 -0.031968     0.002333       -0.000061    0.020073   \n",
      "loudness          0.315454  0.119479    -0.127918        0.173517   -0.008320   \n",
      "mode             -0.025817  0.020958    -0.084847       -0.016843   -0.010660   \n",
      "speechiness       0.075358 -0.017372    -0.041354        0.013750    0.002761   \n",
      "acousticness     -0.243543 -0.124337     0.018445       -0.177007    0.012448   \n",
      "instrumentalness -0.226985  0.002866     0.079972       -0.098224    0.064807   \n",
      "liveness          0.012929  0.022444    -0.013903        0.008246    0.073042   \n",
      "valence           1.000000  0.070293    -0.222331        0.168490   -0.032888   \n",
      "tempo             0.070293  1.000000    -0.072630       -0.019660   -0.056417   \n",
      "duration_ms      -0.222331 -0.072630     1.000000       -0.005550    0.088797   \n",
      "time_signature    0.168490 -0.019660    -0.005550        1.000000   -0.007156   \n",
      "chorus_hit       -0.032888 -0.056417     0.088797       -0.007156    1.000000   \n",
      "sections         -0.198113 -0.006976     0.867644       -0.016274   -0.130745   \n",
      "target            0.170499 -0.035056     0.072873        0.114015   -0.049170   \n",
      "\n",
      "                  sections    target  \n",
      "danceability     -0.077472  0.453966  \n",
      "energy           -0.157240  0.219283  \n",
      "key              -0.003949  0.053454  \n",
      "loudness         -0.175665  0.334691  \n",
      "mode             -0.075494 -0.018487  \n",
      "speechiness      -0.055689  0.050704  \n",
      "acousticness      0.082056 -0.374949  \n",
      "instrumentalness  0.067846 -0.427337  \n",
      "liveness         -0.048914 -0.102237  \n",
      "valence          -0.198113  0.170499  \n",
      "tempo            -0.006976 -0.035056  \n",
      "duration_ms       0.867644  0.072873  \n",
      "time_signature   -0.016274  0.114015  \n",
      "chorus_hit       -0.130745 -0.049170  \n",
      "sections          1.000000  0.044678  \n",
      "target            0.044678  1.000000  \n"
     ]
    },
    {
     "data": {
      "text/plain": [
       "<AxesSubplot:>"
      ]
     },
     "execution_count": 10,
     "metadata": {},
     "output_type": "execute_result"
    },
    {
     "data": {
      "image/png": "[encoded data removed]",
      "text/plain": [
       "<Figure size 432x288 with 2 Axes>"
      ]
     },
     "metadata": {
      "needs_background": "light"
     },
     "output_type": "display_data"
    }
   ],
   "source": [
    "print(training90s.corr())\n",
    "sns.heatmap(training90s.corr())"
   ]
  },
  {
   "cell_type": "code",
   "execution_count": 11,
   "metadata": {},
   "outputs": [
    {
     "name": "stdout",
     "output_type": "stream",
     "text": [
      "(5520, 19)\n",
      "<class 'pandas.core.frame.DataFrame'>\n",
      "RangeIndex: 5520 entries, 0 to 5519\n",
      "Data columns (total 19 columns):\n",
      " #   Column            Non-Null Count  Dtype  \n",
      "---  ------            --------------  -----  \n",
      " 0   track             5520 non-null   object \n",
      " 1   artist            5520 non-null   object \n",
      " 2   uri               5520 non-null   object \n",
      " 3   danceability      5520 non-null   float64\n",
      " 4   energy            5520 non-null   float64\n",
      " 5   key               5520 non-null   int64  \n",
      " 6   loudness          5520 non-null   float64\n",
      " 7   mode              5520 non-null   int64  \n",
      " 8   speechiness       5520 non-null   float64\n",
      " 9   acousticness      5520 non-null   float64\n",
      " 10  instrumentalness  5520 non-null   float64\n",
      " 11  liveness          5520 non-null   float64\n",
      " 12  valence           5520 non-null   float64\n",
      " 13  tempo             5520 non-null   float64\n",
      " 14  duration_ms       5520 non-null   int64  \n",
      " 15  time_signature    5520 non-null   int64  \n",
      " 16  chorus_hit        5520 non-null   float64\n",
      " 17  sections          5520 non-null   int64  \n",
      " 18  target            5520 non-null   int64  \n",
      "dtypes: float64(10), int64(6), object(3)\n",
      "memory usage: 754.8+ KB\n"
     ]
    }
   ],
   "source": [
    "print(training90s.shape)\n",
    "training90s.info()"
   ]
  },
  {
   "cell_type": "code",
   "execution_count": 12,
   "metadata": {},
   "outputs": [
    {
     "data": {
      "text/html": [
       "<div>\n",
       "<style scoped>\n",
       "    .dataframe tbody tr th:only-of-type {\n",
       "        vertical-align: middle;\n",
       "    }\n",
       "\n",
       "    .dataframe tbody tr th {\n",
       "        vertical-align: top;\n",
       "    }\n",
       "\n",
       "    .dataframe thead th {\n",
       "        text-align: right;\n",
       "    }\n",
       "</style>\n",
       "<table border=\"1\" class=\"dataframe\">\n",
       "  <thead>\n",
       "    <tr style=\"text-align: right;\">\n",
       "      <th></th>\n",
       "      <th>danceability</th>\n",
       "      <th>energy</th>\n",
       "      <th>key</th>\n",
       "      <th>loudness</th>\n",
       "      <th>mode</th>\n",
       "      <th>speechiness</th>\n",
       "      <th>acousticness</th>\n",
       "      <th>instrumentalness</th>\n",
       "      <th>liveness</th>\n",
       "      <th>valence</th>\n",
       "      <th>tempo</th>\n",
       "      <th>duration_ms</th>\n",
       "      <th>time_signature</th>\n",
       "      <th>chorus_hit</th>\n",
       "      <th>sections</th>\n",
       "      <th>target</th>\n",
       "    </tr>\n",
       "  </thead>\n",
       "  <tbody>\n",
       "    <tr>\n",
       "      <th>count</th>\n",
       "      <td>5520.000000</td>\n",
       "      <td>5520.000000</td>\n",
       "      <td>5520.000000</td>\n",
       "      <td>5520.000000</td>\n",
       "      <td>5520.000000</td>\n",
       "      <td>5520.000000</td>\n",
       "      <td>5520.00000</td>\n",
       "      <td>5520.000000</td>\n",
       "      <td>5520.000000</td>\n",
       "      <td>5520.000000</td>\n",
       "      <td>5520.000000</td>\n",
       "      <td>5.520000e+03</td>\n",
       "      <td>5520.000000</td>\n",
       "      <td>5520.000000</td>\n",
       "      <td>5520.000000</td>\n",
       "      <td>5520.000000</td>\n",
       "    </tr>\n",
       "    <tr>\n",
       "      <th>mean</th>\n",
       "      <td>0.566893</td>\n",
       "      <td>0.602246</td>\n",
       "      <td>5.263043</td>\n",
       "      <td>-10.235112</td>\n",
       "      <td>0.669565</td>\n",
       "      <td>0.073996</td>\n",
       "      <td>0.29122</td>\n",
       "      <td>0.159886</td>\n",
       "      <td>0.197202</td>\n",
       "      <td>0.537685</td>\n",
       "      <td>118.840424</td>\n",
       "      <td>2.562110e+05</td>\n",
       "      <td>3.922464</td>\n",
       "      <td>40.999358</td>\n",
       "      <td>11.128261</td>\n",
       "      <td>0.500000</td>\n",
       "    </tr>\n",
       "    <tr>\n",
       "      <th>std</th>\n",
       "      <td>0.180373</td>\n",
       "      <td>0.252189</td>\n",
       "      <td>3.511379</td>\n",
       "      <td>5.117146</td>\n",
       "      <td>0.470412</td>\n",
       "      <td>0.081979</td>\n",
       "      <td>0.32463</td>\n",
       "      <td>0.304407</td>\n",
       "      <td>0.174573</td>\n",
       "      <td>0.257688</td>\n",
       "      <td>29.489480</td>\n",
       "      <td>1.034398e+05</td>\n",
       "      <td>0.352768</td>\n",
       "      <td>19.941630</td>\n",
       "      <td>4.485026</td>\n",
       "      <td>0.500045</td>\n",
       "    </tr>\n",
       "    <tr>\n",
       "      <th>min</th>\n",
       "      <td>0.057600</td>\n",
       "      <td>0.000357</td>\n",
       "      <td>0.000000</td>\n",
       "      <td>-49.253000</td>\n",
       "      <td>0.000000</td>\n",
       "      <td>0.022000</td>\n",
       "      <td>0.00000</td>\n",
       "      <td>0.000000</td>\n",
       "      <td>0.013000</td>\n",
       "      <td>0.000000</td>\n",
       "      <td>34.535000</td>\n",
       "      <td>1.953300e+04</td>\n",
       "      <td>1.000000</td>\n",
       "      <td>0.000000</td>\n",
       "      <td>1.000000</td>\n",
       "      <td>0.000000</td>\n",
       "    </tr>\n",
       "    <tr>\n",
       "      <th>25%</th>\n",
       "      <td>0.451000</td>\n",
       "      <td>0.435000</td>\n",
       "      <td>2.000000</td>\n",
       "      <td>-12.207250</td>\n",
       "      <td>0.000000</td>\n",
       "      <td>0.033100</td>\n",
       "      <td>0.01800</td>\n",
       "      <td>0.000000</td>\n",
       "      <td>0.089675</td>\n",
       "      <td>0.330000</td>\n",
       "      <td>96.422000</td>\n",
       "      <td>2.027532e+05</td>\n",
       "      <td>4.000000</td>\n",
       "      <td>28.065100</td>\n",
       "      <td>9.000000</td>\n",
       "      <td>0.000000</td>\n",
       "    </tr>\n",
       "    <tr>\n",
       "      <th>50%</th>\n",
       "      <td>0.586000</td>\n",
       "      <td>0.634500</td>\n",
       "      <td>5.000000</td>\n",
       "      <td>-9.091000</td>\n",
       "      <td>1.000000</td>\n",
       "      <td>0.043200</td>\n",
       "      <td>0.14000</td>\n",
       "      <td>0.000228</td>\n",
       "      <td>0.127000</td>\n",
       "      <td>0.556000</td>\n",
       "      <td>114.959000</td>\n",
       "      <td>2.467200e+05</td>\n",
       "      <td>4.000000</td>\n",
       "      <td>36.512680</td>\n",
       "      <td>11.000000</td>\n",
       "      <td>0.500000</td>\n",
       "    </tr>\n",
       "    <tr>\n",
       "      <th>75%</th>\n",
       "      <td>0.699000</td>\n",
       "      <td>0.811000</td>\n",
       "      <td>8.000000</td>\n",
       "      <td>-6.893750</td>\n",
       "      <td>1.000000</td>\n",
       "      <td>0.072825</td>\n",
       "      <td>0.52725</td>\n",
       "      <td>0.091375</td>\n",
       "      <td>0.259000</td>\n",
       "      <td>0.751000</td>\n",
       "      <td>135.988000</td>\n",
       "      <td>2.899070e+05</td>\n",
       "      <td>4.000000</td>\n",
       "      <td>48.628155</td>\n",
       "      <td>13.000000</td>\n",
       "      <td>1.000000</td>\n",
       "    </tr>\n",
       "    <tr>\n",
       "      <th>max</th>\n",
       "      <td>0.979000</td>\n",
       "      <td>0.998000</td>\n",
       "      <td>11.000000</td>\n",
       "      <td>-1.169000</td>\n",
       "      <td>1.000000</td>\n",
       "      <td>0.950000</td>\n",
       "      <td>0.99600</td>\n",
       "      <td>0.997000</td>\n",
       "      <td>0.992000</td>\n",
       "      <td>0.996000</td>\n",
       "      <td>217.943000</td>\n",
       "      <td>1.711800e+06</td>\n",
       "      <td>5.000000</td>\n",
       "      <td>235.060740</td>\n",
       "      <td>69.000000</td>\n",
       "      <td>1.000000</td>\n",
       "    </tr>\n",
       "  </tbody>\n",
       "</table>\n",
       "</div>"
      ],
      "text/plain": [
       "       danceability       energy          key     loudness         mode  \\\n",
       "count   5520.000000  5520.000000  5520.000000  5520.000000  5520.000000   \n",
       "mean       0.566893     0.602246     5.263043   -10.235112     0.669565   \n",
       "std        0.180373     0.252189     3.511379     5.117146     0.470412   \n",
       "min        0.057600     0.000357     0.000000   -49.253000     0.000000   \n",
       "25%        0.451000     0.435000     2.000000   -12.207250     0.000000   \n",
       "50%        0.586000     0.634500     5.000000    -9.091000     1.000000   \n",
       "75%        0.699000     0.811000     8.000000    -6.893750     1.000000   \n",
       "max        0.979000     0.998000    11.000000    -1.169000     1.000000   \n",
       "\n",
       "       speechiness  acousticness  instrumentalness     liveness      valence  \\\n",
       "count  5520.000000    5520.00000       5520.000000  5520.000000  5520.000000   \n",
       "mean      0.073996       0.29122          0.159886     0.197202     0.537685   \n",
       "std       0.081979       0.32463          0.304407     0.174573     0.257688   \n",
       "min       0.022000       0.00000          0.000000     0.013000     0.000000   \n",
       "25%       0.033100       0.01800          0.000000     0.089675     0.330000   \n",
       "50%       0.043200       0.14000          0.000228     0.127000     0.556000   \n",
       "75%       0.072825       0.52725          0.091375     0.259000     0.751000   \n",
       "max       0.950000       0.99600          0.997000     0.992000     0.996000   \n",
       "\n",
       "             tempo   duration_ms  time_signature   chorus_hit     sections  \\\n",
       "count  5520.000000  5.520000e+03     5520.000000  5520.000000  5520.000000   \n",
       "mean    118.840424  2.562110e+05        3.922464    40.999358    11.128261   \n",
       "std      29.489480  1.034398e+05        0.352768    19.941630     4.485026   \n",
       "min      34.535000  1.953300e+04        1.000000     0.000000     1.000000   \n",
       "25%      96.422000  2.027532e+05        4.000000    28.065100     9.000000   \n",
       "50%     114.959000  2.467200e+05        4.000000    36.512680    11.000000   \n",
       "75%     135.988000  2.899070e+05        4.000000    48.628155    13.000000   \n",
       "max     217.943000  1.711800e+06        5.000000   235.060740    69.000000   \n",
       "\n",
       "            target  \n",
       "count  5520.000000  \n",
       "mean      0.500000  \n",
       "std       0.500045  \n",
       "min       0.000000  \n",
       "25%       0.000000  \n",
       "50%       0.500000  \n",
       "75%       1.000000  \n",
       "max       1.000000  "
      ]
     },
     "execution_count": 12,
     "metadata": {},
     "output_type": "execute_result"
    }
   ],
   "source": [
    "training90s.describe()"
   ]
  },
  {
   "cell_type": "code",
   "execution_count": 13,
   "metadata": {},
   "outputs": [
    {
     "data": {
      "text/html": [
       "<div>\n",
       "<style scoped>\n",
       "    .dataframe tbody tr th:only-of-type {\n",
       "        vertical-align: middle;\n",
       "    }\n",
       "\n",
       "    .dataframe tbody tr th {\n",
       "        vertical-align: top;\n",
       "    }\n",
       "\n",
       "    .dataframe thead th {\n",
       "        text-align: right;\n",
       "    }\n",
       "</style>\n",
       "<table border=\"1\" class=\"dataframe\">\n",
       "  <thead>\n",
       "    <tr style=\"text-align: right;\">\n",
       "      <th></th>\n",
       "      <th>acousticness</th>\n",
       "      <th>chorus_hit</th>\n",
       "      <th>danceability</th>\n",
       "      <th>duration_ms</th>\n",
       "      <th>energy</th>\n",
       "      <th>instrumentalness</th>\n",
       "      <th>key</th>\n",
       "      <th>liveness</th>\n",
       "      <th>mode</th>\n",
       "      <th>speechiness</th>\n",
       "      <th>tempo</th>\n",
       "      <th>valence</th>\n",
       "    </tr>\n",
       "    <tr>\n",
       "      <th>target</th>\n",
       "      <th></th>\n",
       "      <th></th>\n",
       "      <th></th>\n",
       "      <th></th>\n",
       "      <th></th>\n",
       "      <th></th>\n",
       "      <th></th>\n",
       "      <th></th>\n",
       "      <th></th>\n",
       "      <th></th>\n",
       "      <th></th>\n",
       "      <th></th>\n",
       "    </tr>\n",
       "  </thead>\n",
       "  <tbody>\n",
       "    <tr>\n",
       "      <th>0</th>\n",
       "      <td>0.412928</td>\n",
       "      <td>41.979795</td>\n",
       "      <td>0.485017</td>\n",
       "      <td>248673.717391</td>\n",
       "      <td>0.546950</td>\n",
       "      <td>0.289959</td>\n",
       "      <td>5.075362</td>\n",
       "      <td>0.215048</td>\n",
       "      <td>0.678261</td>\n",
       "      <td>0.069840</td>\n",
       "      <td>119.874108</td>\n",
       "      <td>0.493754</td>\n",
       "    </tr>\n",
       "    <tr>\n",
       "      <th>1</th>\n",
       "      <td>0.169511</td>\n",
       "      <td>40.018922</td>\n",
       "      <td>0.648769</td>\n",
       "      <td>263748.270652</td>\n",
       "      <td>0.657542</td>\n",
       "      <td>0.029814</td>\n",
       "      <td>5.450725</td>\n",
       "      <td>0.179356</td>\n",
       "      <td>0.660870</td>\n",
       "      <td>0.078152</td>\n",
       "      <td>117.806741</td>\n",
       "      <td>0.581617</td>\n",
       "    </tr>\n",
       "  </tbody>\n",
       "</table>\n",
       "</div>"
      ],
      "text/plain": [
       "        acousticness  chorus_hit  danceability    duration_ms    energy  \\\n",
       "target                                                                    \n",
       "0           0.412928   41.979795      0.485017  248673.717391  0.546950   \n",
       "1           0.169511   40.018922      0.648769  263748.270652  0.657542   \n",
       "\n",
       "        instrumentalness       key  liveness      mode  speechiness  \\\n",
       "target                                                                \n",
       "0               0.289959  5.075362  0.215048  0.678261     0.069840   \n",
       "1               0.029814  5.450725  0.179356  0.660870     0.078152   \n",
       "\n",
       "             tempo   valence  \n",
       "target                        \n",
       "0       119.874108  0.493754  \n",
       "1       117.806741  0.581617  "
      ]
     },
     "execution_count": 13,
     "metadata": {},
     "output_type": "execute_result"
    }
   ],
   "source": [
    "pd.pivot_table(training90s, index=\"target\", values = ['duration_ms','chorus_hit','tempo','danceability',\n",
    "                      'energy','key','mode', 'speechiness', 'acousticness', 'instrumentalness',\n",
    "                     'liveness','valence'])"
   ]
  },
  {
   "cell_type": "code",
   "execution_count": 14,
   "metadata": {},
   "outputs": [
    {
     "name": "stdout",
     "output_type": "stream",
     "text": [
      "key      0    1    2    3    4    5    6    7    8    9    10   11\n",
      "target                                                            \n",
      "0       362  193  337  123  222  255  138  362  135  319  158  156\n",
      "1       284  298  226   71  201  234  235  347  178  244  214  228\n"
     ]
    }
   ],
   "source": [
    "print(pd.pivot_table(training90s, index = 'target', columns = 'key', values = 'tempo' ,aggfunc ='count'))"
   ]
  },
  {
   "cell_type": "code",
   "execution_count": 15,
   "metadata": {},
   "outputs": [
    {
     "data": {
      "text/plain": [
       "<AxesSubplot:xlabel='tempo', ylabel='danceability'>"
      ]
     },
     "execution_count": 15,
     "metadata": {},
     "output_type": "execute_result"
    },
    {
     "data": {
      "image/png": "[encoded data removed]",
      "text/plain": [
       "<Figure size 432x288 with 1 Axes>"
      ]
     },
     "metadata": {
      "needs_background": "light"
     },
     "output_type": "display_data"
    }
   ],
   "source": [
    "training90s.head()\n",
    "sns.scatterplot(x='tempo',y='danceability', data =training90s,hue='target')\n"
   ]
  },
  {
   "cell_type": "code",
   "execution_count": 16,
   "metadata": {},
   "outputs": [],
   "source": [
    "#https://seaborn.pydata.org/generated/seaborn.scatterplot.html\n",
    "#Ikke så dumt å bare plotte alt\n",
    "#for i in df_num.columns:\n",
    "    #for j in df_num.columns:\n",
    "        #sns.scatterplot(x=i ,y=j, data =training90s,hue='target')\n",
    "        #plt.show()"
   ]
  },
  {
   "cell_type": "code",
   "execution_count": 17,
   "metadata": {},
   "outputs": [
    {
     "data": {
      "text/html": [
       "<div>\n",
       "<style scoped>\n",
       "    .dataframe tbody tr th:only-of-type {\n",
       "        vertical-align: middle;\n",
       "    }\n",
       "\n",
       "    .dataframe tbody tr th {\n",
       "        vertical-align: top;\n",
       "    }\n",
       "\n",
       "    .dataframe thead th {\n",
       "        text-align: right;\n",
       "    }\n",
       "</style>\n",
       "<table border=\"1\" class=\"dataframe\">\n",
       "  <thead>\n",
       "    <tr style=\"text-align: right;\">\n",
       "      <th></th>\n",
       "      <th>danceability</th>\n",
       "      <th>energy</th>\n",
       "      <th>key</th>\n",
       "      <th>loudness</th>\n",
       "      <th>mode</th>\n",
       "      <th>speechiness</th>\n",
       "      <th>acousticness</th>\n",
       "      <th>instrumentalness</th>\n",
       "      <th>liveness</th>\n",
       "      <th>valence</th>\n",
       "      <th>tempo</th>\n",
       "      <th>duration_ms</th>\n",
       "      <th>time_signature</th>\n",
       "      <th>chorus_hit</th>\n",
       "      <th>sections</th>\n",
       "      <th>target</th>\n",
       "    </tr>\n",
       "  </thead>\n",
       "  <tbody>\n",
       "    <tr>\n",
       "      <th>0</th>\n",
       "      <td>0.527</td>\n",
       "      <td>0.316</td>\n",
       "      <td>1</td>\n",
       "      <td>-15.769</td>\n",
       "      <td>1</td>\n",
       "      <td>0.0310</td>\n",
       "      <td>0.693000</td>\n",
       "      <td>0.00699</td>\n",
       "      <td>0.1680</td>\n",
       "      <td>0.543</td>\n",
       "      <td>116.211</td>\n",
       "      <td>158840</td>\n",
       "      <td>4</td>\n",
       "      <td>53.89523</td>\n",
       "      <td>6</td>\n",
       "      <td>0</td>\n",
       "    </tr>\n",
       "    <tr>\n",
       "      <th>1</th>\n",
       "      <td>0.738</td>\n",
       "      <td>0.541</td>\n",
       "      <td>1</td>\n",
       "      <td>-5.485</td>\n",
       "      <td>1</td>\n",
       "      <td>0.0311</td>\n",
       "      <td>0.559000</td>\n",
       "      <td>0.00000</td>\n",
       "      <td>0.0492</td>\n",
       "      <td>0.309</td>\n",
       "      <td>134.187</td>\n",
       "      <td>387573</td>\n",
       "      <td>4</td>\n",
       "      <td>32.16853</td>\n",
       "      <td>16</td>\n",
       "      <td>1</td>\n",
       "    </tr>\n",
       "    <tr>\n",
       "      <th>2</th>\n",
       "      <td>0.736</td>\n",
       "      <td>0.419</td>\n",
       "      <td>0</td>\n",
       "      <td>-10.662</td>\n",
       "      <td>1</td>\n",
       "      <td>0.0300</td>\n",
       "      <td>0.693000</td>\n",
       "      <td>0.49500</td>\n",
       "      <td>0.0809</td>\n",
       "      <td>0.265</td>\n",
       "      <td>93.982</td>\n",
       "      <td>237267</td>\n",
       "      <td>4</td>\n",
       "      <td>42.05369</td>\n",
       "      <td>9</td>\n",
       "      <td>0</td>\n",
       "    </tr>\n",
       "    <tr>\n",
       "      <th>3</th>\n",
       "      <td>0.565</td>\n",
       "      <td>0.594</td>\n",
       "      <td>5</td>\n",
       "      <td>-13.086</td>\n",
       "      <td>1</td>\n",
       "      <td>0.0646</td>\n",
       "      <td>0.655000</td>\n",
       "      <td>0.92600</td>\n",
       "      <td>0.6750</td>\n",
       "      <td>0.763</td>\n",
       "      <td>114.219</td>\n",
       "      <td>375933</td>\n",
       "      <td>4</td>\n",
       "      <td>80.99693</td>\n",
       "      <td>10</td>\n",
       "      <td>0</td>\n",
       "    </tr>\n",
       "    <tr>\n",
       "      <th>4</th>\n",
       "      <td>0.513</td>\n",
       "      <td>0.760</td>\n",
       "      <td>4</td>\n",
       "      <td>-10.077</td>\n",
       "      <td>1</td>\n",
       "      <td>0.0355</td>\n",
       "      <td>0.000017</td>\n",
       "      <td>0.00339</td>\n",
       "      <td>0.1530</td>\n",
       "      <td>0.961</td>\n",
       "      <td>153.166</td>\n",
       "      <td>430653</td>\n",
       "      <td>4</td>\n",
       "      <td>25.57331</td>\n",
       "      <td>20</td>\n",
       "      <td>0</td>\n",
       "    </tr>\n",
       "  </tbody>\n",
       "</table>\n",
       "</div>"
      ],
      "text/plain": [
       "   danceability  energy  key  loudness  mode  speechiness  acousticness  \\\n",
       "0         0.527   0.316    1   -15.769     1       0.0310      0.693000   \n",
       "1         0.738   0.541    1    -5.485     1       0.0311      0.559000   \n",
       "2         0.736   0.419    0   -10.662     1       0.0300      0.693000   \n",
       "3         0.565   0.594    5   -13.086     1       0.0646      0.655000   \n",
       "4         0.513   0.760    4   -10.077     1       0.0355      0.000017   \n",
       "\n",
       "   instrumentalness  liveness  valence    tempo  duration_ms  time_signature  \\\n",
       "0           0.00699    0.1680    0.543  116.211       158840               4   \n",
       "1           0.00000    0.0492    0.309  134.187       387573               4   \n",
       "2           0.49500    0.0809    0.265   93.982       237267               4   \n",
       "3           0.92600    0.6750    0.763  114.219       375933               4   \n",
       "4           0.00339    0.1530    0.961  153.166       430653               4   \n",
       "\n",
       "   chorus_hit  sections  target  \n",
       "0    53.89523         6       0  \n",
       "1    32.16853        16       1  \n",
       "2    42.05369         9       0  \n",
       "3    80.99693        10       0  \n",
       "4    25.57331        20       0  "
      ]
     },
     "execution_count": 17,
     "metadata": {},
     "output_type": "execute_result"
    }
   ],
   "source": [
    "training90s.keys()\n",
    "#Vil ta bort: 'track', 'artist', 'uri'\n",
    "\n",
    "usecols = ['danceability', 'energy', 'key', 'loudness',\n",
    "       'mode', 'speechiness', 'acousticness', 'instrumentalness', 'liveness',\n",
    "       'valence', 'tempo', 'duration_ms', 'time_signature', 'chorus_hit',\n",
    "       'sections', 'target']\n",
    "\n",
    "data90s = training90s[usecols]\n",
    "\n",
    "data90s.head()"
   ]
  },
  {
   "cell_type": "code",
   "execution_count": 18,
   "metadata": {},
   "outputs": [
    {
     "name": "stdout",
     "output_type": "stream",
     "text": [
      "Index(['danceability', 'energy', 'key', 'loudness', 'mode', 'speechiness',\n",
      "       'acousticness', 'instrumentalness', 'liveness', 'valence', 'tempo',\n",
      "       'duration_ms', 'time_signature', 'chorus_hit', 'sections'],\n",
      "      dtype='object')\n",
      "15\n",
      "<class 'pandas.core.frame.DataFrame'>\n",
      "-----\n",
      "Index(['danceability', 'energy', 'key', 'loudness', 'mode', 'speechiness',\n",
      "       'acousticness', 'instrumentalness', 'liveness', 'valence', 'tempo',\n",
      "       'duration_ms', 'time_signature', 'chorus_hit', 'sections'],\n",
      "      dtype='object')\n",
      "15\n",
      "<class 'pandas.core.frame.DataFrame'>\n",
      "Training set size: 4416\n",
      "Testing set size: 1104\n"
     ]
    }
   ],
   "source": [
    "from sklearn.model_selection import train_test_split\n",
    "\n",
    "X,y = data90s.drop('target', axis=1), data90s['target']\n",
    "\n",
    "X_train, X_test, y_train, y_test = train_test_split(X, y, test_size=0.2, random_state=42)\n",
    "\n",
    "\n",
    "print(X_test.columns)\n",
    "print(len(X_test.columns))\n",
    "print(type(X_test))\n",
    "print(\"-----\")\n",
    "print(X_train.columns)\n",
    "print(len(X_train.columns))\n",
    "print(type(X_train))\n",
    "\n",
    "print(f\"Training set size: {len(X_train)}\")\n",
    "print(f\"Testing set size: {len(X_test)}\")"
   ]
  },
  {
   "cell_type": "code",
   "execution_count": 19,
   "metadata": {},
   "outputs": [],
   "source": [
    "from sklearn.preprocessing import OneHotEncoder\n",
    "encoder = OneHotEncoder()\n",
    "X_train = encoder.fit_transform(X_train)\n",
    "X_test = encoder.fit_transform(X_test)\n",
    "\n",
    "X_train, X_test = X_train.toarray(), X_test.toarray()"
   ]
  },
  {
   "cell_type": "code",
   "execution_count": 20,
   "metadata": {
    "scrolled": true
   },
   "outputs": [
    {
     "data": {
      "text/plain": [
       "array(['danceability_0.0596', 'danceability_0.0617', 'danceability_0.062',\n",
       "       ..., 'sections_39', 'sections_42', 'sections_47'], dtype=object)"
      ]
     },
     "execution_count": 20,
     "metadata": {},
     "output_type": "execute_result"
    }
   ],
   "source": [
    "encoder.get_feature_names(X.columns)"
   ]
  },
  {
   "cell_type": "code",
   "execution_count": 21,
   "metadata": {},
   "outputs": [
    {
     "name": "stdout",
     "output_type": "stream",
     "text": [
      "Accuracy on training data: 0.99955\n"
     ]
    }
   ],
   "source": [
    "from sklearn.linear_model import LogisticRegression\n",
    "from sklearn.metrics import accuracy_score\n",
    "\n",
    "# Define model\n",
    "lr_model = LogisticRegression()\n",
    "\n",
    "\n",
    "# Fit model\n",
    "lr_model.fit(X_train, y_train)\n",
    "\n",
    "# Predict training data\n",
    "train_preds = lr_model.predict(X_train)\n",
    "\n",
    "# Output accuracy on training data\n",
    "train_acc = accuracy_score(y_train, train_preds)\n",
    "print(f\"Accuracy on training data: {train_acc:.5f}\")\n"
   ]
  },
  {
   "cell_type": "code",
   "execution_count": 22,
   "metadata": {},
   "outputs": [
    {
     "name": "stdout",
     "output_type": "stream",
     "text": [
      "<class 'numpy.ndarray'>\n",
      "(4416, 25603)\n",
      "<class 'numpy.ndarray'>\n",
      "(1104, 8973)\n"
     ]
    }
   ],
   "source": [
    "print(type(X_train))\n",
    "print(X_train.shape)\n",
    "print(type(X_test))\n",
    "print(X_test.shape)"
   ]
  },
  {
   "cell_type": "code",
   "execution_count": 23,
   "metadata": {},
   "outputs": [],
   "source": [
    "# Predict test data\n",
    "#test_preds = lr_model.predict(X_test)\n",
    "\n",
    "# Calculate accuracy on test set\n",
    "#test_acc = accuracy_score(y_test, test_preds)\n",
    "#print(f\"Accuracy on test data: {test_acc:.4f}\")"
   ]
  },
  {
   "cell_type": "code",
   "execution_count": null,
   "metadata": {},
   "outputs": [],
   "source": [
    "from sklearn.neighbors import KNeighborsClassifier \n",
    "\n",
    "# Define model\n",
    "knn_model = KNeighborsClassifier()\n",
    "\n",
    "# Fit model\n",
    "knn_model.fit(X_train, y_train)\n",
    "\n",
    "# Predict training data\n",
    "train_preds = knn_model.predict(X_train)\n",
    "\n",
    "# Output accuracy on training data\n",
    "train_acc = accuracy_score(y_train, train_preds)\n",
    "print(f\"Accuracy on training data: {train_acc:.4f}\")"
   ]
  },
  {
   "cell_type": "code",
   "execution_count": null,
   "metadata": {},
   "outputs": [],
   "source": [
    "# Predict test data\n",
    "test_preds = knn_model.predict(X_test)\n",
    "\n",
    "# Calculate accuracy on test set\n",
    "test_acc = accuracy_score(y_test, test_preds)\n",
    "print(f\"Accuracy on test data: {test_acc:.4f}\")"
   ]
  },
  {
   "cell_type": "code",
   "execution_count": null,
   "metadata": {},
   "outputs": [],
   "source": [
    "from sklearn.ensemble import RandomForestClassifier \n",
    "\n",
    "# Define model\n",
    "rf_model = RandomForestClassifier()\n",
    "\n",
    "# Fit model\n",
    "rf_model.fit(X_train, y_train)\n",
    "\n",
    "# Predict training data\n",
    "train_preds = rf_model.predict(X_train)\n",
    "\n",
    "# Output accuracy on training data\n",
    "train_acc = accuracy_score(y_train, train_preds)\n",
    "print(f\"Accuracy on training data: {train_acc:.4f}\")"
   ]
  },
  {
   "cell_type": "code",
   "execution_count": null,
   "metadata": {},
   "outputs": [],
   "source": [
    "# Predict test data\n",
    "test_preds = rf_model.predict(X_test)\n",
    "\n",
    "# Calculate accuracy on test set\n",
    "test_acc = accuracy_score(y_test, test_preds)\n",
    "print(f\"Accuracy on test data: {test_acc:.4f}\")"
   ]
  },
  {
   "cell_type": "code",
   "execution_count": null,
   "metadata": {},
   "outputs": [],
   "source": []
  }
 ],
 "metadata": {
  "kernelspec": {
   "display_name": "Python 3",
   "language": "python",
   "name": "python3"
  },
  "language_info": {
   "codemirror_mode": {
    "name": "ipython",
    "version": 3
   },
   "file_extension": ".py",
   "mimetype": "text/x-python",
   "name": "python",
   "nbconvert_exporter": "python",
   "pygments_lexer": "ipython3",
   "version": "3.7.0"
  }
 },
 "nbformat": 4,
 "nbformat_minor": 4
}
