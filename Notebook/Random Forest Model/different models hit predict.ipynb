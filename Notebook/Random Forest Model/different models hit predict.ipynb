{
 "cells": [
  {
   "cell_type": "code",
   "execution_count": 30,
   "metadata": {},
   "outputs": [],
   "source": [
    "#Importing all the packages\n",
    "\n",
    "from sklearn.metrics import precision_score, recall_score\n",
    "import sklearn\n",
    "from sklearn.model_selection import train_test_split\n",
    "import pandas as pd\n",
    "import numpy as np\n",
    "import matplotlib.pyplot as plt\n",
    "\n",
    "from sklearn.metrics import confusion_matrix\n",
    "from sklearn.model_selection import learning_curve\n",
    "from sklearn.ensemble import AdaBoostClassifier\n",
    "from sklearn.pipeline import Pipeline\n",
    "from sklearn.model_selection import GridSearchCV, cross_val_score\n",
    "from sklearn.metrics import precision_score, recall_score\n",
    "from sklearn.preprocessing import StandardScaler\n",
    "from sklearn.svm import SVC, LinearSVC\n",
    "from sklearn import linear_model\n",
    "from sklearn.linear_model import LogisticRegression\n",
    "from sklearn.ensemble import RandomForestClassifier\n",
    "from sklearn.ensemble import RandomForestRegressor\n",
    "from sklearn.neighbors import KNeighborsClassifier\n",
    "from sklearn.naive_bayes import GaussianNB"
   ]
  },
  {
   "cell_type": "markdown",
   "metadata": {},
   "source": [
    "## Loading the data and splitting it into test and train"
   ]
  },
  {
   "cell_type": "code",
   "execution_count": 91,
   "metadata": {},
   "outputs": [],
   "source": [
    "# \n",
    "\n",
    "train = pd.read_csv(r'C:\\Users\\eskil\\PycharmProjects\\tdt4173\\Notebook\\train_data_clean', sep = \",\")\n",
    "test = pd.read_csv(r'C:\\Users\\eskil\\PycharmProjects\\tdt4173\\Notebook\\test_data_clean', sep = \",\")\n",
    "\n",
    "train = train.drop([\"artist_followers\"], axis = 1)\n",
    "test = test.drop([\"artist_followers\"], axis = 1)\n",
    "\n",
    "\n",
    "x_train = train.drop([\"target\", \"Unnamed: 0\"], axis = 1)\n",
    "y_train = train[\"target\"]\n",
    "\n",
    "x_test = test.drop([\"target\", \"Unnamed: 0\"], axis = 1)\n",
    "y_test = test[\"target\"]\n"
   ]
  },
  {
   "cell_type": "markdown",
   "metadata": {},
   "source": [
    "# Random Forest Model"
   ]
  },
  {
   "cell_type": "markdown",
   "metadata": {},
   "source": [
    "## Testing different parameters to find the best combination\n",
    "Tuning the hyperparameters and scaling the data used by the cross validation (CV) to avoid any dataleakage when scaling the data. Not using the OOB-score considering because it uses only a subset of the DTs in the random forest not used when training and we also have enough data to set aside a considerably large validationset when using cross-validation."
   ]
  },
  {
   "cell_type": "code",
   "execution_count": null,
   "metadata": {},
   "outputs": [],
   "source": [
    "#Tuning the n_estimators-parameter to find where it starts to drop off.\n",
    "n_estimators = [1, 2, 5, 10, 50, 100, 150, 200, 300, 400, 500]\n",
    "max_depth = [20]\n",
    "param_grid = {\"n_estimators\" : n_estimators, \"max_depth\" : max_depth}\n",
    "estimator = RandomForestClassifier()\n",
    "clf = GridSearchCV(estimator = estimator, param_grid = param_grid, n_jobs=-1, cv = 5)\n",
    "print(\"morn\")\n",
    "clf.fit(x_train,y_train)\n",
    "print(\"morn\")\n",
    "allscores=clf.cv_results_['mean_test_score']\n",
    "print(allscores)"
   ]
  },
  {
   "cell_type": "code",
   "execution_count": 94,
   "metadata": {},
   "outputs": [
    {
     "name": "stdout",
     "output_type": "stream",
     "text": [
      "morn\n",
      "morn\n",
      "[0.68120251 0.68582755 0.70906288 0.72635172 0.73251845 0.73417025\n",
      " 0.73439049 0.73505121 0.73769409 0.73868517 0.73339941 0.73383989]\n"
     ]
    }
   ],
   "source": [
    "#Tuning the max_depth parameter.\n",
    "n_estimators = [150]\n",
    "max_depth = [1,2,5,10,12,15,17,20,25,30,40, None]\n",
    "param_grid = {\"n_estimators\" : n_estimators, \"max_depth\" : max_depth}\n",
    "estimator = RandomForestClassifier()\n",
    "clf = GridSearchCV(estimator = estimator, param_grid = param_grid, n_jobs=-1, cv = 5)\n",
    "print(\"morn\")\n",
    "clf.fit(x_train,y_train)\n",
    "print(\"morn\")\n",
    "allscores=clf.cv_results_['mean_test_score']\n",
    "print(allscores)"
   ]
  },
  {
   "cell_type": "code",
   "execution_count": 16,
   "metadata": {},
   "outputs": [
    {
     "data": {
      "text/html": [
       "<div>\n",
       "<style scoped>\n",
       "    .dataframe tbody tr th:only-of-type {\n",
       "        vertical-align: middle;\n",
       "    }\n",
       "\n",
       "    .dataframe tbody tr th {\n",
       "        vertical-align: top;\n",
       "    }\n",
       "\n",
       "    .dataframe thead th {\n",
       "        text-align: right;\n",
       "    }\n",
       "</style>\n",
       "<table border=\"1\" class=\"dataframe\">\n",
       "  <thead>\n",
       "    <tr style=\"text-align: right;\">\n",
       "      <th></th>\n",
       "      <th>Unnamed: 0</th>\n",
       "      <th>danceability</th>\n",
       "      <th>energy</th>\n",
       "      <th>loudness</th>\n",
       "      <th>mode</th>\n",
       "      <th>speechiness</th>\n",
       "      <th>acousticness</th>\n",
       "      <th>instrumentalness</th>\n",
       "      <th>liveness</th>\n",
       "      <th>valence</th>\n",
       "      <th>tempo</th>\n",
       "      <th>duration_ms</th>\n",
       "      <th>time_signature</th>\n",
       "      <th>sections</th>\n",
       "      <th>release_date</th>\n",
       "      <th>weeks</th>\n",
       "      <th>artist_popularity</th>\n",
       "      <th>artist_followers</th>\n",
       "      <th>number_of_artists</th>\n",
       "    </tr>\n",
       "  </thead>\n",
       "  <tbody>\n",
       "    <tr>\n",
       "      <td>390</td>\n",
       "      <td>13354</td>\n",
       "      <td>0.491</td>\n",
       "      <td>0.835</td>\n",
       "      <td>-4.272</td>\n",
       "      <td>1</td>\n",
       "      <td>0.0464</td>\n",
       "      <td>0.1840</td>\n",
       "      <td>0.000000</td>\n",
       "      <td>0.1190</td>\n",
       "      <td>0.711</td>\n",
       "      <td>185.956</td>\n",
       "      <td>207173</td>\n",
       "      <td>4</td>\n",
       "      <td>9</td>\n",
       "      <td>2018</td>\n",
       "      <td>49</td>\n",
       "      <td>84</td>\n",
       "      <td>958288</td>\n",
       "      <td>1</td>\n",
       "    </tr>\n",
       "    <tr>\n",
       "      <td>6496</td>\n",
       "      <td>2494</td>\n",
       "      <td>0.654</td>\n",
       "      <td>0.760</td>\n",
       "      <td>-3.669</td>\n",
       "      <td>0</td>\n",
       "      <td>0.0450</td>\n",
       "      <td>0.0797</td>\n",
       "      <td>0.000000</td>\n",
       "      <td>0.2990</td>\n",
       "      <td>0.410</td>\n",
       "      <td>99.945</td>\n",
       "      <td>200786</td>\n",
       "      <td>4</td>\n",
       "      <td>9</td>\n",
       "      <td>2015</td>\n",
       "      <td>236</td>\n",
       "      <td>96</td>\n",
       "      <td>39185957</td>\n",
       "      <td>1</td>\n",
       "    </tr>\n",
       "    <tr>\n",
       "      <td>2383</td>\n",
       "      <td>11945</td>\n",
       "      <td>0.791</td>\n",
       "      <td>0.577</td>\n",
       "      <td>-6.555</td>\n",
       "      <td>1</td>\n",
       "      <td>0.0367</td>\n",
       "      <td>0.4980</td>\n",
       "      <td>0.470000</td>\n",
       "      <td>0.1200</td>\n",
       "      <td>0.217</td>\n",
       "      <td>115.070</td>\n",
       "      <td>298240</td>\n",
       "      <td>4</td>\n",
       "      <td>13</td>\n",
       "      <td>2016</td>\n",
       "      <td>53</td>\n",
       "      <td>84</td>\n",
       "      <td>4144570</td>\n",
       "      <td>1</td>\n",
       "    </tr>\n",
       "    <tr>\n",
       "      <td>8560</td>\n",
       "      <td>12772</td>\n",
       "      <td>0.850</td>\n",
       "      <td>0.500</td>\n",
       "      <td>-6.708</td>\n",
       "      <td>1</td>\n",
       "      <td>0.0665</td>\n",
       "      <td>0.0139</td>\n",
       "      <td>0.000384</td>\n",
       "      <td>0.0947</td>\n",
       "      <td>0.816</td>\n",
       "      <td>160.020</td>\n",
       "      <td>170509</td>\n",
       "      <td>4</td>\n",
       "      <td>9</td>\n",
       "      <td>2018</td>\n",
       "      <td>12</td>\n",
       "      <td>99</td>\n",
       "      <td>28699948</td>\n",
       "      <td>3</td>\n",
       "    </tr>\n",
       "    <tr>\n",
       "      <td>1750</td>\n",
       "      <td>4601</td>\n",
       "      <td>0.510</td>\n",
       "      <td>0.398</td>\n",
       "      <td>-7.685</td>\n",
       "      <td>0</td>\n",
       "      <td>0.0284</td>\n",
       "      <td>0.3620</td>\n",
       "      <td>0.001390</td>\n",
       "      <td>0.1120</td>\n",
       "      <td>0.261</td>\n",
       "      <td>156.080</td>\n",
       "      <td>285506</td>\n",
       "      <td>4</td>\n",
       "      <td>12</td>\n",
       "      <td>2009</td>\n",
       "      <td>410</td>\n",
       "      <td>73</td>\n",
       "      <td>1370201</td>\n",
       "      <td>1</td>\n",
       "    </tr>\n",
       "  </tbody>\n",
       "</table>\n",
       "</div>"
      ],
      "text/plain": [
       "      Unnamed: 0  danceability  energy  loudness  mode  speechiness  \\\n",
       "390        13354         0.491   0.835    -4.272     1       0.0464   \n",
       "6496        2494         0.654   0.760    -3.669     0       0.0450   \n",
       "2383       11945         0.791   0.577    -6.555     1       0.0367   \n",
       "8560       12772         0.850   0.500    -6.708     1       0.0665   \n",
       "1750        4601         0.510   0.398    -7.685     0       0.0284   \n",
       "\n",
       "      acousticness  instrumentalness  liveness  valence    tempo  duration_ms  \\\n",
       "390         0.1840          0.000000    0.1190    0.711  185.956       207173   \n",
       "6496        0.0797          0.000000    0.2990    0.410   99.945       200786   \n",
       "2383        0.4980          0.470000    0.1200    0.217  115.070       298240   \n",
       "8560        0.0139          0.000384    0.0947    0.816  160.020       170509   \n",
       "1750        0.3620          0.001390    0.1120    0.261  156.080       285506   \n",
       "\n",
       "      time_signature  sections  release_date  weeks  artist_popularity  \\\n",
       "390                4         9          2018     49                 84   \n",
       "6496               4         9          2015    236                 96   \n",
       "2383               4        13          2016     53                 84   \n",
       "8560               4         9          2018     12                 99   \n",
       "1750               4        12          2009    410                 73   \n",
       "\n",
       "      artist_followers  number_of_artists  \n",
       "390             958288                  1  \n",
       "6496          39185957                  1  \n",
       "2383           4144570                  1  \n",
       "8560          28699948                  3  \n",
       "1750           1370201                  1  "
      ]
     },
     "execution_count": 16,
     "metadata": {},
     "output_type": "execute_result"
    }
   ],
   "source": [
    "x_train.head()"
   ]
  },
  {
   "cell_type": "code",
   "execution_count": 96,
   "metadata": {},
   "outputs": [
    {
     "name": "stdout",
     "output_type": "stream",
     "text": [
      "[68.42, 68.87, 69.93, 71.26, 72.45, 73.98, 75.07, 77.3, 79.28, 81.4, 84.46, 87.42, 90.1, 93.63, 95.81, 98.03, 98.94, 99.49, 99.79, 99.92, 99.94, 99.99, 99.99, 99.99, 99.99]\n",
      "[67.53, 68.08, 68.63, 70.28, 70.5, 70.72, 70.28, 71.77, 71.82, 72.26, 72.1, 72.59, 72.32, 72.87, 73.14, 73.14, 72.7, 72.87, 73.2, 73.2, 73.03, 73.25, 72.98, 73.64, 73.14]\n"
     ]
    },
    {
     "data": {
      "text/plain": [
       "Text(0, 0.5, 'accuracy')"
      ]
     },
     "execution_count": 96,
     "metadata": {},
     "output_type": "execute_result"
    },
    {
     "data": {
      "image/png": "[encoded data removed]",
      "text/plain": [
       "<Figure size 432x288 with 1 Axes>"
      ]
     },
     "metadata": {
      "needs_background": "light"
     },
     "output_type": "display_data"
    }
   ],
   "source": [
    "# Proving how our model starts to overfit the trainingdata severely for large depth values,\n",
    "#without any increase in generalization/accuracy on the \"test data\"\n",
    "#for this we don't use cross validation, considering the increasing time complexity and that its mainly for visualisation purposes\n",
    "train_depth, evaluation_depth = train_test_split(train, test_size = 0.2, random_state = 4)\n",
    "\n",
    "x_train_depth = train_depth.drop([\"target\", \"Unnamed: 0\"], axis = 1)\n",
    "y_train_depth = train_depth[\"target\"]\n",
    "\n",
    "x_eval_depth = evaluation_depth.drop([\"target\", \"Unnamed: 0\"], axis = 1)\n",
    "y_eval_depth = evaluation_depth[\"target\"]\n",
    "\n",
    "max_depths = np.linspace(1, 25, 25, endpoint=True)\n",
    "train_results = []\n",
    "eval_results = []\n",
    "\n",
    "for max_depth in max_depths:\n",
    "    rf = RandomForestClassifier(max_depth=max_depth, n_jobs=-1, n_estimators = 150)\n",
    "    rf.fit(x_train_depth, y_train_depth)\n",
    "    \n",
    "    acc_rf = round(rf.score(x_train_depth, y_train_depth) * 100, 2)\n",
    "    train_results.append(acc_rf)\n",
    "\n",
    "    acc_rf = round(rf.score(x_eval_depth, y_eval_depth) * 100, 2)\n",
    "    eval_results.append(acc_rf)\n",
    "    \n",
    "from matplotlib.legend_handler import HandlerLine2D\n",
    "print(train_results)\n",
    "print(eval_results)\n",
    "plt.plot(max_depths, train_results)\n",
    "plt.plot(max_depths, eval_results)\n",
    "plt.grid()\n",
    "\n",
    "plt.title(\"Accuracy train/test for different depth\")\n",
    "plt.xlabel(\"depth\")\n",
    "plt.ylabel(\"accuracy\")"
   ]
  },
  {
   "cell_type": "code",
   "execution_count": 97,
   "metadata": {},
   "outputs": [
    {
     "data": {
      "text/plain": [
       "{'criterion': 'gini',\n",
       " 'max_depth': 15,\n",
       " 'max_features': 0.5,\n",
       " 'min_samples_leaf': 1,\n",
       " 'min_samples_split': 4,\n",
       " 'n_estimators': 150}"
      ]
     },
     "execution_count": 97,
     "metadata": {},
     "output_type": "execute_result"
    }
   ],
   "source": [
    "# Setting all the parameters to be tested as well as initialize the classifier to be used.\n",
    "clf = RandomForestClassifier()\n",
    "min_samples_split = [2, 4, 6, 8, 12, 16, 20]\n",
    "min_samples_leaf = [1, 3, 5, 9, 15, 27]\n",
    "max_features = [\"sqrt\", 0.5, 0.7]\n",
    "n_estimators = [150]\n",
    "max_depth = [15]\n",
    "criterion = [\"gini\"]\n",
    "\n",
    "#Making a grid of all parameters and use the gridsearchCV to crossvalidate ahe models using all combinations inside the grid\n",
    "# Printing the params yielding the best accuracy.\n",
    "param_grid = {\"criterion\" : criterion, \"n_estimators\" : n_estimators,\n",
    "              \"max_depth\" : max_depth, \"min_samples_split\" : min_samples_split,\n",
    "              \"min_samples_leaf\" : min_samples_leaf, \"max_features\" : max_features}\n",
    "clf = GridSearchCV(estimator = clf, param_grid = param_grid, n_jobs=-1, cv = 5)\n",
    "clf.fit(x_train, y_train)\n",
    "clf.best_params_"
   ]
  },
  {
   "cell_type": "markdown",
   "metadata": {},
   "source": [
    "## Testing the model with the best parameters, printing the accuracies and plotting the learning curve"
   ]
  },
  {
   "cell_type": "code",
   "execution_count": 98,
   "metadata": {},
   "outputs": [
    {
     "name": "stdout",
     "output_type": "stream",
     "text": [
      "accuracy: 74.06\n",
      "Precision: 72.68871925360475\n",
      "Recall: 76.24555160142349\n"
     ]
    },
    {
     "data": {
      "text/plain": [
       "array([[825, 267],\n",
       "       [322, 857]], dtype=int64)"
      ]
     },
     "execution_count": 98,
     "metadata": {},
     "output_type": "execute_result"
    }
   ],
   "source": [
    "#Testing the model on the hold off test set and printing accuracy, recall and precision as well as the confusion matrix.\n",
    "#rf = RandomForestClassifier(criterion = \"gini\", n_estimators = 150, max_depth = 15, max_features = 0.5, min_samples_leaf = 1, min_samples_split = 4)\n",
    "#rf.fit(x_train, y_train)\n",
    "predictions = clf.best_estimator_.predict(x_test)\n",
    "acc_rf = round(clf.best_estimator_.score(x_test, y_test) * 100, 2)\n",
    "prec_rf = precision_score(y_test, predictions) * 100\n",
    "recall_rf = recall_score(y_test, predictions) * 100\n",
    "\n",
    "print(\"accuracy:\", acc_rf)\n",
    "print(\"Precision:\", prec_rf)\n",
    "print(\"Recall:\", recall_rf)\n",
    "confusion_matrix(predictions, y_test)"
   ]
  },
  {
   "cell_type": "code",
   "execution_count": 53,
   "metadata": {},
   "outputs": [
    {
     "name": "stdout",
     "output_type": "stream",
     "text": [
      "[learning_curve] Training set sizes: [  72  320  568  816 1064 1312 1560 1808 2056 2304 2552 2800 3048 3296\n",
      " 3544 3792 4040 4288 4536 4784 5032 5280 5528 5776 6024 6272 6520 6768\n",
      " 7016 7264]\n"
     ]
    },
    {
     "name": "stderr",
     "output_type": "stream",
     "text": [
      "[Parallel(n_jobs=1)]: Using backend SequentialBackend with 1 concurrent workers.\n",
      "[Parallel(n_jobs=1)]: Done 150 out of 150 | elapsed: 10.3min finished\n"
     ]
    },
    {
     "data": {
      "text/plain": [
       "Text(0, 0.5, 'accuracy')"
      ]
     },
     "execution_count": 53,
     "metadata": {},
     "output_type": "execute_result"
    },
    {
     "data": {
      "image/png": "[encoded data removed]",
      "text/plain": [
       "<Figure size 432x288 with 1 Axes>"
      ]
     },
     "metadata": {
      "needs_background": "light"
     },
     "output_type": "display_data"
    }
   ],
   "source": [
    "# Preperation for finding the learning curve\n",
    "train_sizes, train_scores, test_scores = learning_curve(rf, x_train, y_train, cv = 5, scoring = \"accuracy\", train_sizes = np.linspace(0.01,1,30), verbose = 1)\n",
    "\n",
    "train_mean = np.mean(train_scores, axis = 1)\n",
    "test_mean = np.mean(test_scores, axis = 1)\n",
    "\n",
    "#Plotting the learning curve\n",
    "plt.plot(train_sizes, train_mean, label = 'training score')\n",
    "plt.plot(train_sizes, test_mean, label = 'cross-validation score')\n",
    "plt.grid()\n",
    "\n",
    "plt.title(\"Learning Curve\")\n",
    "plt.xlabel(\"samples\")\n",
    "plt.ylabel(\"accuracy\")"
   ]
  },
  {
   "cell_type": "markdown",
   "metadata": {},
   "source": [
    "## Importances of the different features"
   ]
  },
  {
   "cell_type": "code",
   "execution_count": null,
   "metadata": {},
   "outputs": [],
   "source": [
    "# Plotting the importance of each features for the random forest model\n",
    "importances = pd.DataFrame({'feature':x_train.columns,'importance':np.round(rf.feature_importances_,4)})\n",
    "importances = importances.sort_values('importance',ascending=False).set_index('feature')\n",
    "importances.head(15)\n",
    "importances.plot.bar()"
   ]
  }
 ],
 "metadata": {
  "kernelspec": {
   "display_name": "Python 3",
   "language": "python",
   "name": "python3"
  },
  "language_info": {
   "codemirror_mode": {
    "name": "ipython",
    "version": 3
   },
   "file_extension": ".py",
   "mimetype": "text/x-python",
   "name": "python",
   "nbconvert_exporter": "python",
   "pygments_lexer": "ipython3",
   "version": "3.7.4"
  }
 },
 "nbformat": 4,
 "nbformat_minor": 2
}
