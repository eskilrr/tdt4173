{
 "cells": [
  {
   "cell_type": "code",
   "execution_count": 2,
   "metadata": {},
   "outputs": [],
   "source": [
    "import numpy as np \n",
    "import pandas as pd \n",
    "import seaborn as sns \n",
    "import matplotlib.pyplot as plt\n",
    "import billboard\n",
    "import pandas as pd"
   ]
  },
  {
   "cell_type": "code",
   "execution_count": null,
   "metadata": {},
   "outputs": [],
   "source": []
  },
  {
   "cell_type": "code",
   "execution_count": 3,
   "metadata": {},
   "outputs": [
    {
     "name": "stdout",
     "output_type": "stream",
     "text": [
      "2020-09-26\n",
      "2020-08-29\n",
      "2020-08-01\n",
      "2020-07-04\n",
      "2020-06-06\n",
      "2020-05-09\n"
     ]
    }
   ],
   "source": [
    "chart = billboard.ChartData('hot-100')\n",
    "\n",
    "list = []\n",
    "j=0\n",
    "\n",
    "while chart.previousDate:\n",
    "    \n",
    "    chart = billboard.ChartData('hot-100',chart.previousDate) \n",
    "    chart = billboard.ChartData('hot-100',chart.previousDate)\n",
    "    chart = billboard.ChartData('hot-100',chart.previousDate) \n",
    "    chart = billboard.ChartData('hot-100',chart.previousDate)\n",
    "    \n",
    "    \n",
    "    j += 1\n",
    "    print(chart.previousDate)\n",
    "    for i in chart:\n",
    "        data = {'artist': i.artist, 'title': i.title, 'peakPos': i.peakPos, 'weeks': i.weeks}\n",
    "        list.append(data)\n",
    "    if(j>5):\n",
    "        break\n",
    "\n",
    "\n",
    "\n",
    "df = pd.DataFrame(list)"
   ]
  },
  {
   "cell_type": "code",
   "execution_count": 9,
   "metadata": {},
   "outputs": [
    {
     "name": "stdout",
     "output_type": "stream",
     "text": [
      "'Say So' by Doja Cat Featuring Nicki Minaj\n",
      "Doja Cat Featuring Nicki Minaj\n"
     ]
    }
   ],
   "source": [
    "print(chart[0])\n",
    "\n",
    "print(chart[0].artist)"
   ]
  },
  {
   "cell_type": "code",
   "execution_count": 4,
   "metadata": {},
   "outputs": [
    {
     "name": "stdout",
     "output_type": "stream",
     "text": [
      "                                    artist                title  peakPos  \\\n",
      "16                             Post Malone              Circles        1   \n",
      "517                          Lewis Capaldi    Someone You Loved        1   \n",
      "115                            Post Malone              Circles        1   \n",
      "124                           Maren Morris            The Bones       12   \n",
      "219                            Post Malone              Circles        1   \n",
      "..                                     ...                  ...      ...   \n",
      "222                           Taylor Swift               August       23   \n",
      "487                     Kygo & OneRepublic        Lose Somebody       88   \n",
      "486                           Justin Moore         Why We Drink       87   \n",
      "485                   Anuel AA & Bad Bunny  Hasta Que Dios Diga       86   \n",
      "599  Young T & Bugsey Featuring Headie One           Don't Rush      100   \n",
      "\n",
      "     weeks  \n",
      "16      56  \n",
      "517     52  \n",
      "115     52  \n",
      "124     49  \n",
      "219     48  \n",
      "..     ...  \n",
      "222      1  \n",
      "487      1  \n",
      "486      1  \n",
      "485      1  \n",
      "599      1  \n",
      "\n",
      "[600 rows x 4 columns]\n"
     ]
    },
    {
     "data": {
      "text/html": [
       "<div>\n",
       "<style scoped>\n",
       "    .dataframe tbody tr th:only-of-type {\n",
       "        vertical-align: middle;\n",
       "    }\n",
       "\n",
       "    .dataframe tbody tr th {\n",
       "        vertical-align: top;\n",
       "    }\n",
       "\n",
       "    .dataframe thead th {\n",
       "        text-align: right;\n",
       "    }\n",
       "</style>\n",
       "<table border=\"1\" class=\"dataframe\">\n",
       "  <thead>\n",
       "    <tr style=\"text-align: right;\">\n",
       "      <th></th>\n",
       "      <th>artist</th>\n",
       "      <th>title</th>\n",
       "      <th>peakPos</th>\n",
       "      <th>weeks</th>\n",
       "    </tr>\n",
       "  </thead>\n",
       "  <tbody>\n",
       "  </tbody>\n",
       "</table>\n",
       "</div>"
      ],
      "text/plain": [
       "Empty DataFrame\n",
       "Columns: [artist, title, peakPos, weeks]\n",
       "Index: []"
      ]
     },
     "execution_count": 4,
     "metadata": {},
     "output_type": "execute_result"
    }
   ],
   "source": [
    "df_sorted = df.sort_values(by=['weeks'],ascending=False)\n",
    "\n",
    "print(df_sorted)\n",
    "\n",
    "column_names = ['artist', 'title' , 'peakPos' , 'weeks']\n",
    "\n",
    "df_clean = pd.DataFrame(columns = column_names)\n",
    "df_clean.head(50)\n"
   ]
  },
  {
   "cell_type": "code",
   "execution_count": 30,
   "metadata": {},
   "outputs": [],
   "source": [
    "for index in df_sorted.index:\n",
    "    title = df_sorted['title'][index]\n",
    "    if title not in df_clean.values:\n",
    "        df_clean = df_clean.append({'artist': df_sorted['artist'][index] ,'title':df_sorted['title'][index] , 'peakPos':df_sorted['peakPos'][index],'weeks':df_sorted['weeks'][index]}, ignore_index=True)"
   ]
  },
  {
   "cell_type": "code",
   "execution_count": 31,
   "metadata": {},
   "outputs": [
    {
     "name": "stdout",
     "output_type": "stream",
     "text": [
      "              artist         title  peakPos  weeks\n",
      "count            680           680      680    680\n",
      "unique           445           680      100     54\n",
      "top     Taylor Swift  Here And Now        1      1\n",
      "freq              31             1       33    143\n",
      "0      False\n",
      "1      False\n",
      "2      False\n",
      "3      False\n",
      "4      False\n",
      "       ...  \n",
      "675    False\n",
      "676    False\n",
      "677    False\n",
      "678    False\n",
      "679    False\n",
      "Length: 680, dtype: bool\n",
      "<bound method DataFrame.info of                                 artist  \\\n",
      "0                          Post Malone   \n",
      "1               Post Malone & Swae Lee   \n",
      "2                         Travis Scott   \n",
      "3                        Lewis Capaldi   \n",
      "4                  Panic! At The Disco   \n",
      "..                                 ...   \n",
      "675                       Lil Uzi Vert   \n",
      "676                       Taylor Swift   \n",
      "677            Blueface & Rich The Kid   \n",
      "678                       Taylor Swift   \n",
      "679  Kanye West Featuring Travis Scott   \n",
      "\n",
      "                                             title peakPos weeks  \n",
      "0                                          Circles       1    56  \n",
      "1    Sunflower (Spider-Man: Into The Spider-Verse)       1    53  \n",
      "2                                       Sicko Mode       1    52  \n",
      "3                                Someone You Loved       1    52  \n",
      "4                                       High Hopes       4    52  \n",
      "..                                             ...     ...   ...  \n",
      "675                                            POP      28     1  \n",
      "676                                          Seven      35     1  \n",
      "677                                          Daddy      89     1  \n",
      "678                               Invisible String      37     1  \n",
      "679                           Wash Us In The Blood      49     1  \n",
      "\n",
      "[680 rows x 4 columns]>\n"
     ]
    }
   ],
   "source": [
    "print(df_clean.describe())\n",
    "print(df_clean.duplicated(subset=['title']))\n",
    "print(df_clean.info)"
   ]
  },
  {
   "cell_type": "code",
   "execution_count": null,
   "metadata": {},
   "outputs": [],
   "source": []
  }
 ],
 "metadata": {
  "kernelspec": {
   "display_name": "Python 3",
   "language": "python",
   "name": "python3"
  },
  "language_info": {
   "codemirror_mode": {
    "name": "ipython",
    "version": 3
   },
   "file_extension": ".py",
   "mimetype": "text/x-python",
   "name": "python",
   "nbconvert_exporter": "python",
   "pygments_lexer": "ipython3",
   "version": "3.7.0"
  }
 },
 "nbformat": 4,
 "nbformat_minor": 4
}
