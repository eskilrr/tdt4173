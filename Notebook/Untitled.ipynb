{
 "cells": [
  {
   "cell_type": "code",
   "execution_count": 1,
   "metadata": {},
   "outputs": [],
   "source": [
    "import spotipy\n",
    "from sklearn.ensemble import RandomForestClassifier\n",
    "from sklearn.model_selection import train_test_split\n",
    "import time\n",
    "import pandas as pd\n",
    "from spotipy.oauth2 import SpotifyClientCredentials\n",
    "cid = \"b3c5b350c6cb43c2bdb403eb3b896eba\"\n",
    "secret = \"fa1aa37ba9c943d3b4e2cadc8fd4818f\"\n",
    "client_credentials_manager = SpotifyClientCredentials(client_id=cid, client_secret=secret)\n",
    "sp = spotipy.Spotify(client_credentials_manager=client_credentials_manager)\n"
   ]
  },
  {
   "cell_type": "code",
   "execution_count": 2,
   "metadata": {},
   "outputs": [
    {
     "name": "stdout",
     "output_type": "stream",
     "text": [
      "100\n"
     ]
    }
   ],
   "source": [
    "def getTrackIDs(user, playlist_id):\n",
    "    ids = []\n",
    "    playlist = sp.user_playlist(user, playlist_id)\n",
    "    for item in playlist['tracks']['items']:\n",
    "        track = item['track']\n",
    "        ids.append(track['id'])\n",
    "    return ids\n",
    "ids = getTrackIDs('Billboard', '6UeSakyzhiEt4NB3UAd6NQ')\n",
    "print(len(ids))"
   ]
  },
  {
   "cell_type": "code",
   "execution_count": 3,
   "metadata": {},
   "outputs": [
    {
     "name": "stdout",
     "output_type": "stream",
     "text": [
      "20\n",
      "['7LJeCI3v09UtUq3ETKKpgX', '5ypnp8Gi7I9duNOHaWks1r', '6ueA3RMronnNPEGgURsn2S', '4UyqE0A2NfKkPYLTTKTDqL', '6vAB19HadQGdU8yyvKRihs', '42DuSc89cXlRFzaP99W0hp', '1fFUu73Zyida3IzpNsJly9', '4pCI9LrUmH1AbIPlHPIe96', '5F38kOsptiPOVpBidD31Jz', '5tI3QwCrI0B0UYdNv7UEqa', '1wnqPz25idlXzEgI9J0hYe', '7L5ClYxMAZlpM08HkU28ro', '5es0F8fWeGdG3v7AAq6dMs', '0CkVEkQjA7tf0aGJ1UKopa', '2pUlpG7uiDk7evGOgbOC30', '4wwr9OBUij06t2BvH8yeBI', '3PildhaquXx0YNtEywZQhE', '6SAyAS35hL10OeL0jY89hS', '3IF6W3Garp7Ewfhdc28pn9', '5n1h3oQb2jKmIgOccDkuOQ']\n"
     ]
    }
   ],
   "source": [
    "def getTrackIDsFromAlbum(album_id):\n",
    "    ids2 = []\n",
    "    #playlist = sp.user_playlist(user, playlist_id)\n",
    "    album = sp.album(album_id)\n",
    "    for item in album['tracks']['items']:\n",
    "        ids2.append(item['id'])\n",
    "    return ids2\n",
    "\n",
    "#ids2 = getTrackIDsFromAlbum('2Y9IRtehByVkegoD7TcLfi')\n",
    "ids2 = getTrackIDsFromAlbum('0RQwQQSoR4E74jfT47ATpC')\n",
    "print(len(ids2))\n",
    "print(ids2)"
   ]
  },
  {
   "cell_type": "code",
   "execution_count": 4,
   "metadata": {},
   "outputs": [],
   "source": [
    "def getTrackFeatures(id):\n",
    "  meta = sp.track(id)\n",
    "  features = sp.audio_features(id)\n",
    "\n",
    "  # meta\n",
    "  name = meta['name']\n",
    "  album = meta['album']['name']\n",
    "  artist = meta['album']['artists'][0]['name']\n",
    "  release_date = meta['album']['release_date']\n",
    "  length = meta['duration_ms']\n",
    "  popularity = meta['popularity']\n",
    "\n",
    "  # features\n",
    "  acousticness = features[0]['acousticness']\n",
    "  danceability = features[0]['danceability']\n",
    "  energy = features[0]['energy']\n",
    "  instrumentalness = features[0]['instrumentalness']\n",
    "  liveness = features[0]['liveness']\n",
    "  loudness = features[0]['loudness']\n",
    "  speechiness = features[0]['speechiness']\n",
    "  tempo = features[0]['tempo']\n",
    "  time_signature = features[0]['time_signature']\n",
    "\n",
    "  track = [name, album, artist, release_date, length, popularity, danceability, acousticness, danceability, energy, instrumentalness, liveness, loudness, speechiness, tempo, time_signature]\n",
    "  return track"
   ]
  },
  {
   "cell_type": "code",
   "execution_count": 5,
   "metadata": {},
   "outputs": [],
   "source": [
    "tracks = []\n",
    "tracks2 = []\n",
    "for i in range(len(ids)):\n",
    "  track = getTrackFeatures(ids[i])\n",
    "  tracks.append(track)\n",
    "\n",
    "for i in range(len(ids2)):\n",
    "  track = getTrackFeatures(ids2[i])\n",
    "  tracks2.append(track)\n",
    "# create dataset\n",
    "df = pd.DataFrame(tracks, columns = ['name', 'album', 'artist', 'release_date', 'length', 'popularity', 'danceability', 'acousticness', 'danceability', 'energy', 'instrumentalness', 'liveness', 'loudness', 'speechiness', 'tempo', 'time_signature'])\n",
    "df2 = pd.DataFrame(tracks2, columns = ['name', 'album', 'artist', 'release_date', 'length', 'popularity', 'danceability', 'acousticness', 'danceability', 'energy', 'instrumentalness', 'liveness', 'loudness', 'speechiness', 'tempo', 'time_signature'])"
   ]
  },
  {
   "cell_type": "code",
   "execution_count": null,
   "metadata": {},
   "outputs": [],
   "source": [
    "df.head(n = 20)"
   ]
  },
  {
   "cell_type": "code",
   "execution_count": null,
   "metadata": {},
   "outputs": [],
   "source": [
    "df2.head(n = 20)"
   ]
  },
  {
   "cell_type": "code",
   "execution_count": null,
   "metadata": {},
   "outputs": [],
   "source": [
    "artist_name = []\n",
    "track_name = []\n",
    "popularity = []\n",
    "track_id = []\n",
    "for i in range(0,10000,50):\n",
    "    track_results = sp.search(q=\"year:2018\", type=\"track\", limit=50,offset=i, market=\"NO\")\n",
    "    for i, t in enumerate(track_results['tracks']['items']):\n",
    "        artist_name.append(t['artists'][0]['name'])\n",
    "        track_name.append(t['name'])\n",
    "        track_id.append(t['id'])\n",
    "        popularity.append(t['popularity'])"
   ]
  },
  {
   "cell_type": "code",
   "execution_count": null,
   "metadata": {},
   "outputs": [],
   "source": [
    "track_results = sp.search_markets(q=\"year:2018\", type=\"track\", limit = 50, offset = 2000)"
   ]
  }
 ],
 "metadata": {
  "kernelspec": {
   "display_name": "Python 3",
   "language": "python",
   "name": "python3"
  },
  "language_info": {
   "codemirror_mode": {
    "name": "ipython",
    "version": 3
   },
   "file_extension": ".py",
   "mimetype": "text/x-python",
   "name": "python",
   "nbconvert_exporter": "python",
   "pygments_lexer": "ipython3",
   "version": "3.7.4"
  }
 },
 "nbformat": 4,
 "nbformat_minor": 2
}
