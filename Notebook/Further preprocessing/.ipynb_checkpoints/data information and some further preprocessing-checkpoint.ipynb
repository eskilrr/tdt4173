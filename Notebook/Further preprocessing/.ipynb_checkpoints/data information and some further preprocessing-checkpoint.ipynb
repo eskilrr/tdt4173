{
 "cells": [
  {
   "cell_type": "code",
   "execution_count": null,
   "metadata": {},
   "outputs": [],
   "source": [
    "import numpy as np \n",
    "import pandas as pd \n",
    "import seaborn as sns\n",
    "import matplotlib.pyplot as plt\n",
    "from sklearn import preprocessing\n",
    "from sklearn.model_selection import train_test_split"
   ]
  },
  {
   "cell_type": "markdown",
   "metadata": {},
   "source": [
    "## Some analytics of data"
   ]
  },
  {
   "cell_type": "code",
   "execution_count": null,
   "metadata": {
    "scrolled": true
   },
   "outputs": [],
   "source": [
    "df = pd.read_csv(r'C:\\Users\\eskil\\PycharmProjects\\tdt4173\\Data\\processed\\balanced.csv', sep = \",\")"
   ]
  },
  {
   "cell_type": "code",
   "execution_count": null,
   "metadata": {},
   "outputs": [],
   "source": [
    "#Plot fordeling av hit/ikke-hit\n",
    "hit_perc = df['target'].value_counts()/len(df)\n",
    "sns.barplot(x=hit_perc.index, y=hit_perc.values)\n",
    "plt.ylabel(\"Andel\")\n",
    "plt.xlabel(\"Non hits and hits\")"
   ]
  },
  {
   "cell_type": "code",
   "execution_count": null,
   "metadata": {},
   "outputs": [],
   "source": [
    "#Heatmap for å se korrelasjon mellom variable seg imellom\n",
    "correlation = df.corr()\n",
    "heatmap = correlation.drop(labels = [\"target\", \"popularity\", \"weeks\"], axis = 0)\n",
    "heatmap = heatmap.drop(labels = [\"target\", \"popularity\", \"weeks\"], axis = 1)\n",
    "fig, ax = plt.subplots(figsize=(15,10))\n",
    "sns.heatmap(heatmap, ax = ax, annot = True)"
   ]
  },
  {
   "cell_type": "code",
   "execution_count": null,
   "metadata": {},
   "outputs": [],
   "source": [
    "correlation = df.corr()\n",
    "target_corr = correlation['target']\n",
    "target_corr = target_corr.drop(labels = ['target', 'popularity', \"chart_year\"])\n",
    "target_corr = target_corr.sort_values()\n",
    "target_corr.plot(grid = True, figsize = (8,6), kind = 'bar')"
   ]
  },
  {
   "cell_type": "code",
   "execution_count": null,
   "metadata": {},
   "outputs": [],
   "source": [
    "sns.scatterplot(x='weeks',y='danceability', data =df, hue='target')"
   ]
  },
  {
   "cell_type": "code",
   "execution_count": null,
   "metadata": {},
   "outputs": [],
   "source": [
    "#acoustic_mean_hit = df.loc[df['target'] == 0].acousticness.mean()\n",
    "#print(acoustic_mean_hit)\n",
    "#acoustic_mean_hit = df.loc[df['target'] == 1].acousticness.mean()\n",
    "#print(acoustic_mean_hit)\n",
    "df.describe()"
   ]
  },
  {
   "cell_type": "code",
   "execution_count": null,
   "metadata": {
    "scrolled": false
   },
   "outputs": [],
   "source": [
    "fig, ax = plt.subplots(figsize=(5,5))\n",
    "ax = sns.boxenplot(y=\"acousticness\", x = \"target\", palette = \"muted\", data=df)\n",
    "plt.grid()\n",
    "\n",
    "fig, ax = plt.subplots(figsize=(5,5))\n",
    "ax = sns.boxenplot(x=\"target\", y=\"instrumentalness\", palette = \"muted\", data=df)\n",
    "plt.grid()\n",
    "\n",
    "fig, ax = plt.subplots(figsize=(5,5))\n",
    "ax = sns.boxenplot(x=\"target\", y=\"speechiness\", data=df, palette = \"muted\")\n",
    "plt.grid()\n",
    "\n",
    "fig, ax = plt.subplots(figsize=(5,5))\n",
    "ax = sns.boxenplot(x=\"target\", y=\"loudness\", data=df, palette = \"muted\")\n",
    "plt.grid()\n",
    "\n",
    "fig, ax = plt.subplots(figsize=(5,5))\n",
    "ax = sns.boxenplot(x=\"target\", y=\"energy\", data=df, palette = \"muted\")\n",
    "plt.grid()\n",
    "\n",
    "fig, ax = plt.subplots(figsize=(5,5))\n",
    "ax = sns.boxenplot(x=\"target\", y=\"duration_ms\", data=df, palette = \"muted\")\n",
    "plt.grid()\n",
    "\n",
    "plt.show()\n",
    "\n"
   ]
  },
  {
   "cell_type": "markdown",
   "metadata": {},
   "source": [
    "## Some further feature engineering"
   ]
  },
  {
   "cell_type": "code",
   "execution_count": null,
   "metadata": {},
   "outputs": [],
   "source": [
    "#make balances dataset\n",
    "flops = df.loc[df['target'] == 0]\n",
    "diff = len(df.loc[df['target'] == 0]) - len(df.loc[df['target'] == 1])\n",
    "sampled = flops.sample(n = diff)\n",
    "df = df.drop(sampled.index)\n",
    "\n",
    "#convert releasedate to datetime, and add year as a feature\n",
    "#df['release_date'] = pd.to_datetime(df['release_date'], format='%Y-%m-%d')\n",
    "#df['release_date'] = df['release_date'].dt.year\n",
    "\n",
    "df.isnull() #No null values\n",
    "\n",
    "#drop features we dont want or need. This includes: String-values, correlated values and values we dont need () --> No need for one hot encoding as key is removed.\n",
    "final_data = df.drop([\"artist\", \"song_id\", \"list_of_artists\", \"chart_date\", \"popularity\", \"name\", \"lead_artist_name\", \"artist_id\", \"list_of_artists\", \"key\", \"release_year\", \"release_date\", \"chart_year\"], axis = 1)\n",
    "train_data, test_data = train_test_split(final_data, test_size = 0.2, random_state = 4)"
   ]
  },
  {
   "cell_type": "code",
   "execution_count": null,
   "metadata": {},
   "outputs": [],
   "source": [
    "print(len(test_data))"
   ]
  },
  {
   "cell_type": "code",
   "execution_count": null,
   "metadata": {},
   "outputs": [],
   "source": [
    "train_data.to_csv(\"train_data_clean\")\n",
    "test_data.to_csv(\"test_data_clean\")"
   ]
  }
 ],
 "metadata": {
  "kernelspec": {
   "display_name": "Python 3",
   "language": "python",
   "name": "python3"
  },
  "language_info": {
   "codemirror_mode": {
    "name": "ipython",
    "version": 3
   },
   "file_extension": ".py",
   "mimetype": "text/x-python",
   "name": "python",
   "nbconvert_exporter": "python",
   "pygments_lexer": "ipython3",
   "version": "3.7.4"
  }
 },
 "nbformat": 4,
 "nbformat_minor": 4
}
