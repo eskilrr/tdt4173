{
 "cells": [
  {
   "cell_type": "code",
   "execution_count": 5,
   "metadata": {},
   "outputs": [],
   "source": [
    "import pandas as pd\n",
    "\n",
    "data1 = pd.read_csv(\"../Data/CSV-files/dataset-of-00s.csv\")\n",
    "data2 = pd.read_csv(\"../Data/CSV-files/dataset-of-90s.csv\")\n",
    "data3 = pd.read_csv(\"../Data/CSV-files/dataset-of-80s.csv\")\n",
    "data4 = pd.read_csv(\"../Data/CSV-files/dataset-of-70s.csv\")\n",
    "data5 = pd.read_csv(\"../Data/CSV-files/dataset-of-60s.csv\")"
   ]
  },
  {
   "cell_type": "code",
   "execution_count": 6,
   "metadata": {},
   "outputs": [
    {
     "name": "stdout",
     "output_type": "stream",
     "text": [
      "5872\n",
      "5520\n",
      "6908\n",
      "7766\n",
      "8642\n"
     ]
    }
   ],
   "source": [
    "print(len(data1))\n",
    "print(len(data2))\n",
    "print(len(data3))\n",
    "print(len(data4))\n",
    "print(len(data5))"
   ]
  }
 ],
 "metadata": {
  "kernelspec": {
   "display_name": "Python 3",
   "language": "python",
   "name": "python3"
  },
  "language_info": {
   "codemirror_mode": {
    "name": "ipython",
    "version": 3
   },
   "file_extension": ".py",
   "mimetype": "text/x-python",
   "name": "python",
   "nbconvert_exporter": "python",
   "pygments_lexer": "ipython3",
   "version": "3.7.4"
  }
 },
 "nbformat": 4,
 "nbformat_minor": 2
}
