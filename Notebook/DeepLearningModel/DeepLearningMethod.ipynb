{
 "cells": [
  {
   "cell_type": "code",
   "execution_count": null,
   "metadata": {},
   "outputs": [],
   "source": [
    "import numpy as np \n",
    "import pandas as pd \n",
    "import seaborn as sns \n",
    "import matplotlib.pyplot as plt\n",
    "import tensorflow as tf\n",
    "from sklearn import preprocessing"
   ]
  },
  {
   "cell_type": "code",
   "execution_count": null,
   "metadata": {},
   "outputs": [],
   "source": [
    "df = pd.read_csv('../../Data/CSV-files/dataset-of-00sv2.csv')\n",
    "#df = pd.read_csv('../../Data/CSV-files/dataset-of-90sv2.csv')\n",
    "#df = pd.read_csv('../../Data/CSV-files/dataset-of-60sv2.csv')\n",
    "df.head(1)"
   ]
  },
  {
   "cell_type": "code",
   "execution_count": null,
   "metadata": {},
   "outputs": [],
   "source": [
    "def process_data(dataframe):\n",
    "    data = dataframe.sample(frac=1)\n",
    "    data.drop([\"track\",\"artist\",\"uri\"],axis=1,inplace=True)\n",
    "    \n",
    "    target = data.iloc[:,[15]]\n",
    "    \n",
    "    #Fjerner kolonnen target\n",
    "    unscaled_inputs = data.loc[:,data.columns != 'target']\n",
    "    \n",
    "    #Skaler dataen, samler verdier rundt 0\n",
    "    scaled_inputs = preprocessing.scale(unscaled_inputs)\n",
    "    #scaled_inputs er typen array \n",
    "    \n",
    "    samples_count = scaled_inputs.shape[0]\n",
    "    train_samples_count = int(0.8*samples_count)\n",
    "    validation_samples_count = int(0.1*samples_count)\n",
    "    test_samples_count = samples_count - train_samples_count - validation_samples_count\n",
    "    \n",
    "    train_inputs = scaled_inputs[:train_samples_count]\n",
    "    train_targets = target[:train_samples_count]\n",
    "\n",
    "    validation_inputs = scaled_inputs[train_samples_count:train_samples_count+validation_samples_count]\n",
    "    validation_targets = target[train_samples_count:train_samples_count+validation_samples_count]\n",
    "\n",
    "    test_inputs = scaled_inputs[train_samples_count+validation_samples_count:]\n",
    "    test_targets = target[train_samples_count+validation_samples_count:]\n",
    "    \n",
    "    np.savez('Spotify_data_train', inputs=train_inputs, targets=train_targets)\n",
    "    np.savez('Spotify_data_validation', inputs=validation_inputs, targets=validation_targets)\n",
    "    np.savez('Spotify_data_test', inputs=test_inputs, targets=test_targets)\n",
    "    \n",
    "    npz = np.load('Spotify_data_train.npz')\n",
    "    train_inputs,train_targets = npz['inputs'].astype(np.float),npz['targets'].astype(np.int)\n",
    "\n",
    "    npz = np.load('Spotify_data_validation.npz')\n",
    "    validation_inputs, validation_targets = npz['inputs'].astype(np.float), npz['targets'].astype(np.int)\n",
    "\n",
    "    npz = np.load('Spotify_data_test.npz')\n",
    "    test_inputs, test_targets = npz['inputs'].astype(np.float), npz['targets'].astype(np.int)\n",
    "    \n",
    "    return [train_inputs,train_targets,validation_inputs, validation_targets, test_inputs, test_targets ]"
   ]
  },
  {
   "cell_type": "code",
   "execution_count": null,
   "metadata": {},
   "outputs": [],
   "source": [
    "#Definerer variabler som brukes senere:\n",
    "data = process_data(df)\n",
    "train_inputs = data[0]\n",
    "train_targets = data[1]\n",
    "validation_inputs = data[2] \n",
    "validation_targets = data[3]\n",
    "test_inputs = data[4]\n",
    "test_targets = data[5]"
   ]
  },
  {
   "cell_type": "code",
   "execution_count": null,
   "metadata": {},
   "outputs": [],
   "source": [
    "def build_model():\n",
    "    # Set the input and output sizes\n",
    "    input_size = 17 # count of features\n",
    "    output_size = 2 # count of targets\n",
    "    # Use same hidden layer size for both hidden layers. Not a necessity.\n",
    "    hidden_layer_size = 50 # counts of neurons\n",
    "\n",
    "    # define how the model will look like\n",
    "    #Stacker ulike lak med hidden layer \"oppå\" hverandre i modellen \n",
    "    model = tf.keras.Sequential([\n",
    "        # tf.keras.layers.Dense is basically implementing: output = activation(dot(input, weight) + bias)\n",
    "        # it takes several arguments, but the most important ones for us are the hidden_layer_size and the activation function\n",
    "        tf.keras.layers.Dense(hidden_layer_size, activation='relu'), # 1st hidden layer\n",
    "        tf.keras.layers.Dense(hidden_layer_size, activation='relu'), # 2nd hidden layer\n",
    "        tf.keras.layers.Dense(hidden_layer_size, activation='relu'), # 3nd hidden layer\n",
    "        # the final layer is no different, we just make sure to activate it with softmax\n",
    "        tf.keras.layers.Dense(output_size, activation='softmax') # output layer\n",
    "    ])\n",
    "    return model"
   ]
  },
  {
   "cell_type": "code",
   "execution_count": null,
   "metadata": {},
   "outputs": [],
   "source": [
    "def compile_model(model):\n",
    "    model.compile(optimizer=\"adam\", loss='sparse_categorical_crossentropy', metrics=['accuracy'])"
   ]
  },
  {
   "cell_type": "code",
   "execution_count": null,
   "metadata": {},
   "outputs": [],
   "source": [
    "def fit_model(model):\n",
    "    # That's where we train the model we have built.\n",
    "    # set the batch size\n",
    "    batch_size = 300\n",
    "    # set a maximum number of training epochs\n",
    "    max_epochs = 10\n",
    "\n",
    "    # fit the model\n",
    "    # note that this time the train, validation and test data are not iterable\n",
    "    history = model.fit(  train_inputs, # train inputs\n",
    "                          train_targets, # train targets\n",
    "                          batch_size=batch_size, # batch size\n",
    "                          epochs=max_epochs, # epochs that we will train for (assuming early stopping doesn't kick in)\n",
    "                          # callbacks are functions called by a task when a task is completed\n",
    "                          # task here is to check if val_loss is increasing\n",
    "                          #callbacks=[early_stopping], # early stopping\n",
    "                          validation_data=(validation_inputs, validation_targets), # validation data\n",
    "                          verbose = 2 # making sure we get enough information about the training process\n",
    "              ) \n",
    "    return history"
   ]
  },
  {
   "cell_type": "code",
   "execution_count": null,
   "metadata": {},
   "outputs": [],
   "source": [
    "def plot_history(history):\n",
    "    # Get training and test loss histories\n",
    "    training_loss = history.history['loss']\n",
    "    validation_loss = history.history['val_loss']\n",
    "\n",
    "    accuracy = history.history['accuracy']\n",
    "\n",
    "    # Create count of the number of epochs\n",
    "    epoch_count = range(1, len(training_loss) + 1)\n",
    "\n",
    "    # Visualize loss history\n",
    "    plt.plot(epoch_count, training_loss, 'r--')\n",
    "    plt.plot(epoch_count, validation_loss, 'b-')\n",
    "    plt.plot(epoch_count,accuracy)\n",
    "    plt.legend(['Training Loss', 'Validation Loss','Accuracy'])\n",
    "    plt.xlabel('Epoch')\n",
    "    plt.ylabel('Loss')\n",
    "    plt.show();"
   ]
  },
  {
   "cell_type": "code",
   "execution_count": null,
   "metadata": {},
   "outputs": [],
   "source": [
    "def evaluate_model():\n",
    "    test_loss, test_accuracy = model.evaluate(test_inputs, test_targets)\n",
    "    print('\\nTest loss: {0:.2f}. Test accuracy: {1:.2f}%'.format(test_loss, test_accuracy*100.))"
   ]
  },
  {
   "cell_type": "code",
   "execution_count": null,
   "metadata": {},
   "outputs": [],
   "source": [
    "model = build_model()\n",
    "compile_model(model)\n",
    "history = fit_model(model)\n",
    "plot_history(history)\n",
    "evaluate_model()"
   ]
  },
  {
   "cell_type": "code",
   "execution_count": null,
   "metadata": {},
   "outputs": [],
   "source": [
    "def plot_value_array(i, predictions_array, true_label):\n",
    "    true_label = test_targets[i]\n",
    "    plt.grid(False)\n",
    "\n",
    "    thisplot = plt.bar(range(2), predictions_array, color=\"#777777\")\n",
    "    plt.ylim([0, 1])\n",
    "    predicted_label = np.argmax(predictions_array)\n",
    "    \n",
    "    if predicted_label == true_label:\n",
    "        color = 'blue'\n",
    "    else:\n",
    "        color = 'red'\n",
    "    \n",
    "    plt.ylabel(\"{:2.0f}%\".format(100*np.max(predictions_array),color=color))\n",
    "\n",
    "    \n",
    "    thisplot[predicted_label].set_color('red')\n",
    "    thisplot[true_label[0]].set_color('blue')\n"
   ]
  },
  {
   "cell_type": "code",
   "execution_count": null,
   "metadata": {},
   "outputs": [],
   "source": [
    "def plot_result(rows,cols):\n",
    "    plt.figure(figsize=(2*2*cols, 2*rows))\n",
    "    for i in range(rows*cols):\n",
    "        plt.subplot(rows, 2*cols, 2*i+2)\n",
    "        plot_value_array(i, predictions[i], test_targets)\n",
    "    plt.tight_layout()\n",
    "    plt.show()"
   ]
  },
  {
   "cell_type": "code",
   "execution_count": null,
   "metadata": {},
   "outputs": [],
   "source": [
    "probability_model = tf.keras.Sequential([model,                                          tf.keras.layers.Softmax()])\n",
    "predictions = probability_model.predict(test_inputs)"
   ]
  },
  {
   "cell_type": "code",
   "execution_count": null,
   "metadata": {},
   "outputs": [],
   "source": [
    "plot_result(5,5)"
   ]
  },
  {
   "cell_type": "code",
   "execution_count": null,
   "metadata": {},
   "outputs": [],
   "source": [
    "def get_wrong_guess_data():\n",
    "    wrong_guess = []\n",
    "    for i in range(100):\n",
    "        index = np.argmax(predictions[i])\n",
    "        if(index!=test_targets[i]):\n",
    "            arr = np.concatenate((test_inputs[i],test_targets[i])) \n",
    "            wrong_guess.append(arr)\n",
    "            #wrong_guess.append(test_targets[i])\n",
    "    return wrong_guess"
   ]
  },
  {
   "cell_type": "code",
   "execution_count": 151,
   "metadata": {},
   "outputs": [],
   "source": [
    "def run_network(path):\n",
    "    df = pd.read_csv(path)\n",
    "    data = process_data(df)\n",
    "    train_inputs = data[0]\n",
    "    train_targets = data[1]\n",
    "    validation_inputs = data[2] \n",
    "    validation_targets = data[3]\n",
    "    test_inputs = data[4]\n",
    "    test_targets = data[5]\n",
    "    model = build_model()\n",
    "    compile_model(model)\n",
    "    history = fit_model(model)\n",
    "    plot_history(history)\n",
    "    evaluate_model()"
   ]
  },
  {
   "cell_type": "code",
   "execution_count": 152,
   "metadata": {},
   "outputs": [
    {
     "name": "stdout",
     "output_type": "stream",
     "text": [
      "Epoch 1/10\n",
      "24/24 - 0s - loss: 0.6153 - accuracy: 0.6598 - val_loss: 0.5510 - val_accuracy: 0.7014\n",
      "Epoch 2/10\n",
      "24/24 - 0s - loss: 0.5482 - accuracy: 0.7118 - val_loss: 0.5342 - val_accuracy: 0.7269\n",
      "Epoch 3/10\n",
      "24/24 - 0s - loss: 0.5267 - accuracy: 0.7328 - val_loss: 0.5258 - val_accuracy: 0.7407\n",
      "Epoch 4/10\n",
      "24/24 - 0s - loss: 0.5160 - accuracy: 0.7370 - val_loss: 0.5217 - val_accuracy: 0.7477\n",
      "Epoch 5/10\n",
      "24/24 - 0s - loss: 0.5068 - accuracy: 0.7444 - val_loss: 0.5134 - val_accuracy: 0.7535\n",
      "Epoch 6/10\n",
      "24/24 - 0s - loss: 0.4985 - accuracy: 0.7495 - val_loss: 0.5079 - val_accuracy: 0.7593\n",
      "Epoch 7/10\n",
      "24/24 - 0s - loss: 0.4919 - accuracy: 0.7542 - val_loss: 0.5087 - val_accuracy: 0.7546\n",
      "Epoch 8/10\n",
      "24/24 - 0s - loss: 0.4859 - accuracy: 0.7596 - val_loss: 0.5002 - val_accuracy: 0.7627\n",
      "Epoch 9/10\n",
      "24/24 - 0s - loss: 0.4775 - accuracy: 0.7665 - val_loss: 0.4977 - val_accuracy: 0.7650\n",
      "Epoch 10/10\n",
      "24/24 - 0s - loss: 0.4861 - accuracy: 0.7626 - val_loss: 0.4955 - val_accuracy: 0.7627\n"
     ]
    },
    {
     "data": {
      "image/png": "[encoded data removed]",
      "text/plain": [
       "<Figure size 432x288 with 1 Axes>"
      ]
     },
     "metadata": {
      "needs_background": "light"
     },
     "output_type": "display_data"
    },
    {
     "name": "stdout",
     "output_type": "stream",
     "text": [
      "28/28 [==============================] - 0s 2ms/step - loss: 0.5003 - accuracy: 0.7538\n"
     ]
    }
   ],
   "source": [
    "run_network('../../Data/CSV-files/dataset-of-00sv2.csv')"
   ]
  },
  {
   "cell_type": "code",
   "execution_count": null,
   "metadata": {},
   "outputs": [],
   "source": []
  }
 ],
 "metadata": {
  "kernelspec": {
   "display_name": "Python 3",
   "language": "python",
   "name": "python3"
  },
  "language_info": {
   "codemirror_mode": {
    "name": "ipython",
    "version": 3
   },
   "file_extension": ".py",
   "mimetype": "text/x-python",
   "name": "python",
   "nbconvert_exporter": "python",
   "pygments_lexer": "ipython3",
   "version": "3.7.9"
  }
 },
 "nbformat": 4,
 "nbformat_minor": 4
}
