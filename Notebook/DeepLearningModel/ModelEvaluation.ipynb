{
 "cells": [
  {
   "cell_type": "code",
   "execution_count": 81,
   "metadata": {},
   "outputs": [],
   "source": [
    "import numpy as np \n",
    "import pandas as pd \n",
    "from sklearn import preprocessing\n",
    "from sklearn.metrics import confusion_matrix,recall_score,precision_score,f1_score\n",
    "import matplotlib.pyplot as plt\n",
    "import tensorflow as tf\n",
    "from tensorflow.keras import layers\n",
    "\n",
    "import math "
   ]
  },
  {
   "cell_type": "code",
   "execution_count": 39,
   "metadata": {},
   "outputs": [],
   "source": [
    "def process_data():\n",
    "    df_test = pd.read_csv(r'test_data.csv', sep = \",\")\n",
    "    df_train = pd.read_csv(r'train_data.csv', sep = \",\")\n",
    "\n",
    "    test = df_test.drop(df_test.columns[0],axis=1)\n",
    "\n",
    "    test_targets = test.iloc[:,[13]]\n",
    "    test_inputs = test.loc[:,test.columns != 'target']\n",
    "\n",
    "    train = df_train.drop(df_train.columns[0],axis=1)\n",
    "    train_targets = train.iloc[:,[13]]\n",
    "    train_inputs = train.loc[:,train.columns != 'target']\n",
    "    \n",
    "    np.savez('Spotify_data_train', inputs=train_inputs, targets=train_targets)\n",
    "    np.savez('Spotify_data_test', inputs=test_inputs, targets=test_targets)\n",
    "\n",
    "    npz = np.load('Spotify_data_train.npz')\n",
    "    train_inputs,train_targets = npz['inputs'].astype(np.float),npz['targets'].astype(np.int)\n",
    "\n",
    "    npz = np.load('Spotify_data_test.npz')\n",
    "    test_inputs, test_targets = npz['inputs'].astype(np.float), npz['targets'].astype(np.int)\n",
    "\n",
    "    test_inputs = preprocessing.scale(test_inputs)\n",
    "    train_inputs = preprocessing.scale(train_inputs)\n",
    "    \n",
    "    return train_inputs,train_targets,test_inputs,test_targets\n",
    "\n",
    "train_inputs,train_targets,test_inputs,test_targets = process_data()\n",
    "\n",
    "total_samples = len(train_inputs)\n",
    "split = math.ceil(total_samples/5)\n",
    "k = 5"
   ]
  },
  {
   "cell_type": "code",
   "execution_count": 94,
   "metadata": {},
   "outputs": [
    {
     "data": {
      "text/plain": [
       "array([-0.56499397,  0.65196689,  0.60878134, -1.35894407, -0.64960561,\n",
       "       -0.75489302, -0.17480286, -0.22669493, -1.3141794 , -0.28171217,\n",
       "        0.48892807,  0.14308134,  0.48264067,  0.67464915, -0.73249291,\n",
       "        0.19554269,  0.25263439,  0.84969713])"
      ]
     },
     "execution_count": 94,
     "metadata": {},
     "output_type": "execute_result"
    }
   ],
   "source": [
    "train_inputs[216*2]"
   ]
  },
  {
   "cell_type": "markdown",
   "metadata": {},
   "source": [
    "# Evaluering av metoden med hyperparametre fra ModelCross"
   ]
  },
  {
   "cell_type": "markdown",
   "metadata": {},
   "source": [
    "Forklarende tekst"
   ]
  },
  {
   "cell_type": "code",
   "execution_count": null,
   "metadata": {},
   "outputs": [],
   "source": [
    "#Definisjon av parametre\n",
    "\n",
    "hidden_layer_size = []\n",
    "num_nodes \n",
    "num_layers\n",
    "omtimizer\n"
   ]
  },
  {
   "cell_type": "code",
   "execution_count": 71,
   "metadata": {},
   "outputs": [],
   "source": [
    "def build_model(n_nodes,n_layers):\n",
    "    \n",
    "    input_size = 17\n",
    "    output_size = 2\n",
    "\n",
    "    model = tf.keras.Sequential()\n",
    "    model.add(layers.Dense(n_nodes, activation='relu',input_shape=(18,)))\n",
    "    for i in range(n_layers-1):\n",
    "        model.add(layers.Dense(n_nodes,kernel_regularizer=tf.keras.regularizers.l2(0.001), activation='relu'))\n",
    "    model.add(layers.Dense(output_size, activation='softmax'))\n",
    "    \n",
    "    return model\n",
    "\n",
    "def compile_model(model,chosen_optimizer):\n",
    "    model.compile(optimizer=chosen_optimizer, loss='sparse_categorical_crossentropy', metrics=['accuracy'])\n",
    "\n",
    "def fit_model(model,b_size,m_epochs):\n",
    "    \n",
    "    batch_size = b_size\n",
    "    max_epochs = m_epochs\n",
    "    \n",
    "    history = model.fit(  train_inputs,train_targets,\n",
    "                          batch_size=batch_size,\n",
    "                          epochs=max_epochs,\n",
    "                          validation_split = 0.2,\n",
    "                          #validation_data=(v_inputs, v_targets),\n",
    "                          #callbacks=[\n",
    "                                #tf.keras.callbacks.TensorBoard(run_dir,histogram_freq=1,update_freq=1,embeddings_freq=1),\n",
    "                                #tf.keras.callbacks.EarlyStopping(\n",
    "                                    #monitor='val_accuracy', min_delta=0.001, patience=5, mode='max',\n",
    "                                    #baseline=None),\n",
    "                                #tf.keras.callbacks.EarlyStopping(\n",
    "                                    #monitor='val_loss', min_delta=0.001, patience=7, verbose=0, mode='min',\n",
    "                                    #baseline=0.6)\n",
    "                                #],\n",
    "                              verbose = 2) \n",
    "    return history\n",
    "\n",
    "\n",
    "def plot_history(history):\n",
    "    \n",
    "    training_loss = history.history['loss']\n",
    "    validation_loss = history.history['val_loss']\n",
    "    accuracy = history.history['accuracy']\n",
    "    epoch_count = range(1, len(training_loss) + 1)\n",
    "\n",
    "    \n",
    "    plt.plot(epoch_count, training_loss, 'r--')\n",
    "    plt.plot(epoch_count, validation_loss, 'b-')\n",
    "    plt.plot(epoch_count,accuracy)\n",
    "    plt.legend(['Training Loss', 'Validation Loss','Accuracy'])\n",
    "    plt.xlabel('Epoch')\n",
    "    plt.ylabel('Loss')\n",
    "    plt.show();\n",
    "    \n",
    "def evaluate_model(model):\n",
    "    test_loss, test_accuracy = model.evaluate(test_inputs, test_targets)\n",
    "    print('\\nTest loss: {0:.2f}. Test accuracy: {1:.2f}%'.format(test_loss, test_accuracy*100.))\n",
    "    \n",
    "def predict(model,inputs):\n",
    "    predictions = model.predict(inputs)\n",
    "    predictions_arr = np.argmax(predictions,axis=1)\n",
    "    return predictions,predictions_arr\n",
    "  \n",
    "    \n",
    "def plot_value_array(i, predictions_array, true_label):\n",
    "    true_label = test_targets[i]\n",
    "    plt.grid(False)\n",
    "\n",
    "    thisplot = plt.bar(range(2), predictions_array, color=\"#777777\")\n",
    "    plt.ylim([0, 1])\n",
    "    predicted_label = np.argmax(predictions_array)\n",
    "    \n",
    "    if predicted_label == true_label:\n",
    "        color = 'blue'\n",
    "    else:\n",
    "        color = 'red'\n",
    "    \n",
    "    plt.ylabel(\"{:2.0f}%\".format(100*np.max(predictions_array),color=color))\n",
    "\n",
    "    \n",
    "    thisplot[predicted_label].set_color('red')\n",
    "    thisplot[true_label[0]].set_color('blue')\n",
    "    \n",
    "def plot_result(rows,cols,predictions):\n",
    "    plt.figure(figsize=(2*2*cols, 2*rows))\n",
    "    for i in range(rows*cols):\n",
    "        plt.subplot(rows, 2*cols, 2*i+2)\n",
    "        plot_value_array(i, predictions[i], test_targets)\n",
    "    plt.tight_layout()\n",
    "    plt.show()\n",
    "    \n",
    "def get_wrong_guess_data(predictions):\n",
    "    wrong_guess = []\n",
    "    for i in range(100):\n",
    "        index = np.argmax(predictions[i])\n",
    "        if(index!=test_targets[i]):\n",
    "            arr = np.concatenate((test_inputs[i],test_targets[i])) \n",
    "            wrong_guess.append(arr)\n",
    "            #wrong_guess.append(test_targets[i])\n",
    "    return wrong_guess"
   ]
  },
  {
   "cell_type": "raw",
   "metadata": {},
   "source": [
    "model = build_model(num_nodes,num_layers)\n",
    "compile_model(model, optimizer)\n",
    "history = fit_model(model,batch_size,max_epochs)\n",
    "evaluate_model(model)\n",
    "predictions = predict(model,test_inputs)\n",
    "plot_result(rows,cols,predictions)\n",
    "wrong_guesses = get_wrong_guess_data(predictions)"
   ]
  },
  {
   "cell_type": "code",
   "execution_count": 91,
   "metadata": {},
   "outputs": [],
   "source": [
    "def create_model(n_nodes,n_layers,optimizer,b_size,m_epochs):\n",
    "    model = build_model(n_nodes,n_layers)\n",
    "    compile_model(model,optimizer)\n",
    "    history = fit_model(model,b_size,m_epochs)\n",
    "    evaluate_model(model)\n",
    "    predictions,predictions_arr = predict(model,test_inputs)\n",
    "    plot_result(2,2,predictions)\n",
    "    wrong_guesses = get_wrong_guess_data(predictions)\n",
    "    print(' \\nConfusion Matrix: \\n',confusion_matrix(test_targets, predictions_arr))\n",
    "    print('\\nF1 Score:',f1_score(test_targets,predictions_arr))\n",
    "    print('\\nRecall Score:',recall_score(test_targets,predictions_arr))\n",
    "    print('\\nPrecision Score:',precision_score(test_targets,predictions_arr))"
   ]
  },
  {
   "cell_type": "code",
   "execution_count": 92,
   "metadata": {},
   "outputs": [
    {
     "name": "stdout",
     "output_type": "stream",
     "text": [
      "Epoch 1/10\n",
      "98/98 - 1s - loss: 0.7011 - accuracy: 0.5713 - val_loss: 0.6855 - val_accuracy: 0.6159\n",
      "Epoch 2/10\n",
      "98/98 - 0s - loss: 0.6646 - accuracy: 0.6503 - val_loss: 0.6385 - val_accuracy: 0.6697\n",
      "Epoch 3/10\n",
      "98/98 - 0s - loss: 0.6126 - accuracy: 0.6901 - val_loss: 0.5967 - val_accuracy: 0.7009\n",
      "Epoch 4/10\n",
      "98/98 - 0s - loss: 0.5806 - accuracy: 0.7141 - val_loss: 0.5778 - val_accuracy: 0.7185\n",
      "Epoch 5/10\n",
      "98/98 - 0s - loss: 0.5649 - accuracy: 0.7242 - val_loss: 0.5669 - val_accuracy: 0.7263\n",
      "Epoch 6/10\n",
      "98/98 - 0s - loss: 0.5551 - accuracy: 0.7308 - val_loss: 0.5585 - val_accuracy: 0.7304\n",
      "Epoch 7/10\n",
      "98/98 - 0s - loss: 0.5480 - accuracy: 0.7347 - val_loss: 0.5516 - val_accuracy: 0.7320\n",
      "Epoch 8/10\n",
      "98/98 - 0s - loss: 0.5422 - accuracy: 0.7377 - val_loss: 0.5459 - val_accuracy: 0.7345\n",
      "Epoch 9/10\n",
      "98/98 - 0s - loss: 0.5376 - accuracy: 0.7397 - val_loss: 0.5403 - val_accuracy: 0.7398\n",
      "Epoch 10/10\n",
      "98/98 - 0s - loss: 0.5332 - accuracy: 0.7409 - val_loss: 0.5353 - val_accuracy: 0.7431\n",
      "96/96 [==============================] - 0s 1ms/step - loss: 0.5297 - accuracy: 0.7357\n",
      "\n",
      "Test loss: 0.53. Test accuracy: 73.57%\n"
     ]
    },
    {
     "data": {
      "image/png": "[encoded data removed]",
      "text/plain": [
       "<Figure size 576x288 with 4 Axes>"
      ]
     },
     "metadata": {
      "needs_background": "light"
     },
     "output_type": "display_data"
    },
    {
     "name": "stdout",
     "output_type": "stream",
     "text": [
      " \n",
      "Confusion Matrix: \n",
      " [[1126  396]\n",
      " [ 409 1115]]\n",
      "\n",
      "F1 Score: 0.7347611202635913\n",
      "\n",
      "Recall Score: 0.7316272965879265\n",
      "\n",
      "Precision Score: 0.7379219060225016\n"
     ]
    }
   ],
   "source": [
    "create_model(5,5,'adam',100,10)"
   ]
  },
  {
   "cell_type": "code",
   "execution_count": 84,
   "metadata": {},
   "outputs": [
    {
     "name": "stdout",
     "output_type": "stream",
     "text": [
      "[[1108  414]\n",
      " [ 322 1202]]\n",
      "0.7656050955414012\n",
      "0.7887139107611548\n",
      "0.7438118811881188\n"
     ]
    }
   ],
   "source": []
  },
  {
   "cell_type": "code",
   "execution_count": null,
   "metadata": {},
   "outputs": [],
   "source": []
  }
 ],
 "metadata": {
  "kernelspec": {
   "display_name": "Python 3",
   "language": "python",
   "name": "python3"
  },
  "language_info": {
   "codemirror_mode": {
    "name": "ipython",
    "version": 3
   },
   "file_extension": ".py",
   "mimetype": "text/x-python",
   "name": "python",
   "nbconvert_exporter": "python",
   "pygments_lexer": "ipython3",
   "version": "3.7.9"
  }
 },
 "nbformat": 4,
 "nbformat_minor": 4
}
