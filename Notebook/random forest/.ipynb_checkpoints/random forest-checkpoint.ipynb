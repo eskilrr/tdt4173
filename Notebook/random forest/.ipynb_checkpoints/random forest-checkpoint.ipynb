{
 "cells": [
  {
   "cell_type": "code",
   "execution_count": 1,
   "metadata": {},
   "outputs": [],
   "source": [
    "from sklearn.metrics import precision_score, recall_score\n",
    "import sklearn\n",
    "from sklearn.ensemble import RandomForestClassifier\n",
    "from sklearn.model_selection import train_test_split\n",
    "import pandas as pd\n",
    "import numpy as np\n",
    "import matplotlib\n"
   ]
  },
  {
   "cell_type": "code",
   "execution_count": 2,
   "metadata": {},
   "outputs": [],
   "source": [
    "df = pd.read_csv(r'C:\\Users\\eskil\\PycharmProjects\\tdt4173\\Data\\CSV-files\\dataset-of-00s.csv')\n",
    "df70s = pd.read_csv(r'C:\\Users\\eskil\\PycharmProjects\\tdt4173\\Data\\CSV-files\\dataset-of-70s.csv')"
   ]
  },
  {
   "cell_type": "code",
   "execution_count": 3,
   "metadata": {},
   "outputs": [],
   "source": [
    "x = df.iloc[:,0:-1].drop([\"track\", \"artist\", \"uri\", \"mode\", \"time_signature\"], axis = 1)\n",
    "y = df.iloc[:, -1]\n",
    "\n",
    "x70s = df70s.iloc[:,0:-1].drop([\"track\", \"artist\", \"uri\", \"mode\", \"time_signature\"], axis = 1)\n",
    "y70s = df70s.iloc[:, -1]"
   ]
  },
  {
   "cell_type": "code",
   "execution_count": 4,
   "metadata": {},
   "outputs": [],
   "source": [
    "x_train, x_test, y_train, y_test = train_test_split(x, y, test_size = 0.3, random_state = 4)\n",
    "\n",
    "x70s_train, x70s_test, y70s_train, y70s_test = train_test_split(x70s, y70s, test_size = 0.3, random_state = 4)"
   ]
  },
  {
   "cell_type": "code",
   "execution_count": 5,
   "metadata": {},
   "outputs": [],
   "source": [
    "estimators = range(1,100,2)\n",
    "classifiers = []\n",
    "for i in estimators:\n",
    "    rf = RandomForestClassifier(n_estimators = i)\n",
    "    rf.fit(x_train, y_train)\n",
    "    classifiers.append(rf)"
   ]
  },
  {
   "cell_type": "code",
   "execution_count": 6,
   "metadata": {},
   "outputs": [],
   "source": [
    "true_values = y_test.values\n",
    "pred = []\n",
    "for rf in classifiers:\n",
    "    predicted = rf.predict(x_test)\n",
    "    pred.append(predicted)"
   ]
  },
  {
   "cell_type": "code",
   "execution_count": 7,
   "metadata": {},
   "outputs": [
    {
     "name": "stdout",
     "output_type": "stream",
     "text": [
      "0.7548240635641317\n",
      "0.822360953461975\n",
      "0.8342792281498297\n",
      "0.8342792281498297\n",
      "0.8456299659477866\n",
      "0.8479001135073779\n",
      "0.8410896708286039\n",
      "0.8433598183881952\n",
      "0.8490351872871736\n",
      "0.85527809307605\n",
      "0.8501702610669694\n",
      "0.8444948921679909\n",
      "0.858683314415437\n",
      "0.8473325766174802\n",
      "0.8569807037457434\n",
      "0.8490351872871736\n",
      "0.8530079455164585\n",
      "0.8637911464245176\n",
      "0.8569807037457434\n",
      "0.85527809307605\n",
      "0.8541430192962542\n",
      "0.8569807037457434\n",
      "0.8507377979568672\n",
      "0.8513053348467651\n",
      "0.8541430192962542\n",
      "0.8507377979568672\n",
      "0.8564131668558457\n",
      "0.8598183881952327\n",
      "0.8558456299659478\n",
      "0.85527809307605\n",
      "0.8558456299659478\n",
      "0.858683314415437\n",
      "0.8569807037457434\n",
      "0.8547105561861521\n",
      "0.862088535754824\n",
      "0.862088535754824\n",
      "0.8581157775255391\n",
      "0.8558456299659478\n",
      "0.85527809307605\n",
      "0.862088535754824\n",
      "0.8575482406356413\n",
      "0.8496027241770715\n",
      "0.8496027241770715\n",
      "0.8592508513053349\n",
      "0.8575482406356413\n",
      "0.8547105561861521\n",
      "0.85527809307605\n",
      "0.8598183881952327\n",
      "0.858683314415437\n",
      "0.8535754824063564\n"
     ]
    },
    {
     "data": {
      "text/plain": [
       "<matplotlib.axes._subplots.AxesSubplot at 0x1acad88f148>"
      ]
     },
     "execution_count": 7,
     "metadata": {},
     "output_type": "execute_result"
    }
   ],
   "source": [
    "error = []\n",
    "for predicted in pred:\n",
    "    count = 0\n",
    "    for i in range(len(predicted)):\n",
    "        if (predicted[i] == true_values[i]):\n",
    "            count = count + 1\n",
    "    error.append(count/len(true_values))\n",
    "    print(count/len(true_values))\n",
    "\n",
    "df = pd.DataFrame(columns=['estimators', 'error']).cumsum()\n",
    "df['estimators'] = estimators\n",
    "df['error'] = error\n",
    "df.plot(x = 'estimators', y = 'error')"
   ]
  },
  {
   "cell_type": "code",
   "execution_count": 8,
   "metadata": {},
   "outputs": [
    {
     "data": {
      "text/plain": [
       "<matplotlib.axes._subplots.AxesSubplot at 0x1acade2ce48>"
      ]
     },
     "execution_count": 8,
     "metadata": {},
     "output_type": "execute_result"
    },
    {
     "data": {
      "image/png": "[encoded data removed]",
      "text/plain": [
       "<Figure size 432x288 with 1 Axes>"
      ]
     },
     "metadata": {
      "needs_background": "light"
     },
     "output_type": "display_data"
    }
   ],
   "source": [
    "importances = pd.DataFrame({'feature':x_train.columns,'importance':np.round(rf.feature_importances_,4)})\n",
    "importances = importances.sort_values('importance',ascending=False).set_index('feature')\n",
    "importances.head(15)\n",
    "importances.plot.bar()"
   ]
  },
  {
   "cell_type": "code",
   "execution_count": null,
   "metadata": {},
   "outputs": [],
   "source": [
    "param_grid = { \"criterion\" : [\"gini\", \"entropy\"], \"min_samples_leaf\" : [1, 5, 10, 25, 50, 70], \"min_samples_split\" : [2, 4, 10, 12, 16, 18, 25, 35], \"n_estimators\": [20, 50, 100, 200, 500]}\n",
    "from sklearn.model_selection import GridSearchCV, cross_val_score\n",
    "rf = RandomForestClassifier(n_estimators=100, max_features='auto', oob_score=True, random_state=1, n_jobs=-1)\n",
    "clf = GridSearchCV(estimator=rf, param_grid=param_grid, n_jobs=-1)\n",
    "clf.fit(x_train, y_train)\n",
    "clf.bestparams"
   ]
  },
  {
   "cell_type": "code",
   "execution_count": null,
   "metadata": {},
   "outputs": [],
   "source": [
    "clf.best_params_"
   ]
  },
  {
   "cell_type": "code",
   "execution_count": null,
   "metadata": {},
   "outputs": [],
   "source": [
    "rf = RandomForestClassifier(criterion = 'gini', min_samples_leaf = 5, min_samples_split = 2,  n_estimators = 500)\n",
    "rf.fit(x_train, y_train)\n",
    "pred_optimal = rf.predict(x_test)\n",
    "\n",
    "#random_forest.score(X_train, Y_train)\n",
    "#print(\"oob score:\", round(random_forest.oob_score_, 4)*100, \"%\")"
   ]
  },
  {
   "cell_type": "code",
   "execution_count": null,
   "metadata": {},
   "outputs": [],
   "source": [
    "count = 0\n",
    "for i in range(len(pred_optimal)):\n",
    "    if (pred_optimal[i] == true_values[i]):\n",
    "        count = count + 1\n",
    "print(count/len(true_values))"
   ]
  },
  {
   "cell_type": "code",
   "execution_count": null,
   "metadata": {},
   "outputs": [],
   "source": [
    "pred70s = rf.predict(x70s_test)\n",
    "true_values = y70s_test.values\n",
    "count = 0\n",
    "for i in range(len(pred70s)):\n",
    "    if (pred70s[i] == true_values[i]):\n",
    "        count = count + 1\n",
    "print(count/len(true_values))"
   ]
  },
  {
   "cell_type": "code",
   "execution_count": 1,
   "metadata": {},
   "outputs": [
    {
     "ename": "NameError",
     "evalue": "name 'np' is not defined",
     "output_type": "error",
     "traceback": [
      "\u001b[1;31m---------------------------------------------------------------------------\u001b[0m",
      "\u001b[1;31mNameError\u001b[0m                                 Traceback (most recent call last)",
      "\u001b[1;32m<ipython-input-1-9e1ffb983e2d>\u001b[0m in \u001b[0;36m<module>\u001b[1;34m\u001b[0m\n\u001b[1;32m----> 1\u001b[1;33m \u001b[0mC_range\u001b[0m \u001b[1;33m=\u001b[0m \u001b[0mnp\u001b[0m\u001b[1;33m.\u001b[0m\u001b[0mlogspace\u001b[0m\u001b[1;33m(\u001b[0m\u001b[1;33m-\u001b[0m\u001b[1;36m2\u001b[0m\u001b[1;33m,\u001b[0m \u001b[1;36m10\u001b[0m\u001b[1;33m,\u001b[0m \u001b[1;36m13\u001b[0m\u001b[1;33m)\u001b[0m\u001b[1;33m\u001b[0m\u001b[1;33m\u001b[0m\u001b[0m\n\u001b[0m",
      "\u001b[1;31mNameError\u001b[0m: name 'np' is not defined"
     ]
    }
   ],
   "source": []
  }
 ],
 "metadata": {
  "kernelspec": {
   "display_name": "Python 3",
   "language": "python",
   "name": "python3"
  },
  "language_info": {
   "codemirror_mode": {
    "name": "ipython",
    "version": 3
   },
   "file_extension": ".py",
   "mimetype": "text/x-python",
   "name": "python",
   "nbconvert_exporter": "python",
   "pygments_lexer": "ipython3",
   "version": "3.7.4"
  }
 },
 "nbformat": 4,
 "nbformat_minor": 2
}
