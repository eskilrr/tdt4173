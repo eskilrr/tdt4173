{
 "cells": [
  {
   "cell_type": "code",
   "execution_count": 1,
   "metadata": {},
   "outputs": [],
   "source": [
    "#Testing different models\n",
    "\n",
    "from sklearn.metrics import precision_score, recall_score\n",
    "import sklearn\n",
    "from sklearn.model_selection import train_test_split\n",
    "import pandas as pd\n",
    "import numpy as np\n",
    "import matplotlib\n",
    "\n",
    "from sklearn.linear_model import LinearRegression, Ridge, Lasso\n",
    "from sklearn.preprocessing import PolynomialFeatures\n",
    "from sklearn.model_selection import GridSearchCV, cross_val_score\n",
    "from sklearn.metrics import precision_score, recall_score\n",
    "from sklearn.preprocessing import StandardScaler\n",
    "from sklearn.svm import SVC, LinearSVC\n",
    "from sklearn import linear_model\n",
    "from sklearn.linear_model import LogisticRegression\n",
    "from sklearn.ensemble import RandomForestClassifier\n",
    "from sklearn.ensemble import RandomForestRegressor\n",
    "from sklearn.neighbors import KNeighborsClassifier\n",
    "from sklearn.naive_bayes import GaussianNB"
   ]
  },
  {
   "cell_type": "markdown",
   "metadata": {},
   "source": [
    "## Loading the data and some data preprocessing\n",
    "Some of it is based on the results from the data-information Notebook"
   ]
  },
  {
   "cell_type": "code",
   "execution_count": 56,
   "metadata": {
    "scrolled": false
   },
   "outputs": [],
   "source": [
    "df = pd.read_csv(r'C:\\Users\\eskil\\PycharmProjects\\tdt4173\\Data\\billboard-hits-flops-raw.csv', sep = \",\")\n",
    "\n",
    "#make balances dataset\n",
    "flops = df.loc[df['target'] == 0]\n",
    "diff = len(df.loc[df['target'] == 0]) - len(df.loc[df['target'] == 1])\n",
    "sampled = flops.sample(n = diff)\n",
    "df = df.drop(sampled.index)\n",
    "\n",
    "#drop features we dont want or need\n",
    "x = df.drop([\"artist\", \"song_id\", \"target\", \"list_of_artists\", \"chart_date\", \"weeks\", \"popularity\", \"name\", \"lead_artist_name\", \"artist_id\", \"list_of_artists\"], axis = 1)\n",
    "y = df['popularity']"
   ]
  },
  {
   "cell_type": "markdown",
   "metadata": {},
   "source": [
    "## Splitting the data into test-set and train-set\n",
    "To avoid any dataleakage, we apply some further preprocessing (normalization of data) AFTER the split."
   ]
  },
  {
   "cell_type": "code",
   "execution_count": 51,
   "metadata": {},
   "outputs": [],
   "source": [
    "x_train, x_test, y_train, y_test = train_test_split(x, y, test_size = 0.3, random_state = 4)\n",
    "scaler = StandardScaler()\n",
    "\n",
    "columns = x_train.columns\n",
    "x_train = scaler.fit_transform(x_train)\n",
    "x_train = pd.DataFrame(x_train, columns = columns)\n",
    "\n",
    "columns = x_test.columns\n",
    "x_test = scaler.fit_transform(x_test)\n",
    "x_test = pd.DataFrame(x_test, columns = columns)\n",
    "\n"
   ]
  },
  {
   "cell_type": "code",
   "execution_count": 55,
   "metadata": {
    "scrolled": true
   },
   "outputs": [
    {
     "data": {
      "text/html": [
       "<div>\n",
       "<style scoped>\n",
       "    .dataframe tbody tr th:only-of-type {\n",
       "        vertical-align: middle;\n",
       "    }\n",
       "\n",
       "    .dataframe tbody tr th {\n",
       "        vertical-align: top;\n",
       "    }\n",
       "\n",
       "    .dataframe thead th {\n",
       "        text-align: right;\n",
       "    }\n",
       "</style>\n",
       "<table border=\"1\" class=\"dataframe\">\n",
       "  <thead>\n",
       "    <tr style=\"text-align: right;\">\n",
       "      <th></th>\n",
       "      <th>danceability</th>\n",
       "      <th>energy</th>\n",
       "      <th>loudness</th>\n",
       "      <th>mode</th>\n",
       "      <th>speechiness</th>\n",
       "      <th>acousticness</th>\n",
       "      <th>instrumentalness</th>\n",
       "      <th>liveness</th>\n",
       "      <th>valence</th>\n",
       "      <th>tempo</th>\n",
       "      <th>duration_ms</th>\n",
       "      <th>time_signature</th>\n",
       "      <th>sections</th>\n",
       "      <th>release_date</th>\n",
       "      <th>artist_popularity</th>\n",
       "      <th>artist_followers</th>\n",
       "      <th>number_of_artists</th>\n",
       "      <th>key</th>\n",
       "    </tr>\n",
       "  </thead>\n",
       "  <tbody>\n",
       "    <tr>\n",
       "      <td>0</td>\n",
       "      <td>0.830</td>\n",
       "      <td>0.585</td>\n",
       "      <td>-6.476</td>\n",
       "      <td>1</td>\n",
       "      <td>0.0940</td>\n",
       "      <td>0.2370</td>\n",
       "      <td>0.000000</td>\n",
       "      <td>0.248</td>\n",
       "      <td>0.485</td>\n",
       "      <td>109.978</td>\n",
       "      <td>173710</td>\n",
       "      <td>4</td>\n",
       "      <td>10</td>\n",
       "      <td>2020</td>\n",
       "      <td>99</td>\n",
       "      <td>52530274</td>\n",
       "      <td>1</td>\n",
       "      <td>0</td>\n",
       "    </tr>\n",
       "    <tr>\n",
       "      <td>1</td>\n",
       "      <td>0.731</td>\n",
       "      <td>0.573</td>\n",
       "      <td>-10.059</td>\n",
       "      <td>0</td>\n",
       "      <td>0.0544</td>\n",
       "      <td>0.4010</td>\n",
       "      <td>0.000052</td>\n",
       "      <td>0.113</td>\n",
       "      <td>0.145</td>\n",
       "      <td>109.928</td>\n",
       "      <td>205090</td>\n",
       "      <td>4</td>\n",
       "      <td>10</td>\n",
       "      <td>2020</td>\n",
       "      <td>99</td>\n",
       "      <td>27598025</td>\n",
       "      <td>2</td>\n",
       "      <td>4</td>\n",
       "    </tr>\n",
       "    <tr>\n",
       "      <td>2</td>\n",
       "      <td>0.789</td>\n",
       "      <td>0.742</td>\n",
       "      <td>-5.664</td>\n",
       "      <td>0</td>\n",
       "      <td>0.0652</td>\n",
       "      <td>0.0681</td>\n",
       "      <td>0.000000</td>\n",
       "      <td>0.166</td>\n",
       "      <td>0.661</td>\n",
       "      <td>116.965</td>\n",
       "      <td>167989</td>\n",
       "      <td>4</td>\n",
       "      <td>8</td>\n",
       "      <td>2020</td>\n",
       "      <td>99</td>\n",
       "      <td>56616101</td>\n",
       "      <td>2</td>\n",
       "      <td>10</td>\n",
       "    </tr>\n",
       "    <tr>\n",
       "      <td>3</td>\n",
       "      <td>0.411</td>\n",
       "      <td>0.522</td>\n",
       "      <td>-7.295</td>\n",
       "      <td>1</td>\n",
       "      <td>0.0981</td>\n",
       "      <td>0.5190</td>\n",
       "      <td>0.000000</td>\n",
       "      <td>0.398</td>\n",
       "      <td>0.382</td>\n",
       "      <td>88.332</td>\n",
       "      <td>239949</td>\n",
       "      <td>1</td>\n",
       "      <td>9</td>\n",
       "      <td>2020</td>\n",
       "      <td>99</td>\n",
       "      <td>78065683</td>\n",
       "      <td>2</td>\n",
       "      <td>0</td>\n",
       "    </tr>\n",
       "    <tr>\n",
       "      <td>4</td>\n",
       "      <td>0.487</td>\n",
       "      <td>0.534</td>\n",
       "      <td>-5.664</td>\n",
       "      <td>0</td>\n",
       "      <td>0.0555</td>\n",
       "      <td>0.3600</td>\n",
       "      <td>0.000000</td>\n",
       "      <td>0.100</td>\n",
       "      <td>0.173</td>\n",
       "      <td>131.798</td>\n",
       "      <td>201882</td>\n",
       "      <td>4</td>\n",
       "      <td>9</td>\n",
       "      <td>2020</td>\n",
       "      <td>99</td>\n",
       "      <td>52530274</td>\n",
       "      <td>1</td>\n",
       "      <td>0</td>\n",
       "    </tr>\n",
       "  </tbody>\n",
       "</table>\n",
       "</div>"
      ],
      "text/plain": [
       "   danceability  energy  loudness  mode  speechiness  acousticness  \\\n",
       "0         0.830   0.585    -6.476     1       0.0940        0.2370   \n",
       "1         0.731   0.573   -10.059     0       0.0544        0.4010   \n",
       "2         0.789   0.742    -5.664     0       0.0652        0.0681   \n",
       "3         0.411   0.522    -7.295     1       0.0981        0.5190   \n",
       "4         0.487   0.534    -5.664     0       0.0555        0.3600   \n",
       "\n",
       "   instrumentalness  liveness  valence    tempo  duration_ms  time_signature  \\\n",
       "0          0.000000     0.248    0.485  109.978       173710               4   \n",
       "1          0.000052     0.113    0.145  109.928       205090               4   \n",
       "2          0.000000     0.166    0.661  116.965       167989               4   \n",
       "3          0.000000     0.398    0.382   88.332       239949               1   \n",
       "4          0.000000     0.100    0.173  131.798       201882               4   \n",
       "\n",
       "   sections  release_date  artist_popularity  artist_followers  \\\n",
       "0        10          2020                 99          52530274   \n",
       "1        10          2020                 99          27598025   \n",
       "2         8          2020                 99          56616101   \n",
       "3         9          2020                 99          78065683   \n",
       "4         9          2020                 99          52530274   \n",
       "\n",
       "   number_of_artists  key  \n",
       "0                  1    0  \n",
       "1                  2    4  \n",
       "2                  2   10  \n",
       "3                  2    0  \n",
       "4                  1    0  "
      ]
     },
     "execution_count": 55,
     "metadata": {},
     "output_type": "execute_result"
    }
   ],
   "source": [
    "x.head()"
   ]
  },
  {
   "cell_type": "markdown",
   "metadata": {},
   "source": [
    "## Predicting popularity using random forest regression"
   ]
  },
  {
   "cell_type": "code",
   "execution_count": 5,
   "metadata": {
    "scrolled": true
   },
   "outputs": [
    {
     "data": {
      "text/plain": [
       "{'max_depth': 10,\n",
       " 'min_samples_leaf': 5,\n",
       " 'min_samples_split': 4,\n",
       " 'n_estimators': 10}"
      ]
     },
     "execution_count": 5,
     "metadata": {},
     "output_type": "execute_result"
    }
   ],
   "source": [
    " = make_pipeline(StandardScaler(),SVC())\n",
    "\n",
    "param_grid = {\"min_samples_leaf\" : [1, 5, 10], \"min_samples_split\" : [2, 4, 6], \"n_estimators\": [1,5,10], \"max_depth\" : [2,5,10,20]}\n",
    "rf = RandomForestRegressor()\n",
    "clf = GridSearchCV(estimator=rf, param_grid=param_grid, n_jobs=-1, cv = 7)\n",
    "clf.fit(x_train, y_train)\n",
    "clf.best_params_"
   ]
  },
  {
   "cell_type": "code",
   "execution_count": 7,
   "metadata": {},
   "outputs": [
    {
     "name": "stdout",
     "output_type": "stream",
     "text": [
      "Mean Absolute Error: 13.98\n"
     ]
    }
   ],
   "source": [
    "rf = RandomForestRegressor(criterion = 'mae', min_samples_leaf = 5, min_samples_split = 4,  n_estimators = 10, max_depth = 10)\n",
    "rf.fit(x_train, y_train)\n",
    "predictions = rf.predict(x_test)\n",
    "\n",
    "# Calculate the absolute errors\n",
    "errors = abs(predictions - y_test)\n",
    "# Print out the mean absolute error (mae)\n",
    "print('Mean Absolute Error:', round(np.mean(errors), 2))\n"
   ]
  },
  {
   "cell_type": "markdown",
   "metadata": {},
   "source": [
    "## Linear (polynomial) Regression with some regularization"
   ]
  },
  {
   "cell_type": "code",
   "execution_count": 53,
   "metadata": {},
   "outputs": [],
   "source": [
    "#Some preprocessing introducing polynomial features\n",
    "poly = PolynomialFeatures(degree = 2)\n",
    "x_poly = poly.fit_transform(x)\n",
    "\n",
    "x_train_p, x_test_p, y_train_p, y_test_p = train_test_split(x_poly, y, test_size = 0.3, random_state = 4)\n",
    "scaler = StandardScaler()\n",
    "\n",
    "x_train_p = scaler.fit_transform(x_train_p)\n",
    "\n",
    "columns = x_test.columns\n",
    "x_test_p = scaler.fit_transform(x_test_p)"
   ]
  },
  {
   "cell_type": "code",
   "execution_count": 54,
   "metadata": {},
   "outputs": [
    {
     "name": "stdout",
     "output_type": "stream",
     "text": [
      "{'alpha': 0.05}\n",
      "Mean Absolute Error: 13.47\n",
      "Mean Absolute Error: 13.81\n"
     ]
    },
    {
     "name": "stderr",
     "output_type": "stream",
     "text": [
      "C:\\Users\\eskil\\Anaconda3\\lib\\site-packages\\sklearn\\linear_model\\coordinate_descent.py:475: ConvergenceWarning: Objective did not converge. You might want to increase the number of iterations. Duality gap: 32748.870785450097, tolerance: 482.9118542163024\n",
      "  positive)\n"
     ]
    }
   ],
   "source": [
    "alpha_range = [0.05,0.1, 0.2, 0.3, 0.4, 0.5, 0.7, 1, 1.5, 2, 2.5, 3, 4]\n",
    "param_grid = dict(alpha=alpha_range)\n",
    "grid = GridSearchCV(Lasso(), param_grid=param_grid, cv = 7)\n",
    "grid.fit(x_train, y_train)\n",
    "print(grid.best_params_)\n",
    "\n",
    "linreg = LinearRegression()\n",
    "linreg.fit(x_train_p,y_train_p)\n",
    "\n",
    "lasso = Lasso(alpha = 0.01)\n",
    "lasso.fit(x_train_p, y_train_p)\n",
    "\n",
    "predictions = linreg.predict(x_test_p)\n",
    "predictions_lasso = lasso.predict(x_test_p)\n",
    "\n",
    "# Calculate the absolute errors\n",
    "errors_linreg = abs(predictions - y_test_p)\n",
    "errors_lasso = abs(predictions_lasso - y_test_p)\n",
    "# Print out the mean absolute error (mae)\n",
    "print('Mean Absolute Error:', round(np.mean(errors), 2))\n",
    "print('Mean Absolute Error:', round(np.mean(errors_lasso), 2))"
   ]
  },
  {
   "cell_type": "markdown",
   "metadata": {},
   "source": [
    "## Best model"
   ]
  },
  {
   "cell_type": "code",
   "execution_count": 33,
   "metadata": {},
   "outputs": [
    {
     "data": {
      "text/html": [
       "<div>\n",
       "<style scoped>\n",
       "    .dataframe tbody tr th:only-of-type {\n",
       "        vertical-align: middle;\n",
       "    }\n",
       "\n",
       "    .dataframe tbody tr th {\n",
       "        vertical-align: top;\n",
       "    }\n",
       "\n",
       "    .dataframe thead th {\n",
       "        text-align: right;\n",
       "    }\n",
       "</style>\n",
       "<table border=\"1\" class=\"dataframe\">\n",
       "  <thead>\n",
       "    <tr style=\"text-align: right;\">\n",
       "      <th></th>\n",
       "      <th>Model</th>\n",
       "      <th>Accuracy</th>\n",
       "      <th>precision</th>\n",
       "      <th>recall</th>\n",
       "    </tr>\n",
       "  </thead>\n",
       "  <tbody>\n",
       "    <tr>\n",
       "      <td>1</td>\n",
       "      <td>Random Forest</td>\n",
       "      <td>91.91</td>\n",
       "      <td>92.028516</td>\n",
       "      <td>91.790562</td>\n",
       "    </tr>\n",
       "    <tr>\n",
       "      <td>2</td>\n",
       "      <td>Support Vector Machine</td>\n",
       "      <td>88.75</td>\n",
       "      <td>86.892308</td>\n",
       "      <td>91.273432</td>\n",
       "    </tr>\n",
       "    <tr>\n",
       "      <td>0</td>\n",
       "      <td>Logistic Regression</td>\n",
       "      <td>88.35</td>\n",
       "      <td>88.354430</td>\n",
       "      <td>90.239173</td>\n",
       "    </tr>\n",
       "  </tbody>\n",
       "</table>\n",
       "</div>"
      ],
      "text/plain": [
       "                    Model  Accuracy  precision     recall\n",
       "1           Random Forest     91.91  92.028516  91.790562\n",
       "2  Support Vector Machine     88.75  86.892308  91.273432\n",
       "0     Logistic Regression     88.35  88.354430  90.239173"
      ]
     },
     "execution_count": 33,
     "metadata": {},
     "output_type": "execute_result"
    }
   ],
   "source": [
    "results = pd.DataFrame({\n",
    "    'Model': ['Logistic Regression', \n",
    "              'Random Forest', 'Support Vector Machine'],\n",
    "    'Accuracy': [acc_log, acc_rf, acc_svc], \n",
    "    'precision': [prec_log, prec_rf, prec_svc], \n",
    "    'recall': [recall_log, recall_rf, recall_svc]\n",
    "})\n",
    "result_df = results.sort_values(by='Accuracy', ascending=False)\n",
    "result_df.head(9)"
   ]
  },
  {
   "cell_type": "code",
   "execution_count": 76,
   "metadata": {},
   "outputs": [
    {
     "data": {
      "text/html": [
       "<div>\n",
       "<style scoped>\n",
       "    .dataframe tbody tr th:only-of-type {\n",
       "        vertical-align: middle;\n",
       "    }\n",
       "\n",
       "    .dataframe tbody tr th {\n",
       "        vertical-align: top;\n",
       "    }\n",
       "\n",
       "    .dataframe thead th {\n",
       "        text-align: right;\n",
       "    }\n",
       "</style>\n",
       "<table border=\"1\" class=\"dataframe\">\n",
       "  <thead>\n",
       "    <tr style=\"text-align: right;\">\n",
       "      <th></th>\n",
       "      <th>danceability</th>\n",
       "      <th>energy</th>\n",
       "      <th>key</th>\n",
       "      <th>loudness</th>\n",
       "      <th>speechiness</th>\n",
       "      <th>acousticness</th>\n",
       "      <th>instrumentalness</th>\n",
       "      <th>liveness</th>\n",
       "      <th>valence</th>\n",
       "      <th>tempo</th>\n",
       "      <th>duration_ms</th>\n",
       "      <th>chorus_hit</th>\n",
       "      <th>sections</th>\n",
       "    </tr>\n",
       "  </thead>\n",
       "  <tbody>\n",
       "    <tr>\n",
       "      <td>0</td>\n",
       "      <td>0.741</td>\n",
       "      <td>0.626</td>\n",
       "      <td>1</td>\n",
       "      <td>-4.826</td>\n",
       "      <td>0.0886</td>\n",
       "      <td>0.02000</td>\n",
       "      <td>0.000</td>\n",
       "      <td>0.0828</td>\n",
       "      <td>0.706</td>\n",
       "      <td>108.029</td>\n",
       "      <td>188493</td>\n",
       "      <td>41.18681</td>\n",
       "      <td>10</td>\n",
       "    </tr>\n",
       "    <tr>\n",
       "      <td>1</td>\n",
       "      <td>0.447</td>\n",
       "      <td>0.247</td>\n",
       "      <td>5</td>\n",
       "      <td>-14.661</td>\n",
       "      <td>0.0346</td>\n",
       "      <td>0.87100</td>\n",
       "      <td>0.814</td>\n",
       "      <td>0.0946</td>\n",
       "      <td>0.250</td>\n",
       "      <td>155.489</td>\n",
       "      <td>176880</td>\n",
       "      <td>33.18083</td>\n",
       "      <td>9</td>\n",
       "    </tr>\n",
       "    <tr>\n",
       "      <td>2</td>\n",
       "      <td>0.550</td>\n",
       "      <td>0.415</td>\n",
       "      <td>9</td>\n",
       "      <td>-6.557</td>\n",
       "      <td>0.0520</td>\n",
       "      <td>0.16100</td>\n",
       "      <td>0.000</td>\n",
       "      <td>0.1080</td>\n",
       "      <td>0.274</td>\n",
       "      <td>172.065</td>\n",
       "      <td>205463</td>\n",
       "      <td>44.89147</td>\n",
       "      <td>9</td>\n",
       "    </tr>\n",
       "    <tr>\n",
       "      <td>3</td>\n",
       "      <td>0.502</td>\n",
       "      <td>0.648</td>\n",
       "      <td>0</td>\n",
       "      <td>-5.698</td>\n",
       "      <td>0.0527</td>\n",
       "      <td>0.00513</td>\n",
       "      <td>0.000</td>\n",
       "      <td>0.2040</td>\n",
       "      <td>0.291</td>\n",
       "      <td>91.837</td>\n",
       "      <td>193043</td>\n",
       "      <td>29.52521</td>\n",
       "      <td>7</td>\n",
       "    </tr>\n",
       "    <tr>\n",
       "      <td>4</td>\n",
       "      <td>0.807</td>\n",
       "      <td>0.887</td>\n",
       "      <td>1</td>\n",
       "      <td>-3.892</td>\n",
       "      <td>0.2750</td>\n",
       "      <td>0.00381</td>\n",
       "      <td>0.000</td>\n",
       "      <td>0.3910</td>\n",
       "      <td>0.780</td>\n",
       "      <td>160.517</td>\n",
       "      <td>144244</td>\n",
       "      <td>24.99199</td>\n",
       "      <td>8</td>\n",
       "    </tr>\n",
       "  </tbody>\n",
       "</table>\n",
       "</div>"
      ],
      "text/plain": [
       "   danceability  energy  key  loudness  speechiness  acousticness  \\\n",
       "0         0.741   0.626    1    -4.826       0.0886       0.02000   \n",
       "1         0.447   0.247    5   -14.661       0.0346       0.87100   \n",
       "2         0.550   0.415    9    -6.557       0.0520       0.16100   \n",
       "3         0.502   0.648    0    -5.698       0.0527       0.00513   \n",
       "4         0.807   0.887    1    -3.892       0.2750       0.00381   \n",
       "\n",
       "   instrumentalness  liveness  valence    tempo  duration_ms  chorus_hit  \\\n",
       "0             0.000    0.0828    0.706  108.029       188493    41.18681   \n",
       "1             0.814    0.0946    0.250  155.489       176880    33.18083   \n",
       "2             0.000    0.1080    0.274  172.065       205463    44.89147   \n",
       "3             0.000    0.2040    0.291   91.837       193043    29.52521   \n",
       "4             0.000    0.3910    0.780  160.517       144244    24.99199   \n",
       "\n",
       "   sections  \n",
       "0        10  \n",
       "1         9  \n",
       "2         9  \n",
       "3         7  \n",
       "4         8  "
      ]
     },
     "execution_count": 76,
     "metadata": {},
     "output_type": "execute_result"
    }
   ],
   "source": [
    "x_not_scaled.head()"
   ]
  },
  {
   "cell_type": "code",
   "execution_count": 39,
   "metadata": {
    "scrolled": true
   },
   "outputs": [
    {
     "ename": "NameError",
     "evalue": "name 'x_not_scaled' is not defined",
     "output_type": "error",
     "traceback": [
      "\u001b[1;31m---------------------------------------------------------------------------\u001b[0m",
      "\u001b[1;31mNameError\u001b[0m                                 Traceback (most recent call last)",
      "\u001b[1;32m<ipython-input-39-9d1948bb9fc1>\u001b[0m in \u001b[0;36m<module>\u001b[1;34m\u001b[0m\n\u001b[1;32m----> 1\u001b[1;33m \u001b[0mframe\u001b[0m \u001b[1;33m=\u001b[0m \u001b[0mpd\u001b[0m\u001b[1;33m.\u001b[0m\u001b[0mDataFrame\u001b[0m\u001b[1;33m(\u001b[0m\u001b[0mx\u001b[0m\u001b[1;33m,\u001b[0m \u001b[0mcolumns\u001b[0m \u001b[1;33m=\u001b[0m \u001b[0mx_not_scaled\u001b[0m\u001b[1;33m.\u001b[0m\u001b[0mcolumns\u001b[0m\u001b[1;33m)\u001b[0m\u001b[1;33m\u001b[0m\u001b[1;33m\u001b[0m\u001b[0m\n\u001b[0m\u001b[0;32m      2\u001b[0m \u001b[0mframe\u001b[0m\u001b[1;33m.\u001b[0m\u001b[0mhead\u001b[0m\u001b[1;33m(\u001b[0m\u001b[1;33m)\u001b[0m\u001b[1;33m\u001b[0m\u001b[1;33m\u001b[0m\u001b[0m\n",
      "\u001b[1;31mNameError\u001b[0m: name 'x_not_scaled' is not defined"
     ]
    }
   ],
   "source": [
    "frame = pd.DataFrame(x, columns = x_not_scaled.columns)\n",
    "frame.head()"
   ]
  }
 ],
 "metadata": {
  "kernelspec": {
   "display_name": "Python 3",
   "language": "python",
   "name": "python3"
  },
  "language_info": {
   "codemirror_mode": {
    "name": "ipython",
    "version": 3
   },
   "file_extension": ".py",
   "mimetype": "text/x-python",
   "name": "python",
   "nbconvert_exporter": "python",
   "pygments_lexer": "ipython3",
   "version": "3.7.4"
  }
 },
 "nbformat": 4,
 "nbformat_minor": 2
}
