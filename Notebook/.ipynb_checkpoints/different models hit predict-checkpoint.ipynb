{
 "cells": [
  {
   "cell_type": "code",
   "execution_count": 3,
   "metadata": {},
   "outputs": [],
   "source": [
    "#Importing all the packages\n",
    "\n",
    "from sklearn.metrics import precision_score, recall_score\n",
    "import sklearn\n",
    "from sklearn.model_selection import train_test_split\n",
    "import pandas as pd\n",
    "import numpy as np\n",
    "import matplotlib.pyplot as plt\n",
    "\n",
    "from sklearn.metrics import confusion_matrix\n",
    "from sklearn.model_selection import learning_curve\n",
    "from sklearn.ensemble import AdaBoostClassifier\n",
    "from sklearn.pipeline import Pipeline\n",
    "from sklearn.model_selection import GridSearchCV, cross_val_score\n",
    "from sklearn.metrics import precision_score, recall_score\n",
    "from sklearn.preprocessing import StandardScaler\n",
    "from sklearn.svm import SVC, LinearSVC\n",
    "from sklearn import linear_model\n",
    "from sklearn.linear_model import LogisticRegression\n",
    "from sklearn.ensemble import RandomForestClassifier\n",
    "from sklearn.ensemble import RandomForestRegressor\n",
    "from sklearn.neighbors import KNeighborsClassifier\n",
    "from sklearn.naive_bayes import GaussianNB"
   ]
  },
  {
   "cell_type": "markdown",
   "metadata": {},
   "source": [
    "## Loading the data and splitting it into test and train"
   ]
  },
  {
   "cell_type": "code",
   "execution_count": 27,
   "metadata": {},
   "outputs": [
    {
     "data": {
      "text/html": [
       "<div>\n",
       "<style scoped>\n",
       "    .dataframe tbody tr th:only-of-type {\n",
       "        vertical-align: middle;\n",
       "    }\n",
       "\n",
       "    .dataframe tbody tr th {\n",
       "        vertical-align: top;\n",
       "    }\n",
       "\n",
       "    .dataframe thead th {\n",
       "        text-align: right;\n",
       "    }\n",
       "</style>\n",
       "<table border=\"1\" class=\"dataframe\">\n",
       "  <thead>\n",
       "    <tr style=\"text-align: right;\">\n",
       "      <th></th>\n",
       "      <th>danceability</th>\n",
       "      <th>energy</th>\n",
       "      <th>loudness</th>\n",
       "      <th>mode</th>\n",
       "      <th>speechiness</th>\n",
       "      <th>acousticness</th>\n",
       "      <th>instrumentalness</th>\n",
       "      <th>liveness</th>\n",
       "      <th>valence</th>\n",
       "      <th>tempo</th>\n",
       "      <th>duration_ms</th>\n",
       "      <th>time_signature</th>\n",
       "      <th>sections</th>\n",
       "      <th>weeks</th>\n",
       "      <th>artist_popularity</th>\n",
       "      <th>artist_followers</th>\n",
       "      <th>number_of_artists</th>\n",
       "    </tr>\n",
       "  </thead>\n",
       "  <tbody>\n",
       "    <tr>\n",
       "      <td>0</td>\n",
       "      <td>0.765</td>\n",
       "      <td>0.857</td>\n",
       "      <td>-3.908</td>\n",
       "      <td>0</td>\n",
       "      <td>0.0458</td>\n",
       "      <td>0.000386</td>\n",
       "      <td>0.002830</td>\n",
       "      <td>0.0722</td>\n",
       "      <td>0.760</td>\n",
       "      <td>113.984</td>\n",
       "      <td>179040</td>\n",
       "      <td>4</td>\n",
       "      <td>10</td>\n",
       "      <td>96</td>\n",
       "      <td>66</td>\n",
       "      <td>813190</td>\n",
       "      <td>1</td>\n",
       "    </tr>\n",
       "    <tr>\n",
       "      <td>1</td>\n",
       "      <td>0.753</td>\n",
       "      <td>0.934</td>\n",
       "      <td>-3.011</td>\n",
       "      <td>1</td>\n",
       "      <td>0.0736</td>\n",
       "      <td>0.017400</td>\n",
       "      <td>0.065000</td>\n",
       "      <td>0.1280</td>\n",
       "      <td>0.730</td>\n",
       "      <td>113.525</td>\n",
       "      <td>329933</td>\n",
       "      <td>3</td>\n",
       "      <td>16</td>\n",
       "      <td>0</td>\n",
       "      <td>71</td>\n",
       "      <td>2245382</td>\n",
       "      <td>1</td>\n",
       "    </tr>\n",
       "    <tr>\n",
       "      <td>2</td>\n",
       "      <td>0.558</td>\n",
       "      <td>0.801</td>\n",
       "      <td>-7.691</td>\n",
       "      <td>0</td>\n",
       "      <td>0.0295</td>\n",
       "      <td>0.007120</td>\n",
       "      <td>0.010700</td>\n",
       "      <td>0.1310</td>\n",
       "      <td>0.850</td>\n",
       "      <td>132.023</td>\n",
       "      <td>195226</td>\n",
       "      <td>4</td>\n",
       "      <td>9</td>\n",
       "      <td>0</td>\n",
       "      <td>35</td>\n",
       "      <td>3680</td>\n",
       "      <td>2</td>\n",
       "    </tr>\n",
       "    <tr>\n",
       "      <td>3</td>\n",
       "      <td>0.904</td>\n",
       "      <td>0.723</td>\n",
       "      <td>-5.224</td>\n",
       "      <td>0</td>\n",
       "      <td>0.2600</td>\n",
       "      <td>0.063100</td>\n",
       "      <td>0.000000</td>\n",
       "      <td>0.1850</td>\n",
       "      <td>0.835</td>\n",
       "      <td>145.013</td>\n",
       "      <td>227478</td>\n",
       "      <td>4</td>\n",
       "      <td>10</td>\n",
       "      <td>2</td>\n",
       "      <td>95</td>\n",
       "      <td>18303295</td>\n",
       "      <td>4</td>\n",
       "    </tr>\n",
       "    <tr>\n",
       "      <td>4</td>\n",
       "      <td>0.710</td>\n",
       "      <td>0.910</td>\n",
       "      <td>-3.253</td>\n",
       "      <td>1</td>\n",
       "      <td>0.0723</td>\n",
       "      <td>0.008420</td>\n",
       "      <td>0.000003</td>\n",
       "      <td>0.2150</td>\n",
       "      <td>0.803</td>\n",
       "      <td>113.041</td>\n",
       "      <td>230660</td>\n",
       "      <td>4</td>\n",
       "      <td>9</td>\n",
       "      <td>0</td>\n",
       "      <td>46</td>\n",
       "      <td>62811</td>\n",
       "      <td>1</td>\n",
       "    </tr>\n",
       "  </tbody>\n",
       "</table>\n",
       "</div>"
      ],
      "text/plain": [
       "   danceability  energy  loudness  mode  speechiness  acousticness  \\\n",
       "0         0.765   0.857    -3.908     0       0.0458      0.000386   \n",
       "1         0.753   0.934    -3.011     1       0.0736      0.017400   \n",
       "2         0.558   0.801    -7.691     0       0.0295      0.007120   \n",
       "3         0.904   0.723    -5.224     0       0.2600      0.063100   \n",
       "4         0.710   0.910    -3.253     1       0.0723      0.008420   \n",
       "\n",
       "   instrumentalness  liveness  valence    tempo  duration_ms  time_signature  \\\n",
       "0          0.002830    0.0722    0.760  113.984       179040               4   \n",
       "1          0.065000    0.1280    0.730  113.525       329933               3   \n",
       "2          0.010700    0.1310    0.850  132.023       195226               4   \n",
       "3          0.000000    0.1850    0.835  145.013       227478               4   \n",
       "4          0.000003    0.2150    0.803  113.041       230660               4   \n",
       "\n",
       "   sections  weeks  artist_popularity  artist_followers  number_of_artists  \n",
       "0        10     96                 66            813190                  1  \n",
       "1        16      0                 71           2245382                  1  \n",
       "2         9      0                 35              3680                  2  \n",
       "3        10      2                 95          18303295                  4  \n",
       "4         9      0                 46             62811                  1  "
      ]
     },
     "execution_count": 27,
     "metadata": {},
     "output_type": "execute_result"
    }
   ],
   "source": [
    "train = pd.read_csv(r'C:\\Users\\eskil\\PycharmProjects\\tdt4173\\Data\\CSV-files\\clean-data\\train_data', sep = \",\")\n",
    "test = pd.read_csv(r'C:\\Users\\eskil\\PycharmProjects\\tdt4173\\Data\\CSV-files\\clean-data\\test_data', sep = \",\")\n",
    "\n",
    "x_train = train.drop([\"target\", \"Unnamed: 0\", \"release_date\"], axis = 1)\n",
    "y_train = train[\"target\"]\n",
    "\n",
    "x_test = test.drop([\"target\", \"Unnamed: 0\", \"release_date\"], axis = 1)\n",
    "y_test = test[\"target\"]\n",
    "\n",
    "x_train.head()\n"
   ]
  },
  {
   "cell_type": "markdown",
   "metadata": {},
   "source": [
    "# Random Forest Model"
   ]
  },
  {
   "cell_type": "markdown",
   "metadata": {},
   "source": [
    "## Testing different parameters to find the best combination\n",
    "Tuning the hyperparameters and scaling the data used by the cross validation (CV) to avoid any dataleakage when scaling the data. Not using the OOB-score considering because it uses only a subset of the DTs in the random forest not used when training and we also have enough data to set aside a considerably large validationset when using cross-validation."
   ]
  },
  {
   "cell_type": "code",
   "execution_count": null,
   "metadata": {},
   "outputs": [],
   "source": [
    "#Tuning the n_estimators-parameter to find where it starts to drop off.\n",
    "n_estimators = [1, 2, 5, 10, 50, 100, 150, 200, 300, 400, 500]\n",
    "max_depth = [20]\n",
    "param_grid = {\"n_estimators\" : n_estimators, \"max_depth\" : max_depth}\n",
    "estimator = RandomForestClassifier()\n",
    "clf = GridSearchCV(estimator = estimator, param_grid = param_grid, n_jobs=-1, cv = 5)\n",
    "print(\"morn\")\n",
    "clf.fit(x_train,y_train)\n",
    "print(\"morn\")\n",
    "allscores=clf.cv_results_['mean_test_score']\n",
    "print(allscores)"
   ]
  },
  {
   "cell_type": "code",
   "execution_count": null,
   "metadata": {},
   "outputs": [],
   "source": [
    "#Tuning the max_depth parameter.\n",
    "n_estimators = [150]\n",
    "max_depth = [1,2,5,10,20,30,40, None]\n",
    "param_grid = {\"n_estimators\" : n_estimators, \"max_depth\" : max_depth}\n",
    "estimator = RandomForestClassifier()\n",
    "clf = GridSearchCV(estimator = estimator, param_grid = param_grid, n_jobs=-1, cv = 5)\n",
    "print(\"morn\")\n",
    "clf.fit(x_train,y_train)\n",
    "print(\"morn\")\n",
    "allscores=clf.cv_results_['mean_test_score']\n",
    "print(allscores)"
   ]
  },
  {
   "cell_type": "code",
   "execution_count": 16,
   "metadata": {},
   "outputs": [
    {
     "data": {
      "text/html": [
       "<div>\n",
       "<style scoped>\n",
       "    .dataframe tbody tr th:only-of-type {\n",
       "        vertical-align: middle;\n",
       "    }\n",
       "\n",
       "    .dataframe tbody tr th {\n",
       "        vertical-align: top;\n",
       "    }\n",
       "\n",
       "    .dataframe thead th {\n",
       "        text-align: right;\n",
       "    }\n",
       "</style>\n",
       "<table border=\"1\" class=\"dataframe\">\n",
       "  <thead>\n",
       "    <tr style=\"text-align: right;\">\n",
       "      <th></th>\n",
       "      <th>Unnamed: 0</th>\n",
       "      <th>danceability</th>\n",
       "      <th>energy</th>\n",
       "      <th>loudness</th>\n",
       "      <th>mode</th>\n",
       "      <th>speechiness</th>\n",
       "      <th>acousticness</th>\n",
       "      <th>instrumentalness</th>\n",
       "      <th>liveness</th>\n",
       "      <th>valence</th>\n",
       "      <th>tempo</th>\n",
       "      <th>duration_ms</th>\n",
       "      <th>time_signature</th>\n",
       "      <th>sections</th>\n",
       "      <th>release_date</th>\n",
       "      <th>weeks</th>\n",
       "      <th>artist_popularity</th>\n",
       "      <th>artist_followers</th>\n",
       "      <th>number_of_artists</th>\n",
       "    </tr>\n",
       "  </thead>\n",
       "  <tbody>\n",
       "    <tr>\n",
       "      <td>390</td>\n",
       "      <td>13354</td>\n",
       "      <td>0.491</td>\n",
       "      <td>0.835</td>\n",
       "      <td>-4.272</td>\n",
       "      <td>1</td>\n",
       "      <td>0.0464</td>\n",
       "      <td>0.1840</td>\n",
       "      <td>0.000000</td>\n",
       "      <td>0.1190</td>\n",
       "      <td>0.711</td>\n",
       "      <td>185.956</td>\n",
       "      <td>207173</td>\n",
       "      <td>4</td>\n",
       "      <td>9</td>\n",
       "      <td>2018</td>\n",
       "      <td>49</td>\n",
       "      <td>84</td>\n",
       "      <td>958288</td>\n",
       "      <td>1</td>\n",
       "    </tr>\n",
       "    <tr>\n",
       "      <td>6496</td>\n",
       "      <td>2494</td>\n",
       "      <td>0.654</td>\n",
       "      <td>0.760</td>\n",
       "      <td>-3.669</td>\n",
       "      <td>0</td>\n",
       "      <td>0.0450</td>\n",
       "      <td>0.0797</td>\n",
       "      <td>0.000000</td>\n",
       "      <td>0.2990</td>\n",
       "      <td>0.410</td>\n",
       "      <td>99.945</td>\n",
       "      <td>200786</td>\n",
       "      <td>4</td>\n",
       "      <td>9</td>\n",
       "      <td>2015</td>\n",
       "      <td>236</td>\n",
       "      <td>96</td>\n",
       "      <td>39185957</td>\n",
       "      <td>1</td>\n",
       "    </tr>\n",
       "    <tr>\n",
       "      <td>2383</td>\n",
       "      <td>11945</td>\n",
       "      <td>0.791</td>\n",
       "      <td>0.577</td>\n",
       "      <td>-6.555</td>\n",
       "      <td>1</td>\n",
       "      <td>0.0367</td>\n",
       "      <td>0.4980</td>\n",
       "      <td>0.470000</td>\n",
       "      <td>0.1200</td>\n",
       "      <td>0.217</td>\n",
       "      <td>115.070</td>\n",
       "      <td>298240</td>\n",
       "      <td>4</td>\n",
       "      <td>13</td>\n",
       "      <td>2016</td>\n",
       "      <td>53</td>\n",
       "      <td>84</td>\n",
       "      <td>4144570</td>\n",
       "      <td>1</td>\n",
       "    </tr>\n",
       "    <tr>\n",
       "      <td>8560</td>\n",
       "      <td>12772</td>\n",
       "      <td>0.850</td>\n",
       "      <td>0.500</td>\n",
       "      <td>-6.708</td>\n",
       "      <td>1</td>\n",
       "      <td>0.0665</td>\n",
       "      <td>0.0139</td>\n",
       "      <td>0.000384</td>\n",
       "      <td>0.0947</td>\n",
       "      <td>0.816</td>\n",
       "      <td>160.020</td>\n",
       "      <td>170509</td>\n",
       "      <td>4</td>\n",
       "      <td>9</td>\n",
       "      <td>2018</td>\n",
       "      <td>12</td>\n",
       "      <td>99</td>\n",
       "      <td>28699948</td>\n",
       "      <td>3</td>\n",
       "    </tr>\n",
       "    <tr>\n",
       "      <td>1750</td>\n",
       "      <td>4601</td>\n",
       "      <td>0.510</td>\n",
       "      <td>0.398</td>\n",
       "      <td>-7.685</td>\n",
       "      <td>0</td>\n",
       "      <td>0.0284</td>\n",
       "      <td>0.3620</td>\n",
       "      <td>0.001390</td>\n",
       "      <td>0.1120</td>\n",
       "      <td>0.261</td>\n",
       "      <td>156.080</td>\n",
       "      <td>285506</td>\n",
       "      <td>4</td>\n",
       "      <td>12</td>\n",
       "      <td>2009</td>\n",
       "      <td>410</td>\n",
       "      <td>73</td>\n",
       "      <td>1370201</td>\n",
       "      <td>1</td>\n",
       "    </tr>\n",
       "  </tbody>\n",
       "</table>\n",
       "</div>"
      ],
      "text/plain": [
       "      Unnamed: 0  danceability  energy  loudness  mode  speechiness  \\\n",
       "390        13354         0.491   0.835    -4.272     1       0.0464   \n",
       "6496        2494         0.654   0.760    -3.669     0       0.0450   \n",
       "2383       11945         0.791   0.577    -6.555     1       0.0367   \n",
       "8560       12772         0.850   0.500    -6.708     1       0.0665   \n",
       "1750        4601         0.510   0.398    -7.685     0       0.0284   \n",
       "\n",
       "      acousticness  instrumentalness  liveness  valence    tempo  duration_ms  \\\n",
       "390         0.1840          0.000000    0.1190    0.711  185.956       207173   \n",
       "6496        0.0797          0.000000    0.2990    0.410   99.945       200786   \n",
       "2383        0.4980          0.470000    0.1200    0.217  115.070       298240   \n",
       "8560        0.0139          0.000384    0.0947    0.816  160.020       170509   \n",
       "1750        0.3620          0.001390    0.1120    0.261  156.080       285506   \n",
       "\n",
       "      time_signature  sections  release_date  weeks  artist_popularity  \\\n",
       "390                4         9          2018     49                 84   \n",
       "6496               4         9          2015    236                 96   \n",
       "2383               4        13          2016     53                 84   \n",
       "8560               4         9          2018     12                 99   \n",
       "1750               4        12          2009    410                 73   \n",
       "\n",
       "      artist_followers  number_of_artists  \n",
       "390             958288                  1  \n",
       "6496          39185957                  1  \n",
       "2383           4144570                  1  \n",
       "8560          28699948                  3  \n",
       "1750           1370201                  1  "
      ]
     },
     "execution_count": 16,
     "metadata": {},
     "output_type": "execute_result"
    }
   ],
   "source": [
    "x_train.head()"
   ]
  },
  {
   "cell_type": "code",
   "execution_count": 17,
   "metadata": {},
   "outputs": [
    {
     "name": "stdout",
     "output_type": "stream",
     "text": [
      "[71.29, 71.76, 73.67, 75.08, 76.04, 76.99, 78.68, 80.42, 82.79, 85.35, 88.44, 91.18, 93.44, 95.9, 97.34, 98.39, 99.35, 99.71, 99.88, 99.99]\n",
      "[73.04, 73.08, 74.23, 74.89, 75.71, 76.2, 77.14, 77.8, 78.42, 78.46, 78.66, 79.4, 79.07, 79.52, 79.65, 79.36, 80.22, 80.18, 80.02, 80.14]\n"
     ]
    },
    {
     "data": {
      "text/plain": [
       "Text(0, 0.5, 'accuracy')"
      ]
     },
     "execution_count": 17,
     "metadata": {},
     "output_type": "execute_result"
    },
    {
     "data": {
      "image/png": "[encoded data removed]",
      "text/plain": [
       "<Figure size 432x288 with 1 Axes>"
      ]
     },
     "metadata": {
      "needs_background": "light"
     },
     "output_type": "display_data"
    }
   ],
   "source": [
    "# Proving how our model starts to overfit the trainingdata severely for large depth values,\n",
    "#without any increase in generalization/accuracy on the \"test data\"\n",
    "#for this we don't use cross validation, considering the increasing time complexity and that its mainly for visualisation purposes\n",
    "data = pd.read_csv(r'C:\\Users\\eskil\\PycharmProjects\\tdt4173\\Data\\CSV-files\\clean-data\\train_data', sep = \",\")\n",
    "train, evaluation = train_test_split(data, test_size = 0.2, random_state = 4)\n",
    "\n",
    "x_train = train.drop([\"target\", \"Unnamed: 0\"], axis = 1)\n",
    "y_train = train[\"target\"]\n",
    "\n",
    "x_eval = evaluation.drop([\"target\", \"Unnamed: 0\"], axis = 1)\n",
    "y_eval = evaluation[\"target\"]\n",
    "\n",
    "max_depths = np.linspace(1, 20, 20, endpoint=True)\n",
    "train_results = []\n",
    "eval_results = []\n",
    "\n",
    "for max_depth in max_depths:\n",
    "    rf = RandomForestClassifier(max_depth=max_depth, n_jobs=-1, n_estimators = 150)\n",
    "    rf.fit(x_train, y_train)\n",
    "    \n",
    "    acc_rf = round(rf.score(x_train, y_train) * 100, 2)\n",
    "    train_results.append(acc_rf)\n",
    "\n",
    "    acc_rf = round(rf.score(x_eval, y_eval) * 100, 2)\n",
    "    eval_results.append(acc_rf)\n",
    "    \n",
    "from matplotlib.legend_handler import HandlerLine2D\n",
    "print(train_results)\n",
    "print(eval_results)\n",
    "plt.plot(max_depths, train_results)\n",
    "plt.plot(max_depths, eval_results)\n",
    "plt.grid()\n",
    "\n",
    "plt.title(\"Accuracy train/test for different depth\")\n",
    "plt.xlabel(\"depth\")\n",
    "plt.ylabel(\"accuracy\")"
   ]
  },
  {
   "cell_type": "code",
   "execution_count": 6,
   "metadata": {},
   "outputs": [
    {
     "data": {
      "text/plain": [
       "{'criterion': 'gini',\n",
       " 'max_depth': 15,\n",
       " 'max_features': 0.7,\n",
       " 'min_samples_leaf': 1,\n",
       " 'min_samples_split': 8,\n",
       " 'n_estimators': 150}"
      ]
     },
     "execution_count": 6,
     "metadata": {},
     "output_type": "execute_result"
    }
   ],
   "source": [
    "# Setting all the parameters to be tested as well as initialize the classifier to be used.\n",
    "clf = RandomForestClassifier()\n",
    "min_samples_split = [2, 8, 16, 32, 60]\n",
    "min_samples_leaf = [1, 3, 9, 18, 27]\n",
    "max_features = [\"sqrt\", 0.5, 0.7]\n",
    "n_estimators = [150]\n",
    "max_depth = [15]\n",
    "criterion = [\"gini\"]\n",
    "\n",
    "#Making a grid of all parameters and use the gridsearchCV to crossvalidate ahe models using all combinations inside the grid\n",
    "# Printing the params yielding the best accuracy.\n",
    "param_grid = {\"criterion\" : criterion, \"n_estimators\" : n_estimators,\n",
    "              \"max_depth\" : max_depth, \"min_samples_split\" : min_samples_split,\n",
    "              \"min_samples_leaf\" : min_samples_leaf, \"max_features\" : max_features}\n",
    "clf = GridSearchCV(estimator = clf, param_grid = param_grid, n_jobs=-1, cv = 5)\n",
    "clf.fit(x_train, y_train)\n",
    "clf.best_params_"
   ]
  },
  {
   "cell_type": "markdown",
   "metadata": {},
   "source": [
    "## Testing the model with the best parameters, printing the accuracies and plotting the learning curve"
   ]
  },
  {
   "cell_type": "code",
   "execution_count": 28,
   "metadata": {},
   "outputs": [
    {
     "name": "stdout",
     "output_type": "stream",
     "text": [
      "accuracy: 70.45\n",
      "Precision: 69.8473282442748\n",
      "Recall: 72.04724409448819\n"
     ]
    },
    {
     "data": {
      "text/plain": [
       "array([[1048,  426],\n",
       "       [ 474, 1098]], dtype=int64)"
      ]
     },
     "execution_count": 28,
     "metadata": {},
     "output_type": "execute_result"
    }
   ],
   "source": [
    "#Testing the model on the hold off test set and printing accuracy, recall and precision as well as the confusion matrix.\n",
    "rf = RandomForestClassifier(criterion = \"gini\", n_estimators = 150, max_depth = 15, max_features = 0.7, min_samples_leaf = 1, min_samples_split = 8)\n",
    "#rf = clf.best_estimator_\n",
    "rf.fit(x_train,y_train)\n",
    "predictions = rf.predict(x_test)\n",
    "acc_rf = round(rf.score(x_test, y_test) * 100, 2)\n",
    "prec_rf = precision_score(y_test, predictions) * 100\n",
    "recall_rf = recall_score(y_test, predictions) * 100\n",
    "\n",
    "print(\"accuracy:\", acc_rf)\n",
    "print(\"Precision:\", prec_rf)\n",
    "print(\"Recall:\", recall_rf)\n",
    "confusion_matrix(predictions, y_test)"
   ]
  },
  {
   "cell_type": "code",
   "execution_count": 29,
   "metadata": {},
   "outputs": [
    {
     "name": "stdout",
     "output_type": "stream",
     "text": [
      "[learning_curve] Training set sizes: [  97  430  762 1095 1428 1761 2093 2426 2759 3091 3424 3757 4089 4422\n",
      " 4755 5088 5420 5753 6086 6418 6751 7084 7417 7749 8082 8415 8747 9080\n",
      " 9413 9746]\n"
     ]
    },
    {
     "name": "stderr",
     "output_type": "stream",
     "text": [
      "[Parallel(n_jobs=1)]: Using backend SequentialBackend with 1 concurrent workers.\n",
      "[Parallel(n_jobs=1)]: Done 150 out of 150 | elapsed: 13.9min finished\n"
     ]
    },
    {
     "data": {
      "text/plain": [
       "Text(0, 0.5, 'accuracy')"
      ]
     },
     "execution_count": 29,
     "metadata": {},
     "output_type": "execute_result"
    },
    {
     "data": {
      "image/png": "[encoded data removed]",
      "text/plain": [
       "<Figure size 432x288 with 1 Axes>"
      ]
     },
     "metadata": {
      "needs_background": "light"
     },
     "output_type": "display_data"
    }
   ],
   "source": [
    "# Preperation for finding the learning curve\n",
    "train_sizes, train_scores, test_scores = learning_curve(rf, x_train, y_train, cv = 5, scoring = \"accuracy\", train_sizes = np.linspace(0.01,1,30), verbose = 1)\n",
    "\n",
    "train_mean = np.mean(train_scores, axis = 1)\n",
    "test_mean = np.mean(test_scores, axis = 1)\n",
    "\n",
    "#Plotting the learning curve\n",
    "plt.plot(train_sizes, train_mean, label = 'training score')\n",
    "plt.plot(train_sizes, test_mean, label = 'cross-validation score')\n",
    "plt.grid()\n",
    "\n",
    "plt.title(\"Learning Curve\")\n",
    "plt.xlabel(\"samples\")\n",
    "plt.ylabel(\"accuracy\")"
   ]
  },
  {
   "cell_type": "markdown",
   "metadata": {},
   "source": [
    "## Importances of the different features"
   ]
  },
  {
   "cell_type": "code",
   "execution_count": null,
   "metadata": {},
   "outputs": [],
   "source": [
    "# Plotting the importance of each features for the random forest model\n",
    "importances = pd.DataFrame({'feature':x_train.columns,'importance':np.round(rf.feature_importances_,4)})\n",
    "importances = importances.sort_values('importance',ascending=False).set_index('feature')\n",
    "importances.head(15)\n",
    "importances.plot.bar()"
   ]
  }
 ],
 "metadata": {
  "kernelspec": {
   "display_name": "Python 3",
   "language": "python",
   "name": "python3"
  },
  "language_info": {
   "codemirror_mode": {
    "name": "ipython",
    "version": 3
   },
   "file_extension": ".py",
   "mimetype": "text/x-python",
   "name": "python",
   "nbconvert_exporter": "python",
   "pygments_lexer": "ipython3",
   "version": "3.7.4"
  }
 },
 "nbformat": 4,
 "nbformat_minor": 2
}
