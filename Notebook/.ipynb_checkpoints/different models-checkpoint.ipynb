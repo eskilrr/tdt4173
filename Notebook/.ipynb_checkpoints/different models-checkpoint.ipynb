{
 "cells": [
  {
   "cell_type": "code",
   "execution_count": 46,
   "metadata": {},
   "outputs": [],
   "source": [
    "#Testing different models\n",
    "\n",
    "from sklearn.metrics import precision_score, recall_score\n",
    "import sklearn\n",
    "from sklearn.model_selection import train_test_split\n",
    "import pandas as pd\n",
    "import numpy as np\n",
    "import matplotlib\n",
    "\n",
    "from sklearn.preprocessing import StandardScaler\n",
    "from sklearn.model_selection import GridSearchCV\n",
    "from sklearn.svm import SVC, LinearSVC\n",
    "from sklearn import linear_model\n",
    "from sklearn.linear_model import LogisticRegression\n",
    "from sklearn.ensemble import RandomForestClassifier\n",
    "from sklearn.neighbors import KNeighborsClassifier\n",
    "from sklearn.naive_bayes import GaussianNB"
   ]
  },
  {
   "cell_type": "markdown",
   "metadata": {},
   "source": [
    "## Loading all data\n",
    "For all models exept the random forest, it is apparantly very important to scale the data. Random forest also gives the best result (as can be seen from the bottom table). "
   ]
  },
  {
   "cell_type": "code",
   "execution_count": 117,
   "metadata": {},
   "outputs": [],
   "source": [
    "df = pd.read_csv(r'C:\\Users\\eskil\\PycharmProjects\\tdt4173\\Data\\CSV-files\\dataset-of-70s.csv')\n",
    "df70s = pd.read_csv(r'C:\\Users\\eskil\\PycharmProjects\\tdt4173\\Data\\CSV-files\\dataset-of-70s.csv')"
   ]
  },
  {
   "cell_type": "code",
   "execution_count": 118,
   "metadata": {},
   "outputs": [],
   "source": [
    "x = df.iloc[:,0:-1].drop([\"track\", \"artist\", \"uri\", \"mode\", \"time_signature\"], axis = 1)\n",
    "x_not_scaled = df.iloc[:,0:-1].drop([\"track\", \"artist\", \"uri\", \"mode\", \"time_signature\"], axis = 1)\n",
    "scaler = StandardScaler()\n",
    "x = scaler.fit_transform(x)\n",
    "x = pd.DataFrame(x, columns = x_not_scaled.columns)\n",
    "y = df.iloc[:, -1]\n",
    "\n",
    "x70s = df70s.iloc[:,0:-1].drop([\"track\", \"artist\", \"uri\", \"mode\", \"time_signature\"], axis = 1)\n",
    "y70s = df70s.iloc[:, -1]\n",
    "\n",
    "x_train, x_test, y_train, y_test = train_test_split(x, y, test_size = 0.3, random_state = 4)\n",
    "\n",
    "x70s_train, x70s_test, y70s_train, y70s_test = train_test_split(x70s, y70s, test_size = 0.3, random_state = 4)"
   ]
  },
  {
   "cell_type": "markdown",
   "metadata": {},
   "source": [
    "## Logistic regression model"
   ]
  },
  {
   "cell_type": "code",
   "execution_count": 119,
   "metadata": {},
   "outputs": [
    {
     "name": "stderr",
     "output_type": "stream",
     "text": [
      "C:\\Users\\eskil\\Anaconda3\\lib\\site-packages\\sklearn\\linear_model\\logistic.py:432: FutureWarning: Default solver will be changed to 'lbfgs' in 0.22. Specify a solver to silence this warning.\n",
      "  FutureWarning)\n"
     ]
    }
   ],
   "source": [
    "logreg = LogisticRegression()\n",
    "logreg.fit(x_train, y_train)\n",
    "\n",
    "Y_pred = logreg.predict(x_test)\n",
    "\n",
    "acc_log = round(logreg.score(x_train, y_train) * 100, 2)"
   ]
  },
  {
   "cell_type": "markdown",
   "metadata": {},
   "source": [
    "## Random Forest model"
   ]
  },
  {
   "cell_type": "code",
   "execution_count": 120,
   "metadata": {},
   "outputs": [
    {
     "name": "stdout",
     "output_type": "stream",
     "text": [
      "77.6\n"
     ]
    },
    {
     "data": {
      "text/plain": [
       "'\\ntrue_values = y_test.values\\naccuracy = []\\nfor predicted in pred:\\n    count = 0\\n    for i in range(len(predicted)):\\n        if (predicted[i] == true_values[i]):\\n            count += 1\\n    accuracy.append(round(count*100/len(true_values), 2))\\n    \\nacc_rf = np.amax(accuracy)\\nprint(acc_rf)\\n'"
      ]
     },
     "execution_count": 120,
     "metadata": {},
     "output_type": "execute_result"
    }
   ],
   "source": [
    "estimators = range(1,100,2)\n",
    "pred = []\n",
    "best = 0\n",
    "for i in estimators:\n",
    "    rf = RandomForestClassifier(n_estimators = i)\n",
    "    rf.fit(x_train, y_train)\n",
    "    predicted = rf.predict(x_test)\n",
    "    pred.append(predicted)\n",
    "    acc_rf = round(rf.score(x_test, y_test) * 100, 2)\n",
    "    if (acc_rf > best):\n",
    "        best = acc_rf\n",
    "acc_rf = best\n",
    "print(acc_rf)\n",
    "\"\"\"\n",
    "true_values = y_test.values\n",
    "accuracy = []\n",
    "for predicted in pred:\n",
    "    count = 0\n",
    "    for i in range(len(predicted)):\n",
    "        if (predicted[i] == true_values[i]):\n",
    "            count += 1\n",
    "    accuracy.append(round(count*100/len(true_values), 2))\n",
    "    \n",
    "acc_rf = np.amax(accuracy)\n",
    "print(acc_rf)\n",
    "\"\"\""
   ]
  },
  {
   "cell_type": "markdown",
   "metadata": {},
   "source": [
    "## Gaussian Naive Bayes"
   ]
  },
  {
   "cell_type": "code",
   "execution_count": 121,
   "metadata": {},
   "outputs": [],
   "source": [
    "gaussian = GaussianNB() \n",
    "gaussian.fit(x_train, y_train)  \n",
    "y_pred = gaussian.predict(x_test)  \n",
    "acc_gaussian = round(gaussian.score(x_test, y_test) * 100, 2)"
   ]
  },
  {
   "cell_type": "markdown",
   "metadata": {},
   "source": [
    "## K-Nearest Neighbor"
   ]
  },
  {
   "cell_type": "code",
   "execution_count": 122,
   "metadata": {},
   "outputs": [
    {
     "name": "stdout",
     "output_type": "stream",
     "text": [
      "73.26\n"
     ]
    }
   ],
   "source": [
    "neighbours = range(3,60,5)\n",
    "best = 0\n",
    "for n in neighbours:    \n",
    "    knn = KNeighborsClassifier(n_neighbors = n) \n",
    "    knn.fit(x_train, y_train)  \n",
    "    y_pred = knn.predict(x_test)  \n",
    "    acc_knn = round(knn.score(x_test, y_test) * 100, 2)\n",
    "    if (acc_knn > best):\n",
    "        best = acc_knn\n",
    "acc_knn = best\n",
    "print(best)"
   ]
  },
  {
   "cell_type": "markdown",
   "metadata": {},
   "source": [
    "## Support Vector Machine (SVC)"
   ]
  },
  {
   "cell_type": "code",
   "execution_count": 123,
   "metadata": {},
   "outputs": [
    {
     "name": "stderr",
     "output_type": "stream",
     "text": [
      "C:\\Users\\eskil\\Anaconda3\\lib\\site-packages\\sklearn\\model_selection\\_split.py:1978: FutureWarning: The default value of cv will change from 3 to 5 in version 0.22. Specify it explicitly to silence this warning.\n",
      "  warnings.warn(CV_WARNING, FutureWarning)\n"
     ]
    },
    {
     "name": "stdout",
     "output_type": "stream",
     "text": [
      "{'C': 1, 'gamma': 0.1}\n",
      "75.28\n"
     ]
    }
   ],
   "source": [
    "#C_range = np.logspace(-4, 4, 9)\n",
    "#gamma_range = np.logspace(-4, 4, 9)\n",
    "C_range = [1]\n",
    "gamma_range = [0.1]\n",
    "param_grid = dict(gamma=gamma_range, C=C_range)\n",
    "grid = GridSearchCV(SVC(), param_grid=param_grid)\n",
    "grid.fit(x_train, y_train)\n",
    "#acc_knn = round(knn.score(x_test, y_test) * 100, 2)\n",
    "print(grid.best_params_)\n",
    "print(acc_svc)"
   ]
  },
  {
   "cell_type": "code",
   "execution_count": 124,
   "metadata": {},
   "outputs": [
    {
     "name": "stdout",
     "output_type": "stream",
     "text": [
      "75.67\n"
     ]
    }
   ],
   "source": [
    "rbf_svc = SVC(kernel='rbf', C = 1, gamma = 0.1)\n",
    "rbf_svc.fit(x_train, y_train)\n",
    "rbf_svc.predict(x_test)\n",
    "acc_svc = round(rbf_svc.score(x_test, y_test) * 100, 2)\n",
    "print(acc_svc)"
   ]
  },
  {
   "cell_type": "markdown",
   "metadata": {},
   "source": [
    "## Best model"
   ]
  },
  {
   "cell_type": "code",
   "execution_count": 125,
   "metadata": {},
   "outputs": [
    {
     "data": {
      "text/html": [
       "<div>\n",
       "<style scoped>\n",
       "    .dataframe tbody tr th:only-of-type {\n",
       "        vertical-align: middle;\n",
       "    }\n",
       "\n",
       "    .dataframe tbody tr th {\n",
       "        vertical-align: top;\n",
       "    }\n",
       "\n",
       "    .dataframe thead th {\n",
       "        text-align: right;\n",
       "    }\n",
       "</style>\n",
       "<table border=\"1\" class=\"dataframe\">\n",
       "  <thead>\n",
       "    <tr style=\"text-align: right;\">\n",
       "      <th></th>\n",
       "      <th>Model</th>\n",
       "    </tr>\n",
       "    <tr>\n",
       "      <th>Score</th>\n",
       "      <th></th>\n",
       "    </tr>\n",
       "  </thead>\n",
       "  <tbody>\n",
       "    <tr>\n",
       "      <td>77.60</td>\n",
       "      <td>Random Forest</td>\n",
       "    </tr>\n",
       "    <tr>\n",
       "      <td>75.67</td>\n",
       "      <td>Support Vector Machine</td>\n",
       "    </tr>\n",
       "    <tr>\n",
       "      <td>73.26</td>\n",
       "      <td>KNeighbours</td>\n",
       "    </tr>\n",
       "    <tr>\n",
       "      <td>71.12</td>\n",
       "      <td>Naive Bayes</td>\n",
       "    </tr>\n",
       "    <tr>\n",
       "      <td>70.75</td>\n",
       "      <td>Logistic Regression</td>\n",
       "    </tr>\n",
       "  </tbody>\n",
       "</table>\n",
       "</div>"
      ],
      "text/plain": [
       "                        Model\n",
       "Score                        \n",
       "77.60           Random Forest\n",
       "75.67  Support Vector Machine\n",
       "73.26             KNeighbours\n",
       "71.12             Naive Bayes\n",
       "70.75     Logistic Regression"
      ]
     },
     "execution_count": 125,
     "metadata": {},
     "output_type": "execute_result"
    }
   ],
   "source": [
    "results = pd.DataFrame({\n",
    "    'Model': ['Logistic Regression', \n",
    "              'Random Forest', 'Naive Bayes', 'KNeighbours', 'Support Vector Machine'],\n",
    "    'Score': [acc_log, \n",
    "              acc_rf, acc_gaussian, acc_knn, acc_svc]})\n",
    "result_df = results.sort_values(by='Score', ascending=False)\n",
    "result_df = result_df.set_index('Score')\n",
    "result_df.head(9)"
   ]
  },
  {
   "cell_type": "code",
   "execution_count": 76,
   "metadata": {},
   "outputs": [
    {
     "data": {
      "text/html": [
       "<div>\n",
       "<style scoped>\n",
       "    .dataframe tbody tr th:only-of-type {\n",
       "        vertical-align: middle;\n",
       "    }\n",
       "\n",
       "    .dataframe tbody tr th {\n",
       "        vertical-align: top;\n",
       "    }\n",
       "\n",
       "    .dataframe thead th {\n",
       "        text-align: right;\n",
       "    }\n",
       "</style>\n",
       "<table border=\"1\" class=\"dataframe\">\n",
       "  <thead>\n",
       "    <tr style=\"text-align: right;\">\n",
       "      <th></th>\n",
       "      <th>danceability</th>\n",
       "      <th>energy</th>\n",
       "      <th>key</th>\n",
       "      <th>loudness</th>\n",
       "      <th>speechiness</th>\n",
       "      <th>acousticness</th>\n",
       "      <th>instrumentalness</th>\n",
       "      <th>liveness</th>\n",
       "      <th>valence</th>\n",
       "      <th>tempo</th>\n",
       "      <th>duration_ms</th>\n",
       "      <th>chorus_hit</th>\n",
       "      <th>sections</th>\n",
       "    </tr>\n",
       "  </thead>\n",
       "  <tbody>\n",
       "    <tr>\n",
       "      <td>0</td>\n",
       "      <td>0.741</td>\n",
       "      <td>0.626</td>\n",
       "      <td>1</td>\n",
       "      <td>-4.826</td>\n",
       "      <td>0.0886</td>\n",
       "      <td>0.02000</td>\n",
       "      <td>0.000</td>\n",
       "      <td>0.0828</td>\n",
       "      <td>0.706</td>\n",
       "      <td>108.029</td>\n",
       "      <td>188493</td>\n",
       "      <td>41.18681</td>\n",
       "      <td>10</td>\n",
       "    </tr>\n",
       "    <tr>\n",
       "      <td>1</td>\n",
       "      <td>0.447</td>\n",
       "      <td>0.247</td>\n",
       "      <td>5</td>\n",
       "      <td>-14.661</td>\n",
       "      <td>0.0346</td>\n",
       "      <td>0.87100</td>\n",
       "      <td>0.814</td>\n",
       "      <td>0.0946</td>\n",
       "      <td>0.250</td>\n",
       "      <td>155.489</td>\n",
       "      <td>176880</td>\n",
       "      <td>33.18083</td>\n",
       "      <td>9</td>\n",
       "    </tr>\n",
       "    <tr>\n",
       "      <td>2</td>\n",
       "      <td>0.550</td>\n",
       "      <td>0.415</td>\n",
       "      <td>9</td>\n",
       "      <td>-6.557</td>\n",
       "      <td>0.0520</td>\n",
       "      <td>0.16100</td>\n",
       "      <td>0.000</td>\n",
       "      <td>0.1080</td>\n",
       "      <td>0.274</td>\n",
       "      <td>172.065</td>\n",
       "      <td>205463</td>\n",
       "      <td>44.89147</td>\n",
       "      <td>9</td>\n",
       "    </tr>\n",
       "    <tr>\n",
       "      <td>3</td>\n",
       "      <td>0.502</td>\n",
       "      <td>0.648</td>\n",
       "      <td>0</td>\n",
       "      <td>-5.698</td>\n",
       "      <td>0.0527</td>\n",
       "      <td>0.00513</td>\n",
       "      <td>0.000</td>\n",
       "      <td>0.2040</td>\n",
       "      <td>0.291</td>\n",
       "      <td>91.837</td>\n",
       "      <td>193043</td>\n",
       "      <td>29.52521</td>\n",
       "      <td>7</td>\n",
       "    </tr>\n",
       "    <tr>\n",
       "      <td>4</td>\n",
       "      <td>0.807</td>\n",
       "      <td>0.887</td>\n",
       "      <td>1</td>\n",
       "      <td>-3.892</td>\n",
       "      <td>0.2750</td>\n",
       "      <td>0.00381</td>\n",
       "      <td>0.000</td>\n",
       "      <td>0.3910</td>\n",
       "      <td>0.780</td>\n",
       "      <td>160.517</td>\n",
       "      <td>144244</td>\n",
       "      <td>24.99199</td>\n",
       "      <td>8</td>\n",
       "    </tr>\n",
       "  </tbody>\n",
       "</table>\n",
       "</div>"
      ],
      "text/plain": [
       "   danceability  energy  key  loudness  speechiness  acousticness  \\\n",
       "0         0.741   0.626    1    -4.826       0.0886       0.02000   \n",
       "1         0.447   0.247    5   -14.661       0.0346       0.87100   \n",
       "2         0.550   0.415    9    -6.557       0.0520       0.16100   \n",
       "3         0.502   0.648    0    -5.698       0.0527       0.00513   \n",
       "4         0.807   0.887    1    -3.892       0.2750       0.00381   \n",
       "\n",
       "   instrumentalness  liveness  valence    tempo  duration_ms  chorus_hit  \\\n",
       "0             0.000    0.0828    0.706  108.029       188493    41.18681   \n",
       "1             0.814    0.0946    0.250  155.489       176880    33.18083   \n",
       "2             0.000    0.1080    0.274  172.065       205463    44.89147   \n",
       "3             0.000    0.2040    0.291   91.837       193043    29.52521   \n",
       "4             0.000    0.3910    0.780  160.517       144244    24.99199   \n",
       "\n",
       "   sections  \n",
       "0        10  \n",
       "1         9  \n",
       "2         9  \n",
       "3         7  \n",
       "4         8  "
      ]
     },
     "execution_count": 76,
     "metadata": {},
     "output_type": "execute_result"
    }
   ],
   "source": [
    "x_not_scaled.head()"
   ]
  },
  {
   "cell_type": "code",
   "execution_count": 98,
   "metadata": {},
   "outputs": [
    {
     "data": {
      "text/html": [
       "<div>\n",
       "<style scoped>\n",
       "    .dataframe tbody tr th:only-of-type {\n",
       "        vertical-align: middle;\n",
       "    }\n",
       "\n",
       "    .dataframe tbody tr th {\n",
       "        vertical-align: top;\n",
       "    }\n",
       "\n",
       "    .dataframe thead th {\n",
       "        text-align: right;\n",
       "    }\n",
       "</style>\n",
       "<table border=\"1\" class=\"dataframe\">\n",
       "  <thead>\n",
       "    <tr style=\"text-align: right;\">\n",
       "      <th></th>\n",
       "      <th>danceability</th>\n",
       "      <th>energy</th>\n",
       "      <th>key</th>\n",
       "      <th>loudness</th>\n",
       "      <th>speechiness</th>\n",
       "      <th>acousticness</th>\n",
       "      <th>instrumentalness</th>\n",
       "      <th>liveness</th>\n",
       "      <th>valence</th>\n",
       "      <th>tempo</th>\n",
       "      <th>duration_ms</th>\n",
       "      <th>chorus_hit</th>\n",
       "      <th>sections</th>\n",
       "    </tr>\n",
       "  </thead>\n",
       "  <tbody>\n",
       "    <tr>\n",
       "      <td>0</td>\n",
       "      <td>0.904492</td>\n",
       "      <td>-0.173477</td>\n",
       "      <td>-1.187910</td>\n",
       "      <td>0.528028</td>\n",
       "      <td>-0.096880</td>\n",
       "      <td>-0.663479</td>\n",
       "      <td>-0.518629</td>\n",
       "      <td>-0.685583</td>\n",
       "      <td>1.067177</td>\n",
       "      <td>-0.479975</td>\n",
       "      <td>-0.563016</td>\n",
       "      <td>0.008096</td>\n",
       "      <td>-0.083827</td>\n",
       "    </tr>\n",
       "    <tr>\n",
       "      <td>1</td>\n",
       "      <td>-0.634069</td>\n",
       "      <td>-1.748034</td>\n",
       "      <td>-0.078628</td>\n",
       "      <td>-1.350966</td>\n",
       "      <td>-0.652340</td>\n",
       "      <td>2.203658</td>\n",
       "      <td>2.035409</td>\n",
       "      <td>-0.614556</td>\n",
       "      <td>-0.788318</td>\n",
       "      <td>1.110238</td>\n",
       "      <td>-0.698634</td>\n",
       "      <td>-0.401055</td>\n",
       "      <td>-0.348677</td>\n",
       "    </tr>\n",
       "    <tr>\n",
       "      <td>2</td>\n",
       "      <td>-0.095050</td>\n",
       "      <td>-1.050078</td>\n",
       "      <td>1.030655</td>\n",
       "      <td>0.197318</td>\n",
       "      <td>-0.473358</td>\n",
       "      <td>-0.188431</td>\n",
       "      <td>-0.518629</td>\n",
       "      <td>-0.533899</td>\n",
       "      <td>-0.690660</td>\n",
       "      <td>1.665640</td>\n",
       "      <td>-0.364838</td>\n",
       "      <td>0.197425</td>\n",
       "      <td>-0.348677</td>\n",
       "    </tr>\n",
       "    <tr>\n",
       "      <td>3</td>\n",
       "      <td>-0.346243</td>\n",
       "      <td>-0.082078</td>\n",
       "      <td>-1.465231</td>\n",
       "      <td>0.361431</td>\n",
       "      <td>-0.466158</td>\n",
       "      <td>-0.713578</td>\n",
       "      <td>-0.518629</td>\n",
       "      <td>0.043942</td>\n",
       "      <td>-0.621486</td>\n",
       "      <td>-1.022510</td>\n",
       "      <td>-0.509880</td>\n",
       "      <td>-0.587878</td>\n",
       "      <td>-0.878378</td>\n",
       "    </tr>\n",
       "    <tr>\n",
       "      <td>4</td>\n",
       "      <td>1.249884</td>\n",
       "      <td>0.910848</td>\n",
       "      <td>-1.187910</td>\n",
       "      <td>0.706471</td>\n",
       "      <td>1.820486</td>\n",
       "      <td>-0.718025</td>\n",
       "      <td>-0.518629</td>\n",
       "      <td>1.169529</td>\n",
       "      <td>1.368288</td>\n",
       "      <td>1.278709</td>\n",
       "      <td>-1.079761</td>\n",
       "      <td>-0.819552</td>\n",
       "      <td>-0.613527</td>\n",
       "    </tr>\n",
       "  </tbody>\n",
       "</table>\n",
       "</div>"
      ],
      "text/plain": [
       "   danceability    energy       key  loudness  speechiness  acousticness  \\\n",
       "0      0.904492 -0.173477 -1.187910  0.528028    -0.096880     -0.663479   \n",
       "1     -0.634069 -1.748034 -0.078628 -1.350966    -0.652340      2.203658   \n",
       "2     -0.095050 -1.050078  1.030655  0.197318    -0.473358     -0.188431   \n",
       "3     -0.346243 -0.082078 -1.465231  0.361431    -0.466158     -0.713578   \n",
       "4      1.249884  0.910848 -1.187910  0.706471     1.820486     -0.718025   \n",
       "\n",
       "   instrumentalness  liveness   valence     tempo  duration_ms  chorus_hit  \\\n",
       "0         -0.518629 -0.685583  1.067177 -0.479975    -0.563016    0.008096   \n",
       "1          2.035409 -0.614556 -0.788318  1.110238    -0.698634   -0.401055   \n",
       "2         -0.518629 -0.533899 -0.690660  1.665640    -0.364838    0.197425   \n",
       "3         -0.518629  0.043942 -0.621486 -1.022510    -0.509880   -0.587878   \n",
       "4         -0.518629  1.169529  1.368288  1.278709    -1.079761   -0.819552   \n",
       "\n",
       "   sections  \n",
       "0 -0.083827  \n",
       "1 -0.348677  \n",
       "2 -0.348677  \n",
       "3 -0.878378  \n",
       "4 -0.613527  "
      ]
     },
     "execution_count": 98,
     "metadata": {},
     "output_type": "execute_result"
    }
   ],
   "source": [
    "frame = pd.DataFrame(x, columns = x_not_scaled.columns)\n",
    "frame.head()"
   ]
  }
 ],
 "metadata": {
  "kernelspec": {
   "display_name": "Python 3",
   "language": "python",
   "name": "python3"
  },
  "language_info": {
   "codemirror_mode": {
    "name": "ipython",
    "version": 3
   },
   "file_extension": ".py",
   "mimetype": "text/x-python",
   "name": "python",
   "nbconvert_exporter": "python",
   "pygments_lexer": "ipython3",
   "version": "3.7.4"
  }
 },
 "nbformat": 4,
 "nbformat_minor": 2
}
