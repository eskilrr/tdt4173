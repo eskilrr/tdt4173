{
 "cells": [
  {
   "cell_type": "code",
   "execution_count": 37,
   "metadata": {},
   "outputs": [],
   "source": [
    "from datetime import datetime\n",
    "import spotipy\n",
    "import billboard\n",
    "import time\n",
    "\n",
    "from sklearn.ensemble import RandomForestClassifier\n",
    "from sklearn.model_selection import train_test_split\n",
    "import time\n",
    "import pandas as pd\n",
    "import numpy as np\n",
    "from spotipy.oauth2 import SpotifyClientCredentials\n",
    "cid = \"b3c5b350c6cb43c2bdb403eb3b896eba\"\n",
    "secret = \"fa1aa37ba9c943d3b4e2cadc8fd4818f\"\n",
    "client_credentials_manager = SpotifyClientCredentials(client_id=cid, client_secret=secret)\n",
    "sp = spotipy.Spotify(client_credentials_manager=client_credentials_manager)\n"
   ]
  },
  {
   "cell_type": "code",
   "execution_count": 87,
   "metadata": {},
   "outputs": [],
   "source": [
    "hit_data = pd.read_csv(r'C:\\Users\\eskil\\PycharmProjects\\tdt4173\\Data\\CSV-files\\OLD_FILES\\billboard-data.csv')\n",
    "hit_data['name'] = hit_data['name'].str.lower()\n",
    "#hit_data.head(30)\n",
    "#hit_data.loc[hit_data['name'] == 'drunk face']"
   ]
  },
  {
   "cell_type": "code",
   "execution_count": 74,
   "metadata": {},
   "outputs": [
    {
     "name": "stdout",
     "output_type": "stream",
     "text": [
      "3k0YJnqMKRZb8swo86vCkq\n"
     ]
    }
   ],
   "source": [
    "id = getTrackIdFromBillboard(\"drunk face\", \"Machine Gun Kelly\")\n",
    "#id = getTrackIdFromBillboard2(\"drunk face\")\n",
    "print(id)"
   ]
  },
  {
   "cell_type": "code",
   "execution_count": 35,
   "metadata": {},
   "outputs": [
    {
     "name": "stdout",
     "output_type": "stream",
     "text": [
      "24kGoldn Featuring iann dior  :  Mood\n",
      "Ariana Grande  :  Positions\n",
      "Drake Featuring Lil Durk  :  Laugh Now Cry Later\n",
      "The Weeknd  :  Blinding Lights\n",
      "Gabby Barrett Featuring Charlie Puth  :  I Hope\n",
      "Jawsh 685 x Jason Derulo  :  Savage Love (Laxed - Siren Beat)\n",
      "Internet Money & Gunna Featuring Don Toliver & NAV  :  Lemonade\n",
      "Ariana Grande  :  34+35\n",
      "Bad Bunny & Jhay Cortez  :  Dakiti\n",
      "Cardi B Featuring Megan Thee Stallion  :  WAP\n",
      "Justin Bieber Featuring Chance The Rapper  :  Holy\n",
      "Pop Smoke Featuring Lil Baby & DaBaby  :  For The Night\n",
      "DaBaby Featuring Roddy Ricch  :  Rockstar\n",
      "Lewis Capaldi  :  Before You Go\n",
      "Chris Brown & Young Thug  :  Go Crazy\n",
      "BTS  :  Dynamite\n",
      "Harry Styles  :  Watermelon Sugar\n",
      "Luke Combs  :  Forever After All\n",
      "Ava Max  :  Kings & Queens\n",
      "Moneybagg Yo  :  Said Sum\n",
      "Justin Bieber & benny blanco  :  Lonely\n",
      "Kane Brown With Swae Lee & Khalid  :  Be Like That\n",
      "Morgan Wallen  :  More Than My Hometown\n",
      "Jack Harlow Featuring DaBaby, Tory Lanez & Lil Wayne  :  Whats Poppin\n",
      "surf mesa Featuring Emilee  :  ily\n",
      "AJR  :  Bang!\n",
      "Lee Brice  :  One Of Them Girls\n",
      "Jason Aldean  :  Got What I Got\n",
      "Dua Lipa Featuring DaBaby  :  Levitating\n",
      "Pop Smoke  :  What You Know Bout Love\n",
      "Juice WRLD x Marshmello  :  Come & Go\n",
      "Ariana Grande Featuring Doja Cat  :  Motive\n",
      "Shawn Mendes  :  Wonder\n",
      "Russell Dickerson  :  Love You Like I Used To\n",
      "Ariana Grande Featuring The Weeknd  :  Off The Table\n",
      "HARDY Featuring Lauren Alaina & Devin Dawson  :  One Beer\n",
      "Harry Styles  :  Adore You\n",
      "Parker McCollum  :  Pretty Heart\n",
      "Pop Smoke Featuring 50 Cent & Roddy Ricch  :  The Woo\n",
      "Ariana Grande  :  pov\n",
      "Luke Combs  :  Better Together\n",
      "Rod Wave Featuring ATR Son Son  :  Rags2Riches\n",
      "Ariana Grande  :  Just Like Magic\n",
      "SAINt JHN  :  Roses\n",
      "Sam Smith  :  Diamonds\n",
      "Blake Shelton Featuring Gwen Stefani  :  Happy Anywhere\n",
      "Ariana Grande  :  Shut Up\n",
      "Michael Jackson  :  Thriller\n",
      "Ariana Grande  :  Nasty\n",
      "Dua Lipa  :  Break My Heart\n",
      "Matt Stell  :  Everywhere But On\n",
      "Ariana Grande Featuring Ty Dolla $ign  :  Safety Net\n",
      "Pop Smoke Featuring Lil Tjay  :  Mood Swings\n",
      "Jack Harlow  :  Tyler Herro\n",
      "21 Savage & Metro Boomin Featuring Drake  :  Mr. Right Now\n",
      "Luke Combs  :  Lovin' On You\n",
      "Jameson Rodgers  :  Some Girls\n",
      "Dan + Shay  :  I Should Probably Go To Bed\n",
      "Travis Scott Featuring Young Thug & M.I.A.  :  Franchise\n",
      "Maluma  :  Hawai\n",
      "Tate McRae  :  You Broke Me First.\n",
      "DJ Khaled Featuring Drake  :  Popstar\n",
      "Ariana Grande  :  Six Thirty\n",
      "Chris Lane  :  Big, Big Plans\n",
      "Ariana Grande  :  My Hair\n",
      "Money Man Featuring Lil Baby  :  24\n",
      "Machine Gun Kelly X blackbear  :  My Ex's Best Friend\n",
      "Jon Pardi  :  Ain't Always The Cowboy\n",
      "Chris Stapleton  :  Starting Over\n",
      "Ariana Grande  :  Obvious\n",
      "Ariana Grande  :  West Side\n",
      "Morgan Wallen  :  7 Summers\n",
      "Juice WRLD  :  Wishing Well\n",
      "Ne-Yo & Jeremih  :  U 2 Luv\n",
      "Ariana Grande  :  Love Language\n",
      "Saweetie  :  Tap In\n",
      "Jhene Aiko Featuring H.E.R.  :  B.S.\n",
      "Megan Thee Stallion Featuring Young Thug  :  Don't Stop\n",
      "SZA Featuring Ty Dolla $ign  :  Hit Different\n",
      "Trippie Redd  :  Weeeeee\n",
      "Polo G  :  Martin & Gina\n",
      "Miley Cyrus  :  Midnight Sky\n",
      "21 Savage & Metro Boomin  :  Runnin\n",
      "Conan Gray  :  Heather\n",
      "Niko Moon  :  Good Time\n",
      "Harry Styles  :  Golden\n",
      "BRS Kash  :  Throat Baby (Go Baby)\n",
      "DaBaby  :  Practice\n",
      "Ritt Momney  :  Put Your Records On\n",
      "DaBaby Featuring Young Thug  :  Blind\n",
      "Sech, Daddy Yankee & J Balvin Featuring ROSALIA & Farruko  :  Relacion\n",
      "Lil Durk, 6LACK & Young Thug  :  Stay Down\n",
      "YoungBoy Never Broke Again  :  Kacey Talk\n",
      "Lady A  :  Champagne Night\n",
      "Kelsea Ballerini  :  Hole In The Bottle\n",
      "Kenny Chesney  :  Happy Does\n",
      "The Kid LAROI  :  So Done\n",
      "DJ Chose Featuring BeatKing  :  Thick\n",
      "Farruko  :  La Toxica\n",
      "Jason Derulo  :  Take You Dancing\n"
     ]
    }
   ],
   "source": [
    "chart = billboard.ChartData('hot-100')\n",
    "for entry in chart:\n",
    "    print(entry.artist + \"  :  \" + entry.title)"
   ]
  },
  {
   "cell_type": "code",
   "execution_count": 39,
   "metadata": {},
   "outputs": [],
   "source": [
    "def getTrackIDs(user, playlist_id):\n",
    "    ids = []\n",
    "    playlist = sp.user_playlist(user, playlist_id)\n",
    "    for item in playlist['tracks']['items']:\n",
    "        track = item['track']\n",
    "        ids.append(track['id'])\n",
    "    return ids"
   ]
  },
  {
   "cell_type": "code",
   "execution_count": null,
   "metadata": {},
   "outputs": [],
   "source": [
    "def getTrackIDsFromAlbum(album_id):\n",
    "    ids2 = []\n",
    "    #playlist = sp.user_playlist(user, playlist_id)\n",
    "    album = sp.album(album_id)\n",
    "    for item in album['tracks']['items']:\n",
    "        ids2.append(item['id'])\n",
    "    return ids2"
   ]
  },
  {
   "cell_type": "code",
   "execution_count": 40,
   "metadata": {},
   "outputs": [],
   "source": [
    "def getTrackFeatures(id):\n",
    "      meta = sp.track(id)\n",
    "      features = sp.audio_features(id)\n",
    "\n",
    "      # meta\n",
    "      song_id = id\n",
    "      name = meta['name']\n",
    "      artist = meta['album']['artists'][0]['name']\n",
    "      length = meta['duration_ms']\n",
    "      popularity = meta['popularity']\n",
    "      release_date = meta['album']['release_date']\n",
    "\n",
    "      # features\n",
    "      acousticness = features[0]['acousticness']\n",
    "      danceability = features[0]['danceability']\n",
    "      energy = features[0]['energy']\n",
    "      instrumentalness = features[0]['instrumentalness']\n",
    "      liveness = features[0]['liveness']\n",
    "      loudness = features[0]['loudness']\n",
    "      speechiness = features[0]['speechiness']\n",
    "      tempo = features[0]['tempo']\n",
    "      time_signature = features[0]['time_signature']\n",
    "      valence = features[0]['valence']\n",
    "      mode = features[0]['mode']\n",
    "      weeks = 1\n",
    "      chart_date = 1\n",
    "      target = 1\n",
    "\n",
    "      track = {\"name\" : name, \"artist\" : artist, \"song_id\" : song_id, \"length\" : length, \"popularity\" : popularity, \n",
    "               \"danceability\" : danceability, \"acousticness\" : acousticness, \"energy\" : energy, \"instrumentalness\" : instrumentalness, \n",
    "               \"liveness\" : liveness, \"loudness\" : loudness, \"speechiness\" : speechiness, \"tempo\" : tempo, \"time_signature\" : time_signature, \n",
    "               \"valence\" : valence, \"mode\" : mode, \"weeks\" : weeks, \"chart_date\" : chart_date, \"release_date\" : release_date, \"target\" : target}\n",
    "      return track"
   ]
  },
  {
   "cell_type": "code",
   "execution_count": 57,
   "metadata": {},
   "outputs": [],
   "source": [
    "def getTrackIdFromBillboard(name, artist):\n",
    "    results = sp.search(q=\"track:\" + name + \" artist:\" + artist)\n",
    "    items = results[\"tracks\"][\"items\"]\n",
    "    id = \"NONE\"\n",
    "    if (len(items) > 0):\n",
    "        id = items[0][\"id\"]\n",
    "    return id"
   ]
  },
  {
   "cell_type": "code",
   "execution_count": 76,
   "metadata": {},
   "outputs": [],
   "source": [
    "def getTrackIdFromBillboard2(name):\n",
    "    results = sp.search(q=\"track:\" + name)\n",
    "    items = results[\"tracks\"][\"items\"]\n",
    "    id = \"NONE\"\n",
    "    if (len(items) > 0):\n",
    "        id = items[0][\"id\"]\n",
    "    return id"
   ]
  },
  {
   "cell_type": "code",
   "execution_count": 88,
   "metadata": {},
   "outputs": [],
   "source": [
    "def getChartDataFrame2(chart, fullDataFrame):\n",
    "    tracks = []\n",
    "    for entry in chart.entries:\n",
    "        if (any (hit_data['name'] == entry.title.lower())):\n",
    "            continue\n",
    "        id = getTrackIdFromBillboard2(entry.title)\n",
    "        if (id != \"NONE\"):\n",
    "            #if (entry.artist in fullDataFrame.values) and (not any(dic['artist'] == entry.artist for dic in tracks)):\n",
    "                #fullDataFrame.loc[fullDataFrame['artist'] == entry.artist, 'weeks'] += 1\n",
    "            if (id not in fullDataFrame.values) and (entry.isNew):\n",
    "                track = getTrackFeatures(id)\n",
    "                track[\"chart_date\"] = datetime.strptime(chart.date, '%Y-%m-%d').date()\n",
    "                tracks.append(track)\n",
    "    df = pd.DataFrame(tracks)\n",
    "    fullDataFrame = fullDataFrame.append(df)\n",
    "    return fullDataFrame"
   ]
  },
  {
   "cell_type": "code",
   "execution_count": 31,
   "metadata": {},
   "outputs": [],
   "source": [
    "def getChartDataFrame(chart, fullDataFrame):\n",
    "    tracks = []\n",
    "    for entry in chart.entries:\n",
    "        #if (any (hit_data['name'] == entry.title)):\n",
    "            #continue\n",
    "        id = getTrackIdFromBillboard(entry.title, entry.artist)\n",
    "        if (id != \"NONE\"):\n",
    "            if (entry.artist in fullDataFrame.values) and (not any(dic['artist'] == entry.artist for dic in tracks)):\n",
    "                fullDataFrame.loc[fullDataFrame['artist'] == entry.artist, 'weeks'] += 1\n",
    "            if (id not in fullDataFrame.values) and (entry.isNew):\n",
    "                track = getTrackFeatures(id)\n",
    "                track[\"chart_date\"] = datetime.strptime(chart.date, '%Y-%m-%d').date()\n",
    "                tracks.append(track)\n",
    "    df = pd.DataFrame(tracks)\n",
    "    fullDataFrame = fullDataFrame.append(df)\n",
    "    return fullDataFrame"
   ]
  },
  {
   "cell_type": "code",
   "execution_count": 92,
   "metadata": {},
   "outputs": [],
   "source": [
    "def gatherBillboardData():\n",
    "    chart = billboard.ChartData('hot-100')\n",
    "    i = 0\n",
    "    fullDataFrame = pd.DataFrame(columns = ['name', 'artist', 'song_id', 'length', 'popularity', 'danceability', 'acousticness', 'energy', 'instrumentalness', 'liveness', 'loudness', 'speechiness', 'tempo', 'time_signature', 'valence', 'mode', 'weeks', 'release_date', 'chart_date'])\n",
    "    start = time.clock()\n",
    "    while (chart.previousDate):\n",
    "        #start = time.clock()\n",
    "        chart = billboard.ChartData('hot-100', chart.previousDate)\n",
    "        fullDataFrame = getChartDataFrame2(chart, fullDataFrame)\n",
    "        #end = time.clock()\n",
    "        #print(\"total time: \" + str(end-start))\n",
    "        i += 1\n",
    "        if (i == 950):\n",
    "            break\n",
    "        if (i == 250):\n",
    "            print(\"en firedel\")\n",
    "        if (i == 500):\n",
    "            print(\"halveis\")\n",
    "        if (i == 750):\n",
    "            print(\"tre firedel\")\n",
    "    end = time.clock()\n",
    "    print(\"total time: \" + str(end-start))\n",
    "    return fullDataFrame"
   ]
  },
  {
   "cell_type": "code",
   "execution_count": 97,
   "metadata": {},
   "outputs": [],
   "source": [
    "df.to_csv('flops_eskil')"
   ]
  },
  {
   "cell_type": "code",
   "execution_count": 93,
   "metadata": {},
   "outputs": [
    {
     "name": "stderr",
     "output_type": "stream",
     "text": [
      "C:\\Users\\eskil\\Anaconda3\\lib\\site-packages\\ipykernel_launcher.py:5: DeprecationWarning: time.clock has been deprecated in Python 3.3 and will be removed from Python 3.8: use time.perf_counter or time.process_time instead\n",
      "  \"\"\"\n"
     ]
    },
    {
     "name": "stdout",
     "output_type": "stream",
     "text": [
      "en firedel\n",
      "halveis\n",
      "tre firedel\n",
      "total time: 5988.7530541\n"
     ]
    },
    {
     "name": "stderr",
     "output_type": "stream",
     "text": [
      "C:\\Users\\eskil\\Anaconda3\\lib\\site-packages\\ipykernel_launcher.py:21: DeprecationWarning: time.clock has been deprecated in Python 3.3 and will be removed from Python 3.8: use time.perf_counter or time.process_time instead\n"
     ]
    }
   ],
   "source": [
    "df = gatherBillboardData()"
   ]
  }
 ],
 "metadata": {
  "kernelspec": {
   "display_name": "Python 3",
   "language": "python",
   "name": "python3"
  },
  "language_info": {
   "codemirror_mode": {
    "name": "ipython",
    "version": 3
   },
   "file_extension": ".py",
   "mimetype": "text/x-python",
   "name": "python",
   "nbconvert_exporter": "python",
   "pygments_lexer": "ipython3",
   "version": "3.7.4"
  }
 },
 "nbformat": 4,
 "nbformat_minor": 2
}
