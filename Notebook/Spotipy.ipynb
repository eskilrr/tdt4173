{
 "cells": [
  {
   "cell_type": "code",
   "execution_count": 1,
   "metadata": {},
   "outputs": [],
   "source": [
    "import spotipy\n",
    "import billboard\n",
    "import time\n",
    "\n",
    "from sklearn.ensemble import RandomForestClassifier\n",
    "from sklearn.model_selection import train_test_split\n",
    "import time\n",
    "import pandas as pd\n",
    "from spotipy.oauth2 import SpotifyClientCredentials\n",
    "cid = \"b3c5b350c6cb43c2bdb403eb3b896eba\"\n",
    "secret = \"fa1aa37ba9c943d3b4e2cadc8fd4818f\"\n",
    "client_credentials_manager = SpotifyClientCredentials(client_id=cid, client_secret=secret)\n",
    "sp = spotipy.Spotify(client_credentials_manager=client_credentials_manager)\n"
   ]
  },
  {
   "cell_type": "code",
   "execution_count": 2,
   "metadata": {},
   "outputs": [
    {
     "name": "stdout",
     "output_type": "stream",
     "text": [
      "100\n"
     ]
    }
   ],
   "source": [
    "def getTrackIDs(user, playlist_id):\n",
    "    ids = []\n",
    "    playlist = sp.user_playlist(user, playlist_id)\n",
    "    for item in playlist['tracks']['items']:\n",
    "        track = item['track']\n",
    "        ids.append(track['id'])\n",
    "    return ids\n",
    "ids = getTrackIDs('Billboard', '6UeSakyzhiEt4NB3UAd6NQ')\n",
    "print(len(ids))"
   ]
  },
  {
   "cell_type": "code",
   "execution_count": 4,
   "metadata": {},
   "outputs": [
    {
     "name": "stdout",
     "output_type": "stream",
     "text": [
      "20\n",
      "['7LJeCI3v09UtUq3ETKKpgX', '5ypnp8Gi7I9duNOHaWks1r', '6ueA3RMronnNPEGgURsn2S', '4UyqE0A2NfKkPYLTTKTDqL', '6vAB19HadQGdU8yyvKRihs', '42DuSc89cXlRFzaP99W0hp', '1fFUu73Zyida3IzpNsJly9', '4pCI9LrUmH1AbIPlHPIe96', '5F38kOsptiPOVpBidD31Jz', '5tI3QwCrI0B0UYdNv7UEqa', '1wnqPz25idlXzEgI9J0hYe', '7L5ClYxMAZlpM08HkU28ro', '5es0F8fWeGdG3v7AAq6dMs', '0CkVEkQjA7tf0aGJ1UKopa', '2pUlpG7uiDk7evGOgbOC30', '4wwr9OBUij06t2BvH8yeBI', '3PildhaquXx0YNtEywZQhE', '6SAyAS35hL10OeL0jY89hS', '3IF6W3Garp7Ewfhdc28pn9', '5n1h3oQb2jKmIgOccDkuOQ']\n"
     ]
    }
   ],
   "source": [
    "def getTrackIDsFromAlbum(album_id):\n",
    "    ids2 = []\n",
    "    #playlist = sp.user_playlist(user, playlist_id)\n",
    "    album = sp.album(album_id)\n",
    "    for item in album['tracks']['items']:\n",
    "        ids2.append(item['id'])\n",
    "    return ids2\n",
    "\n",
    "#ids2 = getTrackIDsFromAlbum('2Y9IRtehByVkegoD7TcLfi')\n",
    "ids2 = getTrackIDsFromAlbum('0RQwQQSoR4E74jfT47ATpC')\n",
    "print(len(ids2))\n",
    "print(ids2)"
   ]
  },
  {
   "cell_type": "code",
   "execution_count": 5,
   "metadata": {},
   "outputs": [],
   "source": [
    "def getTrackFeatures(id):\n",
    "  meta = sp.track(id)\n",
    "  features = sp.audio_features(id)\n",
    "\n",
    "  # meta\n",
    "  name = meta['name']\n",
    "  album = meta['album']['name']\n",
    "  artist = meta['album']['artists'][0]['name']\n",
    "  release_date = meta['album']['release_date']\n",
    "  length = meta['duration_ms']\n",
    "  popularity = meta['popularity']\n",
    "\n",
    "  # features\n",
    "  acousticness = features[0]['acousticness']\n",
    "  danceability = features[0]['danceability']\n",
    "  energy = features[0]['energy']\n",
    "  instrumentalness = features[0]['instrumentalness']\n",
    "  liveness = features[0]['liveness']\n",
    "  loudness = features[0]['loudness']\n",
    "  speechiness = features[0]['speechiness']\n",
    "  tempo = features[0]['tempo']\n",
    "  time_signature = features[0]['time_signature']\n",
    "\n",
    "  track = [name, album, artist, release_date, length, popularity, danceability, acousticness, danceability, energy, instrumentalness, liveness, loudness, speechiness, tempo, time_signature]\n",
    "  return track"
   ]
  },
  {
   "cell_type": "code",
   "execution_count": 6,
   "metadata": {},
   "outputs": [],
   "source": [
    "def getTrackIdFromBillboard(name):\n",
    "    results = sp.search(q=\"track:\" + name)\n",
    "    items = results[\"tracks\"][\"items\"]\n",
    "    id = \"NONE\"\n",
    "    if (len(items) > 0):\n",
    "        id = items[0][\"id\"]\n",
    "    return id"
   ]
  },
  {
   "cell_type": "code",
   "execution_count": 7,
   "metadata": {},
   "outputs": [],
   "source": [
    "def getChartDataFrame(chart):\n",
    "    start1 = time.process_time()\n",
    "    tracks = []\n",
    "    for entry in chart.entries:\n",
    "        id = getTrackIdFromBillboard(entry.title)\n",
    "        if (id != \"NONE\"):\n",
    "            track = getTrackFeatures(id)\n",
    "            tracks.append(track)\n",
    "    end1 = time.process_time()\n",
    "    print(\"time to get billboard_chart: \" + str(end1 - start1))\n",
    "    start2 = time.process_time()\n",
    "    df = pd.DataFrame(tracks, columns = ['name', 'album', 'artist', 'release_date', 'length', 'popularity', 'danceability', 'acousticness', 'danceability', 'energy', 'instrumentalness', 'liveness', 'loudness', 'speechiness', 'tempo', 'time_signature'])\n",
    "    end2 = time.process_time()\n",
    "    print(\"time to insert tracks into dataframe: \" + str(end2 - start2))\n",
    "    return df\n"
   ]
  },
  {
   "cell_type": "code",
   "execution_count": 9,
   "metadata": {},
   "outputs": [],
   "source": [
    "def gatherBillboardData():\n",
    "    chart = billboard.ChartData('hot-100')\n",
    "    i = 0\n",
    "    charts = []\n",
    "    newDataFrame = pd.DataFrame()\n",
    "    while (chart.previousDate):\n",
    "        chart = billboard.ChartData('hot-100', chart.previousDate)\n",
    "        dataFrame = getChartDataFrame(chart)\n",
    "        newDataFrame = newDataFrame.append(dataFrame)\n",
    "        i += 1\n",
    "        if (i == 1):\n",
    "            break\n",
    "    return newDataFrame"
   ]
  },
  {
   "cell_type": "code",
   "execution_count": 10,
   "metadata": {},
   "outputs": [
    {
     "name": "stderr",
     "output_type": "stream",
     "text": [
      "C:\\Users\\eskil\\Anaconda3\\lib\\site-packages\\ipykernel_launcher.py:2: DeprecationWarning: time.clock has been deprecated in Python 3.3 and will be removed from Python 3.8: use time.perf_counter or time.process_time instead\n",
      "  \n"
     ]
    },
    {
     "name": "stdout",
     "output_type": "stream",
     "text": [
      "time to get billboard_chart: 2.671875\n",
      "time to insert tracks into dataframe: 0.0\n",
      "99\n",
      "total time elapsed using process_time: 4.609375\n",
      "total time elapsed using clock:        33.52912070000002\n"
     ]
    },
    {
     "name": "stderr",
     "output_type": "stream",
     "text": [
      "C:\\Users\\eskil\\Anaconda3\\lib\\site-packages\\ipykernel_launcher.py:5: DeprecationWarning: time.clock has been deprecated in Python 3.3 and will be removed from Python 3.8: use time.perf_counter or time.process_time instead\n",
      "  \"\"\"\n"
     ]
    }
   ],
   "source": [
    "start1 = time.process_time()\n",
    "start2 = time.clock()\n",
    "dataFrame = gatherBillboardData()\n",
    "end1 = time.process_time()\n",
    "end2 = time.clock()\n",
    "\n",
    "elapsed1 = end1 - start1\n",
    "elapsed2 = end2 - start2\n",
    "print(len(dataFrame))\n",
    "print(\"total time elapsed using process_time: \" + str(elapsed1))\n",
    "print(\"total time elapsed using clock:        \" + str(elapsed2))\n",
    "\n",
    "\n",
    "\n"
   ]
  },
  {
   "cell_type": "code",
   "execution_count": null,
   "metadata": {},
   "outputs": [],
   "source": [
    "start = time.process_time()\n",
    "morn = dataFrame.drop_duplicates()\n",
    "end = time.process_time()\n",
    "print(len(morn))\n",
    "print(\"elapsed time was: \" + str(end - start))"
   ]
  },
  {
   "cell_type": "code",
   "execution_count": 11,
   "metadata": {},
   "outputs": [
    {
     "data": {
      "text/html": [
       "<div>\n",
       "<style scoped>\n",
       "    .dataframe tbody tr th:only-of-type {\n",
       "        vertical-align: middle;\n",
       "    }\n",
       "\n",
       "    .dataframe tbody tr th {\n",
       "        vertical-align: top;\n",
       "    }\n",
       "\n",
       "    .dataframe thead th {\n",
       "        text-align: right;\n",
       "    }\n",
       "</style>\n",
       "<table border=\"1\" class=\"dataframe\">\n",
       "  <thead>\n",
       "    <tr style=\"text-align: right;\">\n",
       "      <th></th>\n",
       "      <th>name</th>\n",
       "      <th>album</th>\n",
       "      <th>artist</th>\n",
       "      <th>release_date</th>\n",
       "      <th>length</th>\n",
       "      <th>popularity</th>\n",
       "      <th>danceability</th>\n",
       "      <th>acousticness</th>\n",
       "      <th>danceability</th>\n",
       "      <th>energy</th>\n",
       "      <th>instrumentalness</th>\n",
       "      <th>liveness</th>\n",
       "      <th>loudness</th>\n",
       "      <th>speechiness</th>\n",
       "      <th>tempo</th>\n",
       "      <th>time_signature</th>\n",
       "    </tr>\n",
       "  </thead>\n",
       "  <tbody>\n",
       "    <tr>\n",
       "      <td>0</td>\n",
       "      <td>Savage Love (Laxed - Siren Beat)</td>\n",
       "      <td>Savage Love (Laxed - Siren Beat)</td>\n",
       "      <td>Jawsh 685</td>\n",
       "      <td>2020-06-11</td>\n",
       "      <td>171374</td>\n",
       "      <td>93</td>\n",
       "      <td>0.767</td>\n",
       "      <td>0.2340</td>\n",
       "      <td>0.767</td>\n",
       "      <td>0.481</td>\n",
       "      <td>0.000000</td>\n",
       "      <td>0.2690</td>\n",
       "      <td>-8.520</td>\n",
       "      <td>0.0803</td>\n",
       "      <td>150.076</td>\n",
       "      <td>4</td>\n",
       "    </tr>\n",
       "    <tr>\n",
       "      <td>1</td>\n",
       "      <td>Dynamite</td>\n",
       "      <td>Dynamite (DayTime Version)</td>\n",
       "      <td>BTS</td>\n",
       "      <td>2020-08-28</td>\n",
       "      <td>199053</td>\n",
       "      <td>97</td>\n",
       "      <td>0.746</td>\n",
       "      <td>0.0112</td>\n",
       "      <td>0.746</td>\n",
       "      <td>0.765</td>\n",
       "      <td>0.000000</td>\n",
       "      <td>0.0936</td>\n",
       "      <td>-4.410</td>\n",
       "      <td>0.0993</td>\n",
       "      <td>114.044</td>\n",
       "      <td>4</td>\n",
       "    </tr>\n",
       "    <tr>\n",
       "      <td>2</td>\n",
       "      <td>WAP (feat. Megan Thee Stallion)</td>\n",
       "      <td>WAP (feat. Megan Thee Stallion)</td>\n",
       "      <td>Cardi B</td>\n",
       "      <td>2020-08-07</td>\n",
       "      <td>187541</td>\n",
       "      <td>98</td>\n",
       "      <td>0.935</td>\n",
       "      <td>0.0194</td>\n",
       "      <td>0.935</td>\n",
       "      <td>0.454</td>\n",
       "      <td>0.000000</td>\n",
       "      <td>0.0824</td>\n",
       "      <td>-7.509</td>\n",
       "      <td>0.3750</td>\n",
       "      <td>133.073</td>\n",
       "      <td>4</td>\n",
       "    </tr>\n",
       "    <tr>\n",
       "      <td>3</td>\n",
       "      <td>Mood (feat. iann dior)</td>\n",
       "      <td>Mood (feat. iann dior)</td>\n",
       "      <td>24kGoldn</td>\n",
       "      <td>2020-07-24</td>\n",
       "      <td>140525</td>\n",
       "      <td>100</td>\n",
       "      <td>0.700</td>\n",
       "      <td>0.2210</td>\n",
       "      <td>0.700</td>\n",
       "      <td>0.722</td>\n",
       "      <td>0.000000</td>\n",
       "      <td>0.2720</td>\n",
       "      <td>-3.558</td>\n",
       "      <td>0.0369</td>\n",
       "      <td>90.989</td>\n",
       "      <td>4</td>\n",
       "    </tr>\n",
       "    <tr>\n",
       "      <td>4</td>\n",
       "      <td>Laugh Now Cry Later (feat. Lil Durk)</td>\n",
       "      <td>Laugh Now Cry Later (feat. Lil Durk)</td>\n",
       "      <td>Drake</td>\n",
       "      <td>2020-08-14</td>\n",
       "      <td>261492</td>\n",
       "      <td>95</td>\n",
       "      <td>0.761</td>\n",
       "      <td>0.2440</td>\n",
       "      <td>0.761</td>\n",
       "      <td>0.518</td>\n",
       "      <td>0.000035</td>\n",
       "      <td>0.1070</td>\n",
       "      <td>-8.871</td>\n",
       "      <td>0.1340</td>\n",
       "      <td>133.976</td>\n",
       "      <td>4</td>\n",
       "    </tr>\n",
       "  </tbody>\n",
       "</table>\n",
       "</div>"
      ],
      "text/plain": [
       "                                   name                                 album  \\\n",
       "0      Savage Love (Laxed - Siren Beat)      Savage Love (Laxed - Siren Beat)   \n",
       "1                              Dynamite            Dynamite (DayTime Version)   \n",
       "2       WAP (feat. Megan Thee Stallion)       WAP (feat. Megan Thee Stallion)   \n",
       "3                Mood (feat. iann dior)                Mood (feat. iann dior)   \n",
       "4  Laugh Now Cry Later (feat. Lil Durk)  Laugh Now Cry Later (feat. Lil Durk)   \n",
       "\n",
       "      artist release_date  length  popularity  danceability  acousticness  \\\n",
       "0  Jawsh 685   2020-06-11  171374          93         0.767        0.2340   \n",
       "1        BTS   2020-08-28  199053          97         0.746        0.0112   \n",
       "2    Cardi B   2020-08-07  187541          98         0.935        0.0194   \n",
       "3   24kGoldn   2020-07-24  140525         100         0.700        0.2210   \n",
       "4      Drake   2020-08-14  261492          95         0.761        0.2440   \n",
       "\n",
       "   danceability  energy  instrumentalness  liveness  loudness  speechiness  \\\n",
       "0         0.767   0.481          0.000000    0.2690    -8.520       0.0803   \n",
       "1         0.746   0.765          0.000000    0.0936    -4.410       0.0993   \n",
       "2         0.935   0.454          0.000000    0.0824    -7.509       0.3750   \n",
       "3         0.700   0.722          0.000000    0.2720    -3.558       0.0369   \n",
       "4         0.761   0.518          0.000035    0.1070    -8.871       0.1340   \n",
       "\n",
       "     tempo  time_signature  \n",
       "0  150.076               4  \n",
       "1  114.044               4  \n",
       "2  133.073               4  \n",
       "3   90.989               4  \n",
       "4  133.976               4  "
      ]
     },
     "execution_count": 11,
     "metadata": {},
     "output_type": "execute_result"
    }
   ],
   "source": [
    "dataFrame.head()"
   ]
  }
 ],
 "metadata": {
  "kernelspec": {
   "display_name": "Python 3",
   "language": "python",
   "name": "python3"
  },
  "language_info": {
   "codemirror_mode": {
    "name": "ipython",
    "version": 3
   },
   "file_extension": ".py",
   "mimetype": "text/x-python",
   "name": "python",
   "nbconvert_exporter": "python",
   "pygments_lexer": "ipython3",
   "version": "3.7.4"
  }
 },
 "nbformat": 4,
 "nbformat_minor": 2
}
