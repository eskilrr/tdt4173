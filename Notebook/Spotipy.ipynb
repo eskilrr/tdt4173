{
 "cells": [
  {
   "cell_type": "code",
   "execution_count": 60,
   "metadata": {},
   "outputs": [
    {
     "ename": "SyntaxError",
     "evalue": "invalid syntax (SpotipyAPITest.py, line 102)",
     "output_type": "error",
     "traceback": [
      "Traceback \u001B[0;36m(most recent call last)\u001B[0m:\n",
      "  File \u001B[1;32m\"/Users/eivindrebnord/Jottacloud/Datatek/H20/TDT4173 ML/spotify/venv/lib/python3.9/site-packages/IPython/core/interactiveshell.py\"\u001B[0m, line \u001B[1;32m3417\u001B[0m, in \u001B[1;35mrun_code\u001B[0m\n    exec(code_obj, self.user_global_ns, self.user_ns)\n",
      "\u001B[0;36m  File \u001B[0;32m\"<ipython-input-60-796566f20170>\"\u001B[0;36m, line \u001B[0;32m5\u001B[0;36m, in \u001B[0;35m<module>\u001B[0;36m\u001B[0m\n\u001B[0;31m    import SpotipyAPITest as spot\u001B[0m\n",
      "\u001B[0;36m  File \u001B[0;32m\"/Users/eivindrebnord/Development/tdt4173/SpotipyAPITest.py\"\u001B[0;36m, line \u001B[0;32m102\u001B[0m\n\u001B[0;31m    \"chart_date\": \"\", \"popularity\": popularity, \"release_date\": release_date, 0, artist_popularity, artist_followers, number_of_artists,\u001B[0m\n\u001B[0m                                                                               ^\u001B[0m\n\u001B[0;31mSyntaxError\u001B[0m\u001B[0;31m:\u001B[0m invalid syntax\n"
     ]
    }
   ],
   "source": [
    "from datetime import datetime\n",
    "import spotipy\n",
    "import billboard\n",
    "import re\n",
    "import SpotipyAPITest as spot\n",
    "#from sklearn.ensemble import RandomForestClassifier\n",
    "#from sklearn.model_selection import train_test_split\n",
    "import time\n",
    "import pandas as pd\n",
    "#import numpy as np\n",
    "from spotipy.oauth2 import SpotifyClientCredentials\n",
    "cid = \"b3c5b350c6cb43c2bdb403eb3b896eba\"\n",
    "secret = \"fa1aa37ba9c943d3b4e2cadc8fd4818f\"\n",
    "client_credentials_manager = SpotifyClientCredentials(client_id=cid, client_secret=secret)\n",
    "sp = spotipy.Spotify(client_credentials_manager=client_credentials_manager)\n"
   ]
  },
  {
   "cell_type": "code",
   "execution_count": null,
   "metadata": {},
   "outputs": [],
   "source": [
    "def getTrackIDs(user, playlist_id):\n",
    "    ids = []\n",
    "    playlist = sp.user_playlist(user, playlist_id)\n",
    "    for item in playlist['tracks']['items']:\n",
    "        track = item['track']\n",
    "        ids.append(track['id'])\n",
    "    return ids"
   ]
  },
  {
   "cell_type": "code",
   "execution_count": null,
   "metadata": {},
   "outputs": [],
   "source": [
    "def getTrackIDsFromAlbum(album_id):\n",
    "    ids2 = []\n",
    "    #playlist = sp.user_playlist(user, playlist_id)\n",
    "    album = sp.album(album_id)\n",
    "    for item in album['tracks']['items']:\n",
    "        ids2.append(item['id'])\n",
    "    return ids2"
   ]
  },
  {
   "cell_type": "code",
   "execution_count": null,
   "metadata": {},
   "outputs": [],
   "source": [
    "def getTrackFeatures(id):\n",
    "      meta = sp.track(id)\n",
    "      features = sp.audio_features(id)\n",
    "\n",
    "      # meta\n",
    "      song_id = id\n",
    "      name = meta['name']\n",
    "      artist = meta['album']['artists'][0]['name']\n",
    "      length = meta['duration_ms']\n",
    "      popularity = meta['popularity']\n",
    "      release_date = meta['album']['release_date']\n",
    "\n",
    "      # features\n",
    "      acousticness = features[0]['acousticness']\n",
    "      danceability = features[0]['danceability']\n",
    "      energy = features[0]['energy']\n",
    "      instrumentalness = features[0]['instrumentalness']\n",
    "      liveness = features[0]['liveness']\n",
    "      loudness = features[0]['loudness']\n",
    "      speechiness = features[0]['speechiness']\n",
    "      tempo = features[0]['tempo']\n",
    "      time_signature = features[0]['time_signature']\n",
    "      valence = features[0]['valence']\n",
    "      mode = features[0]['mode']\n",
    "      weeks = 1\n",
    "      chart_date = 1\n",
    "      target = 1\n",
    "\n",
    "      track = {\"name\" : name, \"artist\" : artist, \"song_id\" : song_id, \"length\" : length, \"popularity\" : popularity, \n",
    "               \"danceability\" : danceability, \"acousticness\" : acousticness, \"energy\" : energy, \"instrumentalness\" : instrumentalness, \n",
    "               \"liveness\" : liveness, \"loudness\" : loudness, \"speechiness\" : speechiness, \"tempo\" : tempo, \"time_signature\" : time_signature, \n",
    "               \"valence\" : valence, \"mode\" : mode, \"weeks\" : weeks, \"chart_date\" : chart_date, \"release_date\" : release_date, \"target\" : target}\n",
    "      return track"
   ]
  },
  {
   "cell_type": "code",
   "execution_count": null,
   "metadata": {},
   "outputs": [],
   "source": [
    "def getTrackIdFromBillboard(name, artist):\n",
    "    results = sp.search(q=\"track:\" + name + \" artist:\" + artist)\n",
    "    items = results[\"tracks\"][\"items\"]\n",
    "    id = \"NONE\"\n",
    "    if (len(items) > 0):\n",
    "        id = items[0][\"id\"]\n",
    "    return id"
   ]
  },
  {
   "cell_type": "code",
   "execution_count": null,
   "metadata": {},
   "outputs": [],
   "source": [
    "def getChartDataFrame(chart, fullDataFrame):\n",
    "    tracks = []\n",
    "    for entry in chart.entries:\n",
    "        print(entry.title)\n",
    "        artists = re.split(' & | x | Featuring | With |, ', str(entry.artist).replace(entry.title + \" \", \"\"))\n",
    "        print(artists)\n",
    "        id = getTrackIdFromBillboard(entry.title, artists[0])\n",
    "\n",
    "        if (id != \"NONE\"):\n",
    "            if (entry.artist in fullDataFrame.values) and (not any(dic['artist'] == entry.artist for dic in tracks)):\n",
    "                fullDataFrame.loc[fullDataFrame['artist'] == entry.artist, 'weeks'] += 1\n",
    "            if (id not in fullDataFrame.values) and (entry.isNew):\n",
    "                track = spot.getTrackFeatures(id)\n",
    "                track[\"chart_date\"] = datetime.strptime(chart.date, '%Y-%m-%d').date()\n",
    "                tracks.append(track)\n",
    "    df = pd.DataFrame(tracks)\n",
    "    fullDataFrame = fullDataFrame.append(df)\n",
    "    return fullDataFrame"
   ]
  },
  {
   "cell_type": "code",
   "execution_count": null,
   "metadata": {},
   "outputs": [],
   "source": [
    "def gatherBillboardData():\n",
    "    chart = billboard.ChartData('hot-100')\n",
    "    i = 0\n",
    "    fullDataFrame = pd.DataFrame(columns = [\"name\", \"artist\", \"song_id\", \"danceability\", \"energy\",\n",
    "                                                             \"loudness\", \"mode\", \"speechiness\", \"acousticness\",\n",
    "                                                             \"instrumentalness\", \"liveness\", \"valence\", \"tempo\",\n",
    "                                                             \"duration_ms\", \"time_signature\", \"sections\",\n",
    "                                                             \"target\", \"chart_date\", \"popularity\", \"release_date\",\n",
    "                                                             \"weeks\", \"artist_popularity\", \"artist_followers\",\n",
    "                                                             \"number_of_artists\", \"list_of_artists\", \"key\"])\n",
    "    start = time.time()\n",
    "    while (chart.previousDate):\n",
    "        #start = time.clock()\n",
    "        print(chart)\n",
    "        fullDataFrame = getChartDataFrame(chart, fullDataFrame)\n",
    "        chart = billboard.ChartData('hot-100', chart.previousDate)\n",
    "        #end = time.clock()\n",
    "        #print(\"total time: \" + str(end-start))\n",
    "        i += 1\n",
    "        if (i == 1): #was 960\n",
    "            break\n",
    "        if (i == 480):\n",
    "            print(\"halveis\")\n",
    "    end = time.time()\n",
    "    print(\"total time: \" + str(end-start))\n",
    "    return fullDataFrame\n",
    "from pathlib import Path\n",
    "data_folder = Path(\"CSV-files\")\n",
    "writeFile = \"billboardv2.csv\"\n",
    "writePath = data_folder / writeFile"
   ]
  },
  {
   "cell_type": "code",
   "execution_count": null,
   "metadata": {},
   "outputs": [],
   "source": [
    "df = gatherBillboardData()\n",
    "#print(df)\n",
    "df.to_csv(writeFile, index=False, header=True, columns=[\"name\", \"artist\", \"song_id\", \"danceability\", \"energy\",\n",
    "                                                             \"loudness\", \"mode\", \"speechiness\", \"acousticness\",\n",
    "                                                             \"instrumentalness\", \"liveness\", \"valence\", \"tempo\",\n",
    "                                                             \"duration_ms\", \"time_signature\", \"sections\",\n",
    "                                                             \"target\", \"chart_date\", \"popularity\", \"release_date\",\n",
    "                                                             \"weeks\", \"artist_popularity\", \"artist_followers\",\n",
    "                                                             \"number_of_artists\", \"list_of_artists\", \"key\"])\n",
    "#dataFrame.head(40)\n",
    "#print(len(dataFrame))\n",
    "#date1 = datetime.strptime('2020-10-17', '%Y-%m-%d').date()\n",
    "#dataFrame.loc[(dataFrame['artist'] == '')]\n"
   ]
  }
 ],
 "metadata": {
  "kernelspec": {
   "display_name": "Python 3",
   "language": "python",
   "name": "python3"
  },
  "language_info": {
   "codemirror_mode": {
    "name": "ipython",
    "version": 3
   },
   "file_extension": ".py",
   "mimetype": "text/x-python",
   "name": "python",
   "nbconvert_exporter": "python",
   "pygments_lexer": "ipython3",
   "version": "3.9.0"
  }
 },
 "nbformat": 4,
 "nbformat_minor": 2
}